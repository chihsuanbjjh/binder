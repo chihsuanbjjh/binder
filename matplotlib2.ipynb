{
  "nbformat": 4,
  "nbformat_minor": 0,
  "metadata": {
    "colab": {
      "name": "matplotlib.ipynb",
      "provenance": [],
      "collapsed_sections": []
    },
    "kernelspec": {
      "name": "python3",
      "display_name": "Python 3"
    }
  },
  "cells": [
    {
      "cell_type": "code",
      "metadata": {
        "id": "sX_0YawRL2pT",
        "colab_type": "code",
        "colab": {
          "base_uri": "https://localhost:8080/",
          "height": 55
        },
        "outputId": "d4c053cf-cc1c-4c28-a084-a1142a129e6d"
      },
      "source": [
        "import keyword\n",
        "print(keyword.kwlist)\n",
        "\n",
        "# list all built-in keywords\n",
        "#print(vars(__builtin__).keys())"
      ],
      "execution_count": null,
      "outputs": [
        {
          "output_type": "stream",
          "text": [
            "['False', 'None', 'True', 'and', 'as', 'assert', 'break', 'class', 'continue', 'def', 'del', 'elif', 'else', 'except', 'finally', 'for', 'from', 'global', 'if', 'import', 'in', 'is', 'lambda', 'nonlocal', 'not', 'or', 'pass', 'raise', 'return', 'try', 'while', 'with', 'yield']\n"
          ],
          "name": "stdout"
        }
      ]
    },
    {
      "cell_type": "code",
      "metadata": {
        "id": "9T8pzng_OFlA",
        "colab_type": "code",
        "colab": {}
      },
      "source": [
        "plt.plot([1, 2, 3, 4])\n",
        "plt.axis([0, 6, 0, 20])\n",
        "plt.scatter('a', 'b', c='c', s='d', data=data)\n",
        "\n",
        "plt.title('Histogram of IQ')\n",
        "plt.xlabel('entry a')\n",
        "plt.ylabel('entry b')\n",
        "plt.text(60, .025, r'$\\mu=100,\\ \\sigma=15$')\n",
        "\n",
        "plt.show()\n",
        "\n",
        "plt.figure(figsize=(9, 3))\n",
        "\n",
        "plt.grid(False)\n",
        "\n",
        "plt.subplot(131)\n",
        "plt.bar(names, values)\n",
        "plt.subplot(132)\n",
        "plt.scatter(names, values)\n",
        "plt.subplot(133)\n",
        "plt.plot(names, values)\n",
        "plt.suptitle('Categorical Plotting')\n",
        "plt.show()"
      ],
      "execution_count": null,
      "outputs": []
    },
    {
      "cell_type": "code",
      "metadata": {
        "id": "TnXHbgP0QIhU",
        "colab_type": "code",
        "colab": {
          "base_uri": "https://localhost:8080/",
          "height": 604
        },
        "outputId": "ea820ae8-0db7-415d-cb5c-2fc44acde5b7"
      },
      "source": [
        "import matplotlib.pyplot as plt\n",
        "\n",
        "plt.figure(1)                # the first figure\n",
        "plt.subplot(211)             # the first subplot in the first figure\n",
        "plt.plot([1, 2, 3])\n",
        "plt.subplot(212)             # the second subplot in the first figure\n",
        "plt.plot([4, 5, 6])\n",
        "\n",
        "\n",
        "plt.figure(2)                # a second figure\n",
        "plt.plot([4, 5, 6])          # creates a subplot(111) by default\n",
        "\n",
        "plt.figure(1)                # figure 1 current; subplot(212) still current\n",
        "plt.subplot(211)             # make subplot(211) in figure1 current\n",
        "plt.title('Easy as 1, 2, 3') # subplot 211 title"
      ],
      "execution_count": null,
      "outputs": [
        {
          "output_type": "stream",
          "text": [
            "/usr/local/lib/python3.6/dist-packages/ipykernel_launcher.py:14: MatplotlibDeprecationWarning: Adding an axes using the same arguments as a previous axes currently reuses the earlier instance.  In a future version, a new instance will always be created and returned.  Meanwhile, this warning can be suppressed, and the future behavior ensured, by passing a unique label to each axes instance.\n",
            "  \n"
          ],
          "name": "stderr"
        },
        {
          "output_type": "execute_result",
          "data": {
            "text/plain": [
              "Text(0.5, 1.0, 'Easy as 1, 2, 3')"
            ]
          },
          "metadata": {
            "tags": []
          },
          "execution_count": 2
        },
        {
          "output_type": "display_data",
          "data": {
            "image/png": "[encoded data removed]",
            "text/plain": [
              "<Figure size 432x288 with 2 Axes>"
            ]
          },
          "metadata": {
            "tags": []
          }
        },
        {
          "output_type": "display_data",
          "data": {
            "image/png": "[encoded data removed]",
            "text/plain": [
              "<Figure size 432x288 with 1 Axes>"
            ]
          },
          "metadata": {
            "tags": []
          }
        }
      ]
    },
    {
      "cell_type": "code",
      "metadata": {
        "id": "NFuWF6mKQ7oD",
        "colab_type": "code",
        "colab": {
          "base_uri": "https://localhost:8080/",
          "height": 295
        },
        "outputId": "668afed1-c877-4b9d-f9f7-a305afbfdca6"
      },
      "source": [
        "import numpy as np\n",
        "\n",
        "mu, sigma = 100, 15\n",
        "x = mu + sigma * np.random.randn(10000)\n",
        "\n",
        "# the histogram of the data\n",
        "n, bins, patches = plt.hist(x, 50, density=1, facecolor='g', alpha=0.75)\n",
        "\n",
        "\n",
        "plt.xlabel('Smarts')\n",
        "plt.ylabel('Probability')\n",
        "plt.title('Histogram of IQ')\n",
        "plt.text(60, .025, r'$\\mu=100,\\ \\sigma=15$')\n",
        "plt.axis([40, 160, 0, 0.03])\n",
        "plt.grid(False)\n",
        "plt.show()\n",
        "\n"
      ],
      "execution_count": null,
      "outputs": [
        {
          "output_type": "display_data",
          "data": {
            "image/png": "[encoded data removed]",
            "text/plain": [
              "<Figure size 432x288 with 1 Axes>"
            ]
          },
          "metadata": {
            "tags": []
          }
        }
      ]
    },
    {
      "cell_type": "code",
      "metadata": {
        "id": "QlDRZEGxQJDS",
        "colab_type": "code",
        "colab": {}
      },
      "source": [
        "import matplotlib.pyplot as plt\n",
        "import numpy as np"
      ],
      "execution_count": null,
      "outputs": []
    },
    {
      "cell_type": "markdown",
      "metadata": {
        "id": "pW8IN72fSUdw",
        "colab_type": "text"
      },
      "source": [
        "用物件的方式控制"
      ]
    },
    {
      "cell_type": "code",
      "metadata": {
        "id": "K1uhqeDKSYhO",
        "colab_type": "code",
        "colab": {}
      },
      "source": [
        "import matplotlib.pyplot as plt\n",
        "fig = plt.figure()\n",
        "ax = fig.add_subplot(2, 1, 1) # two rows, one column, first plot\n",
        "fig2 = plt.figure()\n",
        "ax2 = fig2.add_axes([0.15, 0.1, 0.7, 0.3])\n",
        "\n",
        "xtext = ax.set_xlabel('my xdata') # returns a Text instance\n",
        "ytext = ax.set_ylabel('my ydata')\n",
        "\n",
        "\n",
        "plt.figure(1)                # the first figure\n",
        "plt.subplot(211) "
      ],
      "execution_count": null,
      "outputs": []
    },
    {
      "cell_type": "code",
      "metadata": {
        "id": "yywR1cL89pUI",
        "colab_type": "code",
        "colab": {
          "base_uri": "https://localhost:8080/",
          "height": 295
        },
        "outputId": "10740c09-553a-404b-89bc-e454b3b49195"
      },
      "source": [
        "x = np.linspace(0, 2, 100)\n",
        "\n",
        "plt.plot(x, x, label='linear')\n",
        "plt.plot(x, x**2, label='quadratic')\n",
        "plt.plot(x, x**3, label='cubic')\n",
        "\n",
        "plt.xlabel('x label')\n",
        "plt.ylabel('y label')\n",
        "\n",
        "plt.title(\"Simple Plot\")\n",
        "\n",
        "plt.legend()\n",
        "\n",
        "plt.show()"
      ],
      "execution_count": null,
      "outputs": [
        {
          "output_type": "display_data",
          "data": {
            "image/png": "[encoded data removed]",
            "text/plain": [
              "<Figure size 432x288 with 1 Axes>"
            ]
          },
          "metadata": {
            "tags": []
          }
        }
      ]
    },
    {
      "cell_type": "code",
      "metadata": {
        "id": "_BptqitJ9v4X",
        "colab_type": "code",
        "colab": {
          "base_uri": "https://localhost:8080/",
          "height": 685
        },
        "outputId": "14602dab-5c28-4640-ddef-10d2c34bcf8b"
      },
      "source": [
        "# First create some toy data:\n",
        "x = np.linspace(0, 2*np.pi, 400)\n",
        "y = np.sin(x**2)\n",
        "y2 = x*x\n",
        "# Creates just a figure and only one subplot\n",
        "fig, ax = plt.subplots(figsize=(8,10),\n",
        "                       edgecolor = '#000000'\n",
        "                       \n",
        "                       ) #Returns:fig,axes\n",
        "\n",
        "ax.plot(x, y,\n",
        "        label = 'sin(x^2)',\n",
        "        color = 'red',\n",
        "        # marker = 'o',\n",
        "        linewidth = 1,\n",
        "        )\n",
        "ax.plot(x, y2,\n",
        "        label = 'x^2',\n",
        "        color = 'blue',\n",
        "        marker = '+',\n",
        "        )\n",
        "\n",
        "#開啟格線\n",
        "ax.grid(color='r',\n",
        "        linestyle='--',\n",
        "        linewidth = 1,\n",
        "        alpha = 0.3,\n",
        "        )\n",
        "\n",
        "#標題的設定\n",
        "ax.set_title('Simple plot')\n",
        "print(\"title is :\",ax.get_title())\n",
        "\n",
        "#x軸的設定\n",
        "ax.set_xlabel( 'x label = Time',\n",
        "              fontsize=18,\n",
        "              fontstyle = 'italic',\n",
        "            #   position=(0,0),\n",
        "              color = '#00ff00',\n",
        "            #   horizontalalignment='left', #label與fig的相位置\n",
        "              visible=True, # False 就隱藏\n",
        "              )\n",
        "print(\"x label is :\",ax.get_xlabel())\n",
        "\n",
        "#y軸的設定\n",
        "ax.set_ylabel( 'y label = Amplitude',\n",
        "              fontsize=18,\n",
        "              fontstyle = 'normal',\n",
        "            #   position=(0,0),\n",
        "              color = '#FFff00',\n",
        "            #   horizontalalignment='left', #label與fig的相位置\n",
        "              visible=True, # False 就隱藏\n",
        "              )\n",
        "print(\"y label is :\",ax.get_ylabel())\n",
        "\n",
        "#圖例的設定\n",
        "ax.set_label('Label via method')\n",
        "ax.legend()\n",
        "\n",
        "#x軸的座標\n",
        "ax.set_xticks(np.linspace(0, 6, 10),) #設定數值\n",
        "# ax.set_xticklabels('xtick') # 設定文字\n",
        "\n",
        "# 開啟/關閉外框\n",
        "ax.set_frame_on(1) #True/False\n",
        "\n",
        "#設定軸的數值範圍\n",
        "ax.set_ylim(-2,2)\n",
        "\n",
        "#存檔\n",
        "fig.savefig(time.strftime('%m_%d_%I_%M')+\".png\")"
      ],
      "execution_count": null,
      "outputs": [
        {
          "output_type": "stream",
          "text": [
            "title is : Simple plot\n",
            "x label is : x label = Time\n",
            "y label is : y label = Amplitude\n"
          ],
          "name": "stdout"
        },
        {
          "output_type": "display_data",
          "data": {
            "image/png": "[encoded data removed]",
            "text/plain": [
              "<Figure size 576x720 with 1 Axes>"
            ]
          },
          "metadata": {
            "tags": []
          }
        }
      ]
    },
    {
      "cell_type": "code",
      "metadata": {
        "id": "0XB0unTyCTOL",
        "colab_type": "code",
        "colab": {
          "base_uri": "https://localhost:8080/",
          "height": 35
        },
        "outputId": "354b9543-546e-4e57-c2f5-f3151fd3f5fa"
      },
      "source": [
        "import time\n",
        "time.strftime('%m_%d_%I_%M')"
      ],
      "execution_count": null,
      "outputs": [
        {
          "output_type": "execute_result",
          "data": {
            "text/plain": [
              "'02_13_06_42'"
            ]
          },
          "metadata": {
            "tags": []
          },
          "execution_count": 99
        }
      ]
    },
    {
      "cell_type": "code",
      "metadata": {
        "id": "c0bgsq4cBhCu",
        "colab_type": "code",
        "colab": {
          "base_uri": "https://localhost:8080/",
          "height": 305
        },
        "outputId": "bb1142a7-1c2c-4056-a762-5190d52dbc5d"
      },
      "source": [
        "fig, ax = plt.subplots()\n",
        "print(fig)\n",
        "print(ax)"
      ],
      "execution_count": null,
      "outputs": [
        {
          "output_type": "stream",
          "text": [
            "Figure(432x288)\n",
            "AxesSubplot(0.125,0.125;0.775x0.755)\n"
          ],
          "name": "stdout"
        },
        {
          "output_type": "display_data",
          "data": {
            "image/png": "[encoded data removed]",
            "text/plain": [
              "<Figure size 432x288 with 1 Axes>"
            ]
          },
          "metadata": {
            "tags": []
          }
        }
      ]
    },
    {
      "cell_type": "code",
      "metadata": {
        "id": "i44mrcP-BLpi",
        "colab_type": "code",
        "colab": {}
      },
      "source": [
        "\n",
        "# Creates two subplots and unpacks the output array immediately\n",
        "f, (ax1, ax2) = plt.subplots(1, 2, sharey=True)\n",
        "ax1.plot(x, y)\n",
        "ax1.set_title('Sharing Y axis')\n",
        "ax2.scatter(x, y)\n",
        "\n",
        "# Creates four polar axes, and accesses them through the returned array\n",
        "fig, axes = plt.subplots(2, 2, subplot_kw=dict(polar=True))\n",
        "axes[0, 0].plot(x, y)\n",
        "axes[1, 1].scatter(x, y)\n",
        "\n",
        "# Share a X axis with each column of subplots\n",
        "plt.subplots(2, 2, sharex='col')\n",
        "\n",
        "# Share a Y axis with each row of subplots\n",
        "plt.subplots(2, 2, sharey='row')\n",
        "\n",
        "# Share both X and Y axes with all subplots\n",
        "plt.subplots(2, 2, sharex='all', sharey='all')\n",
        "\n",
        "# Note that this is the same as\n",
        "plt.subplots(2, 2, sharex=True, sharey=True)\n",
        "\n",
        "# Creates figure number 10 with a single subplot\n",
        "# and clears it if it already exists.\n",
        "fig, ax=plt.subplots(num=10, clear=True)\n"
      ],
      "execution_count": null,
      "outputs": []
    },
    {
      "cell_type": "markdown",
      "metadata": {
        "id": "busFsclDBBFP",
        "colab_type": "text"
      },
      "source": [
        "\n",
        "\n",
        "```\n",
        "# This is formatted as code\n",
        "```\n",
        "\n",
        "# Grouped bar chart with labels"
      ]
    },
    {
      "cell_type": "code",
      "metadata": {
        "id": "yZmZ7bBK-gUu",
        "colab_type": "code",
        "colab": {
          "base_uri": "https://localhost:8080/",
          "height": 297
        },
        "outputId": "b1d6b26d-9e7d-48f7-c445-2655bad19e3e"
      },
      "source": [
        "#\n",
        "\n",
        "import matplotlib\n",
        "import matplotlib.pyplot as plt\n",
        "import numpy as np\n",
        "\n",
        "\n",
        "labels = ['G1', 'G2', 'G3', 'G4', 'G5']\n",
        "men_means = [20, 34, 30, 35, 27]\n",
        "women_means = [25, 32, 34, 20, 25]\n",
        "\n",
        "x = np.arange(len(labels))  # the label locations\n",
        "width = 0.35  # the width of the bars\n",
        "\n",
        "fig, ax = plt.subplots()\n",
        "rects1 = ax.bar(x - width/2, men_means, width, label='Men')\n",
        "    # Rectangle(xy=(19.6, 0), width=0.8, height=0.35, angle=0)\n",
        "    # Rectangle(xy=(33.6, 0), width=0.8, height=0.35, angle=0)\n",
        "    # Rectangle(xy=(29.6, 0), width=0.8, height=0.35, angle=0)\n",
        "    # Rectangle(xy=(34.6, 0), width=0.8, height=0.35, angle=0)\n",
        "    # Rectangle(xy=(26.6, 0), width=0.8, height=0.35, angle=0)\n",
        "\n",
        "rects2 = ax.bar(x + width/2, women_means, width, label='Women')\n",
        "\n",
        "# Add some text for labels, title and custom x-axis tick labels, etc.\n",
        "ax.set_ylabel('Scores')\n",
        "ax.set_title('Scores by group and gender')\n",
        "ax.set_xticks(x)\n",
        "ax.set_xticklabels(labels)\n",
        "ax.legend()\n",
        "ax.set_ylim(0,40)\n",
        "\n",
        "def autolabel(rects):\n",
        "    \"\"\"Attach a text label above each bar in *rects*, displaying its height.\"\"\"\n",
        "    for rect in rects:\n",
        "        height = rect.get_height()\n",
        "        ax.annotate('{}'.format(height),\n",
        "                    xy=(rect.get_x() + rect.get_width() / 2, height),\n",
        "                    xytext=(0, 3),  # 3 points vertical offset\n",
        "                    textcoords=\"offset points\",\n",
        "                    ha='center', va='bottom')\n",
        "\n",
        "\n",
        "autolabel(rects1)\n",
        "autolabel(rects2)\n",
        "\n",
        "fig.tight_layout()\n",
        "\n",
        "plt.show()\n"
      ],
      "execution_count": null,
      "outputs": [
        {
          "output_type": "display_data",
          "data": {
            "image/png": "[encoded data removed]",
            "text/plain": [
              "<Figure size 432x288 with 1 Axes>"
            ]
          },
          "metadata": {
            "tags": []
          }
        }
      ]
    },
    {
      "cell_type": "code",
      "metadata": {
        "id": "8eu_oRXDcVCm",
        "colab_type": "code",
        "colab": {
          "base_uri": "https://localhost:8080/",
          "height": 55
        },
        "outputId": "fa9a69c9-a77e-4e0b-bd14-476eb185fca3"
      },
      "source": [
        "print(*rects1)"
      ],
      "execution_count": null,
      "outputs": [
        {
          "output_type": "stream",
          "text": [
            "Rectangle(xy=(19.6, 0), width=0.8, height=0.35, angle=0) Rectangle(xy=(33.6, 0), width=0.8, height=0.35, angle=0) Rectangle(xy=(29.6, 0), width=0.8, height=0.35, angle=0) Rectangle(xy=(34.6, 0), width=0.8, height=0.35, angle=0) Rectangle(xy=(26.6, 0), width=0.8, height=0.35, angle=0),"
          ],
          "name": "stdout"
        }
      ]
    },
    {
      "cell_type": "code",
      "metadata": {
        "id": "zEeJlaKFhvyI",
        "colab_type": "code",
        "colab": {
          "base_uri": "https://localhost:8080/",
          "height": 265
        },
        "outputId": "19bd10f6-9314-40da-f4b0-8436162bf16b"
      },
      "source": [
        "import matplotlib\n",
        "import matplotlib.pyplot as plt\n",
        "import numpy as np\n",
        "\n",
        "\n",
        "labels = ['G1', 'G2', 'G3', 'G4', 'G5']\n",
        "men_means = [20, 34, 30, 35, 27]\n",
        "women_means = [25, 32, 34, 20, 25]\n",
        "x = range(len(men_means))\n",
        "fig, ax = plt.subplots()\n",
        "\n",
        "men_means_fig = ax.bar(x=x,\n",
        "       height=men_means\n",
        ")\n",
        "\n",
        "women_means_fig = ax.bar(x=x,\n",
        "       height=women_means\n",
        ")\n"
      ],
      "execution_count": null,
      "outputs": [
        {
          "output_type": "display_data",
          "data": {
            "image/png": "[encoded data removed]",
            "text/plain": [
              "<Figure size 432x288 with 1 Axes>"
            ]
          },
          "metadata": {
            "tags": []
          }
        }
      ]
    },
    {
      "cell_type": "code",
      "metadata": {
        "id": "6H_y9VQwUTYS",
        "colab_type": "code",
        "colab": {}
      },
      "source": [
        "from math import *\n",
        "from PIL import Image\n",
        "im=Image.open('t1.jpg')\n",
        "m=im.size[0]\n",
        "n=im.size[0]\n"
      ],
      "execution_count": null,
      "outputs": []
    },
    {
      "cell_type": "code",
      "metadata": {
        "id": "cTvukUa7dIVn",
        "colab_type": "code",
        "colab": {
          "base_uri": "https://localhost:8080/",
          "height": 35
        },
        "outputId": "f3a25645-d221-4047-896b-8035e7a59594"
      },
      "source": [
        "print(m)"
      ],
      "execution_count": null,
      "outputs": [
        {
          "output_type": "stream",
          "text": [
            "1200\n"
          ],
          "name": "stdout"
        }
      ]
    },
    {
      "cell_type": "code",
      "metadata": {
        "id": "5OncBpmXt0v4",
        "colab_type": "code",
        "colab": {
          "base_uri": "https://localhost:8080/",
          "height": 35
        },
        "outputId": "a38e2474-fbf6-436f-d725-dd880f5fbe01"
      },
      "source": [
        "print(n)"
      ],
      "execution_count": null,
      "outputs": [
        {
          "output_type": "stream",
          "text": [
            "1200\n"
          ],
          "name": "stdout"
        }
      ]
    },
    {
      "cell_type": "code",
      "metadata": {
        "id": "fCIes9LIt2EO",
        "colab_type": "code",
        "colab": {
          "base_uri": "https://localhost:8080/",
          "height": 230
        },
        "outputId": "6bf37780-696c-4193-b396-6def68479065"
      },
      "source": [
        "import numpy as np\n",
        "import pandas as pd\n",
        "import matplotlib\n",
        "import seaborn as sns\n",
        "import sklearn\n",
        "import mlxtend\n",
        "import tensorflow as tf\n",
        "\n",
        "print(np.__version__)\n",
        "print(pd.__version__)\n",
        "print(matplotlib.__version__)\n",
        "print(sns.__version__)\n",
        "print(sklearn.__version__)\n",
        "print(mlxtend.__version__)\n",
        "print(tf.__version__)\n",
        "import sys\n",
        "print(sys.version)"
      ],
      "execution_count": null,
      "outputs": [
        {
          "output_type": "stream",
          "text": [
            "/usr/local/lib/python3.6/dist-packages/statsmodels/tools/_testing.py:19: FutureWarning: pandas.util.testing is deprecated. Use the functions in the public API at pandas.testing instead.\n",
            "  import pandas.util.testing as tm\n"
          ],
          "name": "stderr"
        },
        {
          "output_type": "stream",
          "text": [
            "1.18.4\n",
            "1.0.3\n",
            "3.2.1\n",
            "0.10.1\n",
            "0.22.2.post1\n",
            "0.14.0\n",
            "2.2.0\n",
            "3.6.9 (default, Apr 18 2020, 01:56:04) \n",
            "[GCC 8.4.0]\n"
          ],
          "name": "stdout"
        }
      ]
    },
    {
      "cell_type": "code",
      "metadata": {
        "id": "ss6lTqaFmoVV",
        "colab_type": "code",
        "colab": {
          "base_uri": "https://localhost:8080/",
          "height": 210
        },
        "outputId": "e1633896-d314-4b7a-eb17-64fe2668cc67"
      },
      "source": [
        "# Titanic\n",
        "titanic_url = \"https://kaggle-getting-started.s3-ap-northeast-1.amazonaws.com/titanic/train.csv\"\n",
        "# Housing\n",
        "housing_url = \"https://kaggle-getting-started.s3-ap-northeast-1.amazonaws.com/house-prices/train.csv\"\n",
        "# MNIST\n",
        "mnist_url = \"https://kaggle-getting-started.s3-ap-northeast-1.amazonaws.com/mnist/train.csv\"\n",
        "import pandas as pd\n",
        "\n",
        "def get_y_x(data_url,target_label):\n",
        "    df = pd.read_csv(data_url)\n",
        "    y = df[target_label].values\n",
        "    x = df.drop(target_label,axis=1).values\n",
        "    return y,x\n",
        "\n",
        "titanic_y,titanic_x = get_y_x(titanic_url,'Survived')\n",
        "titanic_y[:5],titanic_x[:5]"
      ],
      "execution_count": null,
      "outputs": [
        {
          "output_type": "execute_result",
          "data": {
            "text/plain": [
              "(array([0, 1, 1, 1, 0]),\n",
              " array([[1, 3, 'Braund, Mr. Owen Harris', 'male', 22.0, 1, 0, 'A/5 21171',\n",
              "         7.25, nan, 'S'],\n",
              "        [2, 1, 'Cumings, Mrs. John Bradley (Florence Briggs Thayer)',\n",
              "         'female', 38.0, 1, 0, 'PC 17599', 71.2833, 'C85', 'C'],\n",
              "        [3, 3, 'Heikkinen, Miss. Laina', 'female', 26.0, 0, 0,\n",
              "         'STON/O2. 3101282', 7.925, nan, 'S'],\n",
              "        [4, 1, 'Futrelle, Mrs. Jacques Heath (Lily May Peel)', 'female',\n",
              "         35.0, 1, 0, '113803', 53.1, 'C123', 'S'],\n",
              "        [5, 3, 'Allen, Mr. William Henry', 'male', 35.0, 0, 0, '373450',\n",
              "         8.05, nan, 'S']], dtype=object))"
            ]
          },
          "metadata": {
            "tags": []
          },
          "execution_count": 2
        }
      ]
    },
    {
      "cell_type": "code",
      "metadata": {
        "id": "H2i2rhfwmqpe",
        "colab_type": "code",
        "colab": {}
      },
      "source": [
        "import os\n",
        "import glob\n",
        "import math\n",
        "import random\n",
        "\n",
        "import numpy as np\n",
        "import matplotlib.pyplot as plt\n",
        "\n",
        "from tensorflow.python import keras\n",
        "from tensorflow.python.keras import backend as K\n",
        "from tensorflow.python.keras.models import Model, Sequential\n",
        "from tensorflow.python.keras.layers import Conv2D, Dense, Input, MaxPooling2D, UpSampling2D, Lambda\n",
        "from tensorflow.python.keras.preprocessing.image import load_img, img_to_array, array_to_img, ImageDataGenerator"
      ],
      "execution_count": null,
      "outputs": []
    },
    {
      "cell_type": "code",
      "metadata": {
        "id": "PuDW1qwLt56A",
        "colab_type": "code",
        "colab": {}
      },
      "source": [
        "data_path = 'img/colorize'\n",
        "data_lists = glob.glob(os.path.join(data_path, '*.jpg'))\n",
        "\n",
        "val_n_sample = math.floor(len(data_lists)*0.1)\n",
        "test_n_sample = math.floor(len(data_lists)*0.1)\n",
        "train_n_sample = len(data_lists) - val_n_sample - test_n_sample\n",
        "\n",
        "val_lists = data_lists[:val_n_sample]\n",
        "test_lists = data_lists[val_n_sample:val_n_sample + test_n_sample]\n",
        "train_lists = data_lists[val_n_sample + test_n_sample:train_n_sample + val_n_sample + test_n_sample]"
      ],
      "execution_count": null,
      "outputs": []
    },
    {
      "cell_type": "code",
      "metadata": {
        "id": "PqTUx9eIt6aT",
        "colab_type": "code",
        "colab": {}
      },
      "source": [
        "import cv2\n",
        "\n",
        "\n",
        "img_size = 224\n",
        "def rgb2lab(rgb):\n",
        "    assert rgb.dtype == 'uint8'\n",
        "    return cv2.cvtColor(rgb, cv2.COLOR_RGB2Lab)\n",
        "\n",
        "def lab2rgb(lab):\n",
        "    assert lab.dtype == 'uint8'\n",
        "    return cv2.cvtColor(lab, cv2.COLOR_Lab2RGB)\n",
        "\n",
        "def get_lab_from_data_list(data_list):\n",
        "    x_lab = []\n",
        "    for f in data_list:\n",
        "        rgb = img_to_array(\n",
        "            load_img(\n",
        "                f, \n",
        "                target_size=(img_size, img_size)\n",
        "            )\n",
        "        ).astype(np.uint8)\n",
        "        lab = rgb2lab(rgb)\n",
        "        x_lab.append(lab)\n",
        "    return np.stack(x_lab)"
      ],
      "execution_count": null,
      "outputs": []
    },
    {
      "cell_type": "code",
      "metadata": {
        "id": "coe3eOA3t8yr",
        "colab_type": "code",
        "colab": {
          "base_uri": "https://localhost:8080/",
          "height": 439
        },
        "outputId": "48310f27-a1d9-4e01-887f-54d030fca52b"
      },
      "source": [
        "from tensorflow.python.keras.layers import Conv2DTranspose\n",
        "\n",
        "\n",
        "autoencoder = Sequential()\n",
        "# Encoder\n",
        "autoencoder.add(\n",
        "    Conv2D(\n",
        "        32, \n",
        "        (3, 3), \n",
        "        (1, 1), \n",
        "        activation='relu', \n",
        "        padding='same', \n",
        "        input_shape=(224, 224, 1)\n",
        "    )\n",
        ")\n",
        "autoencoder.add(\n",
        "    Conv2D(\n",
        "        64,\n",
        "        (3, 3),\n",
        "        (2, 2),\n",
        "        activation='relu',\n",
        "        padding='same'\n",
        "    )\n",
        ")\n",
        "autoencoder.add(\n",
        "    Conv2D(\n",
        "        128,\n",
        "        (3, 3), \n",
        "        (2, 2), \n",
        "        activation='relu', \n",
        "        padding='same'\n",
        "    )\n",
        ")\n",
        "autoencoder.add(\n",
        "    Conv2D(\n",
        "        256, \n",
        "        (3, 3), \n",
        "        (2, 2), \n",
        "        activation='relu', \n",
        "        padding='same')\n",
        ")\n",
        "# Decoder\n",
        "autoencoder.add(\n",
        "    Conv2DTranspose(\n",
        "        128, \n",
        "        (3, 3), \n",
        "        (2, 2), \n",
        "        activation='relu', \n",
        "        padding='same'\n",
        "    )\n",
        ")\n",
        "autoencoder.add(\n",
        "    Conv2DTranspose(\n",
        "        64,\n",
        "        (3, 3), \n",
        "        (2, 2), \n",
        "        activation='relu',\n",
        "        padding='same'\n",
        "    )\n",
        ")\n",
        "autoencoder.add(\n",
        "    Conv2DTranspose(\n",
        "        32,\n",
        "        (3, 3), \n",
        "        (2, 2), \n",
        "        activation='relu', \n",
        "        padding='same'\n",
        "    )\n",
        ")\n",
        "autoencoder.add(\n",
        "    Conv2D(\n",
        "        2, \n",
        "        (1, 1), \n",
        "        (1, 1), \n",
        "        activation='relu', \n",
        "        padding='same'\n",
        "    )\n",
        ")\n",
        "autoencoder.compile(optimizer='adam', loss='mse')\n",
        "autoencoder.summary()"
      ],
      "execution_count": null,
      "outputs": [
        {
          "output_type": "stream",
          "text": [
            "Model: \"sequential\"\n",
            "_________________________________________________________________\n",
            "Layer (type)                 Output Shape              Param #   \n",
            "=================================================================\n",
            "conv2d (Conv2D)              (None, 224, 224, 32)      320       \n",
            "_________________________________________________________________\n",
            "conv2d_1 (Conv2D)            (None, 112, 112, 64)      18496     \n",
            "_________________________________________________________________\n",
            "conv2d_2 (Conv2D)            (None, 56, 56, 128)       73856     \n",
            "_________________________________________________________________\n",
            "conv2d_3 (Conv2D)            (None, 28, 28, 256)       295168    \n",
            "_________________________________________________________________\n",
            "conv2d_transpose (Conv2DTran (None, 56, 56, 128)       295040    \n",
            "_________________________________________________________________\n",
            "conv2d_transpose_1 (Conv2DTr (None, 112, 112, 64)      73792     \n",
            "_________________________________________________________________\n",
            "conv2d_transpose_2 (Conv2DTr (None, 224, 224, 32)      18464     \n",
            "_________________________________________________________________\n",
            "conv2d_4 (Conv2D)            (None, 224, 224, 2)       66        \n",
            "=================================================================\n",
            "Total params: 775,202\n",
            "Trainable params: 775,202\n",
            "Non-trainable params: 0\n",
            "_________________________________________________________________\n"
          ],
          "name": "stdout"
        }
      ]
    },
    {
      "cell_type": "code",
      "metadata": {
        "id": "M7SYY0Ujt_hO",
        "colab_type": "code",
        "colab": {}
      },
      "source": [
        "def generator_with_preprocessing(data_list, batch_size, shuffle=False):\n",
        "    while True:\n",
        "        if shuffle:\n",
        "            np.random.shuffle(data_list)\n",
        "        for i in range(0, len(data_list), batch_size):\n",
        "            batch_list = data_list[i:i + batch_size]\n",
        "            batch_lab = get_lab_from_data_list(batch_list)\n",
        "            batch_l = batch_lab[:, :, :, 0:1]\n",
        "            batch_ab = batch_lab[:, :, :, 1:]\n",
        "            yield (batch_l, batch_ab)"
      ],
      "execution_count": null,
      "outputs": []
    },
    {
      "cell_type": "code",
      "metadata": {
        "id": "uUChsFrouDda",
        "colab_type": "code",
        "colab": {}
      },
      "source": [
        "batch_size = 30\n",
        "\n",
        "train_gen = generator_with_preprocessing(train_lists, batch_size, shuffle=True)\n",
        "val_gen = generator_with_preprocessing(val_lists, batch_size)\n",
        "test_gen = generator_with_preprocessing(test_lists, batch_size)\n",
        "\n",
        "train_steps = math.ceil(len(train_lists)/batch_size)\n",
        "val_steps = math.ceil(len(val_lists)/batch_size)\n",
        "test_steps = math.ceil(len(test_lists)/batch_size)"
      ],
      "execution_count": null,
      "outputs": []
    },
    {
      "cell_type": "code",
      "metadata": {
        "id": "bWw5bq-GuFAn",
        "colab_type": "code",
        "colab": {
          "base_uri": "https://localhost:8080/",
          "height": 34
        },
        "outputId": "fc815373-e934-4574-ad50-61550c6ae955"
      },
      "source": [
        "from tensorflow.python.keras.callbacks import ModelCheckpoint\n",
        "\n",
        "valid_ck = ModelCheckpoint('{epoch:02d}-{val_loss:.2f}.hdf5', monitor='val_loss', verbose=0, save_best_only=True, save_weights_only=False, mode='auto', period=1)\n",
        "callbacks = [valid_ck]"
      ],
      "execution_count": null,
      "outputs": [
        {
          "output_type": "stream",
          "text": [
            "WARNING:tensorflow:`period` argument is deprecated. Please use `save_freq` to specify the frequency in number of batches seen.\n"
          ],
          "name": "stdout"
        }
      ]
    },
    {
      "cell_type": "code",
      "metadata": {
        "id": "qlvv_gW7uHJf",
        "colab_type": "code",
        "colab": {
          "base_uri": "https://localhost:8080/"
        },
        "outputId": "b47e1bbb-f0a6-43bb-dc04-77fa77fe0478"
      },
      "source": [
        "epochs= 150\n",
        "    \n",
        "autoencoder.fit_generator(\n",
        "    generator=train_gen,\n",
        "    steps_per_epoch=train_steps,\n",
        "    epochs=epochs,\n",
        "    validation_data=val_gen,\n",
        "    validation_steps=val_steps,\n",
        "    # callbacks=callbacks, # コールバックを使用する場合はコメントアウトを外す\n",
        ")"
      ],
      "execution_count": null,
      "outputs": [
        {
          "output_type": "stream",
          "text": [
            "WARNING:tensorflow:From <ipython-input-8-d81ad99b7897>:8: Model.fit_generator (from tensorflow.python.keras.engine.training) is deprecated and will be removed in a future version.\n",
            "Instructions for updating:\n",
            "Please use Model.fit, which supports generators.\n"
          ],
          "name": "stdout"
        }
      ]
    },
    {
      "cell_type": "code",
      "metadata": {
        "id": "7D7gIaNKuPG_",
        "colab_type": "code",
        "colab": {}
      },
      "source": [
        "import numpy as np \n",
        "import matplotlib.pyplot as plt \n",
        "import matplotlib.animation as animation \n",
        "import sympy as sym\n",
        "from matplotlib import rc\n",
        "from IPython.display import HTML\n",
        "\n",
        "fig = plt.figure() \n",
        "plt.axis([0, 2, -2, 2])\n",
        "x = np.linspace(0, 2, 100)  \n",
        "y = np.sin(2 * np.pi * x )  \n",
        "xy = [[x,y],[0,0]]\n",
        " \n",
        "line, = plt.plot([], [], lw=8)\n",
        "def animate(i):\n",
        "#     y = np.sin(2 * np.pi * x )  \n",
        "    num = i%2\n",
        "    line.set_data(xy[num][0], xy[num][1])  \n",
        "\n",
        "interval = 1000/30\n",
        "anim1=animation.FuncAnimation(fig,\n",
        "                              animate,\n",
        "                              frames=1000,\n",
        "                              interval=interval,\n",
        "                              blit = False)  \n",
        "\n",
        "# Note: below is the part which makes it work on Colab\n",
        "rc('animation', html='jshtml')\n",
        "anim1"
      ],
      "execution_count": null,
      "outputs": []
    },
    {
      "cell_type": "code",
      "metadata": {
        "id": "1fjX2LdwsGSa",
        "colab_type": "code",
        "colab": {
          "base_uri": "https://localhost:8080/",
          "height": 87
        },
        "outputId": "ea43fa0a-0894-4a6c-c250-d49290cea465"
      },
      "source": [
        "import pandas as pd\n",
        "\n",
        "#pd.date_range\n",
        "\n",
        "d = pd.date_range(start='2010-1-1',\n",
        "                  end='2020-1-1',\n",
        "                #   periods=10,\n",
        "                  freq='Y')\n",
        "d\n",
        "# m = pd.date_range('2020-01','2020-12')\n",
        "# y = pd.date_range('2010','2020')"
      ],
      "execution_count": null,
      "outputs": [
        {
          "output_type": "execute_result",
          "data": {
            "text/plain": [
              "DatetimeIndex(['2010-12-31', '2011-12-31', '2012-12-31', '2013-12-31',\n",
              "               '2014-12-31', '2015-12-31', '2016-12-31', '2017-12-31',\n",
              "               '2018-12-31', '2019-12-31'],\n",
              "              dtype='datetime64[ns]', freq='A-DEC')"
            ]
          },
          "metadata": {
            "tags": []
          },
          "execution_count": 19
        }
      ]
    },
    {
      "cell_type": "code",
      "metadata": {
        "id": "RAWaqaGwC3km",
        "colab_type": "code",
        "colab": {
          "base_uri": "https://localhost:8080/",
          "height": 172
        },
        "outputId": "448d9ac5-1961-4189-afdf-9ed6a9d77b99"
      },
      "source": [
        "df = pd.read_csv('goo.csv',sep='\\t')\n",
        "df"
      ],
      "execution_count": null,
      "outputs": [
        {
          "output_type": "execute_result",
          "data": {
            "text/html": [
              "<div>\n",
              "<style scoped>\n",
              "    .dataframe tbody tr th:only-of-type {\n",
              "        vertical-align: middle;\n",
              "    }\n",
              "\n",
              "    .dataframe tbody tr th {\n",
              "        vertical-align: top;\n",
              "    }\n",
              "\n",
              "    .dataframe thead th {\n",
              "        text-align: right;\n",
              "    }\n",
              "</style>\n",
              "<table border=\"1\" class=\"dataframe\">\n",
              "  <thead>\n",
              "    <tr style=\"text-align: right;\">\n",
              "      <th></th>\n",
              "      <th>date</th>\n",
              "      <th>open</th>\n",
              "      <th>close</th>\n",
              "    </tr>\n",
              "  </thead>\n",
              "  <tbody>\n",
              "    <tr>\n",
              "      <th>0</th>\n",
              "      <td>2016-12-19</td>\n",
              "      <td>12</td>\n",
              "      <td>13</td>\n",
              "    </tr>\n",
              "    <tr>\n",
              "      <th>1</th>\n",
              "      <td>2016-12-20</td>\n",
              "      <td>13</td>\n",
              "      <td>14</td>\n",
              "    </tr>\n",
              "    <tr>\n",
              "      <th>2</th>\n",
              "      <td>2016-12-21</td>\n",
              "      <td>14</td>\n",
              "      <td>15</td>\n",
              "    </tr>\n",
              "    <tr>\n",
              "      <th>3</th>\n",
              "      <td>2016-12-22</td>\n",
              "      <td>15</td>\n",
              "      <td>16</td>\n",
              "    </tr>\n",
              "  </tbody>\n",
              "</table>\n",
              "</div>"
            ],
            "text/plain": [
              "         date  open  close\n",
              "0  2016-12-19    12     13\n",
              "1  2016-12-20    13     14\n",
              "2  2016-12-21    14     15\n",
              "3  2016-12-22    15     16"
            ]
          },
          "metadata": {
            "tags": []
          },
          "execution_count": 21
        }
      ]
    },
    {
      "cell_type": "code",
      "metadata": {
        "id": "mMmWMFCCWldb",
        "colab_type": "code",
        "colab": {
          "base_uri": "https://localhost:8080/",
          "height": 54
        },
        "outputId": "57251f7f-5690-481c-887c-95eb1f4bdcf6"
      },
      "source": [
        "df = pd.read_csv('goo.csv',sep='\\t',index_col='date',parse_dates=['date'])\n",
        "df.index\n",
        "\n"
      ],
      "execution_count": null,
      "outputs": [
        {
          "output_type": "execute_result",
          "data": {
            "text/plain": [
              "DatetimeIndex(['2016-12-19', '2016-12-20', '2016-12-21', '2016-12-22'], dtype='datetime64[ns]', name='date', freq=None)"
            ]
          },
          "metadata": {
            "tags": []
          },
          "execution_count": 29
        }
      ]
    },
    {
      "cell_type": "code",
      "metadata": {
        "id": "eHYQLVQKW6YP",
        "colab_type": "code",
        "colab": {
          "base_uri": "https://localhost:8080/",
          "height": 320
        },
        "outputId": "2a9b840b-2671-4742-bd46-bb383796f656"
      },
      "source": [
        "df.open.plot()"
      ],
      "execution_count": null,
      "outputs": [
        {
          "output_type": "execute_result",
          "data": {
            "text/plain": [
              "<matplotlib.axes._subplots.AxesSubplot at 0x7f6f2bd1ac50>"
            ]
          },
          "metadata": {
            "tags": []
          },
          "execution_count": 30
        },
        {
          "output_type": "display_data",
          "data": {
            "image/png": "[encoded data removed]",
            "text/plain": [
              "<Figure size 432x288 with 1 Axes>"
            ]
          },
          "metadata": {
            "tags": [],
            "needs_background": "light"
          }
        }
      ]
    },
    {
      "cell_type": "code",
      "metadata": {
        "id": "4sXR0sYCpsE5",
        "colab_type": "code",
        "colab": {
          "base_uri": "https://localhost:8080/",
          "height": 141
        },
        "outputId": "c8a6711f-1438-44cc-f9d5-1bf993639ce8"
      },
      "source": [
        "df = pd.read_csv('goo.csv',sep='\\t')\n",
        "df.iloc[:3,0:3]"
      ],
      "execution_count": null,
      "outputs": [
        {
          "output_type": "execute_result",
          "data": {
            "text/html": [
              "<div>\n",
              "<style scoped>\n",
              "    .dataframe tbody tr th:only-of-type {\n",
              "        vertical-align: middle;\n",
              "    }\n",
              "\n",
              "    .dataframe tbody tr th {\n",
              "        vertical-align: top;\n",
              "    }\n",
              "\n",
              "    .dataframe thead th {\n",
              "        text-align: right;\n",
              "    }\n",
              "</style>\n",
              "<table border=\"1\" class=\"dataframe\">\n",
              "  <thead>\n",
              "    <tr style=\"text-align: right;\">\n",
              "      <th></th>\n",
              "      <th>date</th>\n",
              "      <th>open</th>\n",
              "      <th>close</th>\n",
              "    </tr>\n",
              "  </thead>\n",
              "  <tbody>\n",
              "    <tr>\n",
              "      <th>2016-12-19</th>\n",
              "      <td>12</td>\n",
              "      <td>13</td>\n",
              "      <td>12</td>\n",
              "    </tr>\n",
              "    <tr>\n",
              "      <th>2016-12-20</th>\n",
              "      <td>13</td>\n",
              "      <td>14</td>\n",
              "      <td>12</td>\n",
              "    </tr>\n",
              "    <tr>\n",
              "      <th>2016-12-21</th>\n",
              "      <td>14</td>\n",
              "      <td>15</td>\n",
              "      <td>12</td>\n",
              "    </tr>\n",
              "  </tbody>\n",
              "</table>\n",
              "</div>"
            ],
            "text/plain": [
              "            date  open  close\n",
              "2016-12-19    12    13     12\n",
              "2016-12-20    13    14     12\n",
              "2016-12-21    14    15     12"
            ]
          },
          "metadata": {
            "tags": []
          },
          "execution_count": 51
        }
      ]
    },
    {
      "cell_type": "code",
      "metadata": {
        "id": "s6bnzBgwuDdc",
        "colab_type": "code",
        "colab": {
          "base_uri": "https://localhost:8080/",
          "height": 34
        },
        "outputId": "7ce60502-af95-4aca-ac26-46220d39ba99"
      },
      "source": [
        "x = 100\n",
        "eval(\"x==100\")"
      ],
      "execution_count": null,
      "outputs": [
        {
          "output_type": "execute_result",
          "data": {
            "text/plain": [
              "True"
            ]
          },
          "metadata": {
            "tags": []
          },
          "execution_count": 53
        }
      ]
    },
    {
      "cell_type": "code",
      "metadata": {
        "id": "JitcmpY9ukHm",
        "colab_type": "code",
        "colab": {
          "base_uri": "https://localhost:8080/",
          "height": 34
        },
        "outputId": "e81a7124-d3c4-40ba-94f7-12a1e3b95d2b"
      },
      "source": [
        "exp = \"sum([1,2,3])\"\n",
        "print(exp,eval(exp))\n",
        "# eval(exp)"
      ],
      "execution_count": null,
      "outputs": [
        {
          "output_type": "stream",
          "text": [
            "sum([1,2,3]) 6\n"
          ],
          "name": "stdout"
        }
      ]
    },
    {
      "cell_type": "code",
      "metadata": {
        "id": "yzRFa1Vr4qF0",
        "colab_type": "code",
        "colab": {
          "base_uri": "https://localhost:8080/",
          "height": 70
        },
        "outputId": "40188877-c96d-428b-de15-1917f93c46e8"
      },
      "source": [
        "import numpy as np\n",
        "import pandas as pd\n",
        "s = np.random.randint(100,size=50)\n",
        "bins = [0,60,80,90,99,100]\n",
        "grade_bin = list(\"EDCBA\")\n",
        "bins2 = np.arange(0,101,10)\n",
        "s"
      ],
      "execution_count": null,
      "outputs": [
        {
          "output_type": "execute_result",
          "data": {
            "text/plain": [
              "array([60, 49, 99, 89, 89, 65, 55, 94, 94, 84,  5, 79, 58, 96, 83, 74, 93,\n",
              "       86, 20, 25, 10, 69, 16,  2, 47,  6, 92,  0, 28, 54, 82, 95, 84, 38,\n",
              "       49, 91, 37, 40, 10, 37, 93, 90, 56, 51, 56, 48,  1, 32, 71, 38])"
            ]
          },
          "metadata": {
            "tags": []
          },
          "execution_count": 3
        }
      ]
    },
    {
      "cell_type": "code",
      "metadata": {
        "id": "j6ceAaKx5dVI",
        "colab_type": "code",
        "colab": {
          "base_uri": "https://localhost:8080/",
          "height": 34
        },
        "outputId": "34eee61b-2811-4629-ba92-52a983c5a929"
      },
      "source": [
        "grade_bin"
      ],
      "execution_count": null,
      "outputs": [
        {
          "output_type": "execute_result",
          "data": {
            "text/plain": [
              "['E', 'D', 'C', 'B', 'A']"
            ]
          },
          "metadata": {
            "tags": []
          },
          "execution_count": 74
        }
      ]
    },
    {
      "cell_type": "code",
      "metadata": {
        "id": "sFUaC8Cz55tX",
        "colab_type": "code",
        "colab": {
          "base_uri": "https://localhost:8080/",
          "height": 1000
        },
        "outputId": "5dfe1293-795e-4962-9c34-1fccb32f9775"
      },
      "source": [
        "score = pd.DataFrame({\"score\":s})\n",
        "score"
      ],
      "execution_count": null,
      "outputs": [
        {
          "output_type": "execute_result",
          "data": {
            "text/html": [
              "<div>\n",
              "<style scoped>\n",
              "    .dataframe tbody tr th:only-of-type {\n",
              "        vertical-align: middle;\n",
              "    }\n",
              "\n",
              "    .dataframe tbody tr th {\n",
              "        vertical-align: top;\n",
              "    }\n",
              "\n",
              "    .dataframe thead th {\n",
              "        text-align: right;\n",
              "    }\n",
              "</style>\n",
              "<table border=\"1\" class=\"dataframe\">\n",
              "  <thead>\n",
              "    <tr style=\"text-align: right;\">\n",
              "      <th></th>\n",
              "      <th>score</th>\n",
              "    </tr>\n",
              "  </thead>\n",
              "  <tbody>\n",
              "    <tr>\n",
              "      <th>0</th>\n",
              "      <td>60</td>\n",
              "    </tr>\n",
              "    <tr>\n",
              "      <th>1</th>\n",
              "      <td>49</td>\n",
              "    </tr>\n",
              "    <tr>\n",
              "      <th>2</th>\n",
              "      <td>99</td>\n",
              "    </tr>\n",
              "    <tr>\n",
              "      <th>3</th>\n",
              "      <td>89</td>\n",
              "    </tr>\n",
              "    <tr>\n",
              "      <th>4</th>\n",
              "      <td>89</td>\n",
              "    </tr>\n",
              "    <tr>\n",
              "      <th>5</th>\n",
              "      <td>65</td>\n",
              "    </tr>\n",
              "    <tr>\n",
              "      <th>6</th>\n",
              "      <td>55</td>\n",
              "    </tr>\n",
              "    <tr>\n",
              "      <th>7</th>\n",
              "      <td>94</td>\n",
              "    </tr>\n",
              "    <tr>\n",
              "      <th>8</th>\n",
              "      <td>94</td>\n",
              "    </tr>\n",
              "    <tr>\n",
              "      <th>9</th>\n",
              "      <td>84</td>\n",
              "    </tr>\n",
              "    <tr>\n",
              "      <th>10</th>\n",
              "      <td>5</td>\n",
              "    </tr>\n",
              "    <tr>\n",
              "      <th>11</th>\n",
              "      <td>79</td>\n",
              "    </tr>\n",
              "    <tr>\n",
              "      <th>12</th>\n",
              "      <td>58</td>\n",
              "    </tr>\n",
              "    <tr>\n",
              "      <th>13</th>\n",
              "      <td>96</td>\n",
              "    </tr>\n",
              "    <tr>\n",
              "      <th>14</th>\n",
              "      <td>83</td>\n",
              "    </tr>\n",
              "    <tr>\n",
              "      <th>15</th>\n",
              "      <td>74</td>\n",
              "    </tr>\n",
              "    <tr>\n",
              "      <th>16</th>\n",
              "      <td>93</td>\n",
              "    </tr>\n",
              "    <tr>\n",
              "      <th>17</th>\n",
              "      <td>86</td>\n",
              "    </tr>\n",
              "    <tr>\n",
              "      <th>18</th>\n",
              "      <td>20</td>\n",
              "    </tr>\n",
              "    <tr>\n",
              "      <th>19</th>\n",
              "      <td>25</td>\n",
              "    </tr>\n",
              "    <tr>\n",
              "      <th>20</th>\n",
              "      <td>10</td>\n",
              "    </tr>\n",
              "    <tr>\n",
              "      <th>21</th>\n",
              "      <td>69</td>\n",
              "    </tr>\n",
              "    <tr>\n",
              "      <th>22</th>\n",
              "      <td>16</td>\n",
              "    </tr>\n",
              "    <tr>\n",
              "      <th>23</th>\n",
              "      <td>2</td>\n",
              "    </tr>\n",
              "    <tr>\n",
              "      <th>24</th>\n",
              "      <td>47</td>\n",
              "    </tr>\n",
              "    <tr>\n",
              "      <th>25</th>\n",
              "      <td>6</td>\n",
              "    </tr>\n",
              "    <tr>\n",
              "      <th>26</th>\n",
              "      <td>92</td>\n",
              "    </tr>\n",
              "    <tr>\n",
              "      <th>27</th>\n",
              "      <td>0</td>\n",
              "    </tr>\n",
              "    <tr>\n",
              "      <th>28</th>\n",
              "      <td>28</td>\n",
              "    </tr>\n",
              "    <tr>\n",
              "      <th>29</th>\n",
              "      <td>54</td>\n",
              "    </tr>\n",
              "    <tr>\n",
              "      <th>30</th>\n",
              "      <td>82</td>\n",
              "    </tr>\n",
              "    <tr>\n",
              "      <th>31</th>\n",
              "      <td>95</td>\n",
              "    </tr>\n",
              "    <tr>\n",
              "      <th>32</th>\n",
              "      <td>84</td>\n",
              "    </tr>\n",
              "    <tr>\n",
              "      <th>33</th>\n",
              "      <td>38</td>\n",
              "    </tr>\n",
              "    <tr>\n",
              "      <th>34</th>\n",
              "      <td>49</td>\n",
              "    </tr>\n",
              "    <tr>\n",
              "      <th>35</th>\n",
              "      <td>91</td>\n",
              "    </tr>\n",
              "    <tr>\n",
              "      <th>36</th>\n",
              "      <td>37</td>\n",
              "    </tr>\n",
              "    <tr>\n",
              "      <th>37</th>\n",
              "      <td>40</td>\n",
              "    </tr>\n",
              "    <tr>\n",
              "      <th>38</th>\n",
              "      <td>10</td>\n",
              "    </tr>\n",
              "    <tr>\n",
              "      <th>39</th>\n",
              "      <td>37</td>\n",
              "    </tr>\n",
              "    <tr>\n",
              "      <th>40</th>\n",
              "      <td>93</td>\n",
              "    </tr>\n",
              "    <tr>\n",
              "      <th>41</th>\n",
              "      <td>90</td>\n",
              "    </tr>\n",
              "    <tr>\n",
              "      <th>42</th>\n",
              "      <td>56</td>\n",
              "    </tr>\n",
              "    <tr>\n",
              "      <th>43</th>\n",
              "      <td>51</td>\n",
              "    </tr>\n",
              "    <tr>\n",
              "      <th>44</th>\n",
              "      <td>56</td>\n",
              "    </tr>\n",
              "    <tr>\n",
              "      <th>45</th>\n",
              "      <td>48</td>\n",
              "    </tr>\n",
              "    <tr>\n",
              "      <th>46</th>\n",
              "      <td>1</td>\n",
              "    </tr>\n",
              "    <tr>\n",
              "      <th>47</th>\n",
              "      <td>32</td>\n",
              "    </tr>\n",
              "    <tr>\n",
              "      <th>48</th>\n",
              "      <td>71</td>\n",
              "    </tr>\n",
              "    <tr>\n",
              "      <th>49</th>\n",
              "      <td>38</td>\n",
              "    </tr>\n",
              "  </tbody>\n",
              "</table>\n",
              "</div>"
            ],
            "text/plain": [
              "    score\n",
              "0      60\n",
              "1      49\n",
              "2      99\n",
              "3      89\n",
              "4      89\n",
              "5      65\n",
              "6      55\n",
              "7      94\n",
              "8      94\n",
              "9      84\n",
              "10      5\n",
              "11     79\n",
              "12     58\n",
              "13     96\n",
              "14     83\n",
              "15     74\n",
              "16     93\n",
              "17     86\n",
              "18     20\n",
              "19     25\n",
              "20     10\n",
              "21     69\n",
              "22     16\n",
              "23      2\n",
              "24     47\n",
              "25      6\n",
              "26     92\n",
              "27      0\n",
              "28     28\n",
              "29     54\n",
              "30     82\n",
              "31     95\n",
              "32     84\n",
              "33     38\n",
              "34     49\n",
              "35     91\n",
              "36     37\n",
              "37     40\n",
              "38     10\n",
              "39     37\n",
              "40     93\n",
              "41     90\n",
              "42     56\n",
              "43     51\n",
              "44     56\n",
              "45     48\n",
              "46      1\n",
              "47     32\n",
              "48     71\n",
              "49     38"
            ]
          },
          "metadata": {
            "tags": []
          },
          "execution_count": 4
        }
      ]
    },
    {
      "cell_type": "code",
      "metadata": {
        "id": "VjvNpxjA6ODj",
        "colab_type": "code",
        "colab": {
          "base_uri": "https://localhost:8080/",
          "height": 1000
        },
        "outputId": "afb2144c-dcdf-40ab-9291-0820df9ccdab"
      },
      "source": [
        "letter = pd.cut(score.score,bins=bins,labels=grade_bin)\n",
        "score[\"Letter\"] = letter\n",
        "score"
      ],
      "execution_count": null,
      "outputs": [
        {
          "output_type": "execute_result",
          "data": {
            "text/html": [
              "<div>\n",
              "<style scoped>\n",
              "    .dataframe tbody tr th:only-of-type {\n",
              "        vertical-align: middle;\n",
              "    }\n",
              "\n",
              "    .dataframe tbody tr th {\n",
              "        vertical-align: top;\n",
              "    }\n",
              "\n",
              "    .dataframe thead th {\n",
              "        text-align: right;\n",
              "    }\n",
              "</style>\n",
              "<table border=\"1\" class=\"dataframe\">\n",
              "  <thead>\n",
              "    <tr style=\"text-align: right;\">\n",
              "      <th></th>\n",
              "      <th>score</th>\n",
              "      <th>Letter</th>\n",
              "    </tr>\n",
              "  </thead>\n",
              "  <tbody>\n",
              "    <tr>\n",
              "      <th>0</th>\n",
              "      <td>60</td>\n",
              "      <td>E</td>\n",
              "    </tr>\n",
              "    <tr>\n",
              "      <th>1</th>\n",
              "      <td>49</td>\n",
              "      <td>E</td>\n",
              "    </tr>\n",
              "    <tr>\n",
              "      <th>2</th>\n",
              "      <td>99</td>\n",
              "      <td>B</td>\n",
              "    </tr>\n",
              "    <tr>\n",
              "      <th>3</th>\n",
              "      <td>89</td>\n",
              "      <td>C</td>\n",
              "    </tr>\n",
              "    <tr>\n",
              "      <th>4</th>\n",
              "      <td>89</td>\n",
              "      <td>C</td>\n",
              "    </tr>\n",
              "    <tr>\n",
              "      <th>5</th>\n",
              "      <td>65</td>\n",
              "      <td>D</td>\n",
              "    </tr>\n",
              "    <tr>\n",
              "      <th>6</th>\n",
              "      <td>55</td>\n",
              "      <td>E</td>\n",
              "    </tr>\n",
              "    <tr>\n",
              "      <th>7</th>\n",
              "      <td>94</td>\n",
              "      <td>B</td>\n",
              "    </tr>\n",
              "    <tr>\n",
              "      <th>8</th>\n",
              "      <td>94</td>\n",
              "      <td>B</td>\n",
              "    </tr>\n",
              "    <tr>\n",
              "      <th>9</th>\n",
              "      <td>84</td>\n",
              "      <td>C</td>\n",
              "    </tr>\n",
              "    <tr>\n",
              "      <th>10</th>\n",
              "      <td>5</td>\n",
              "      <td>E</td>\n",
              "    </tr>\n",
              "    <tr>\n",
              "      <th>11</th>\n",
              "      <td>79</td>\n",
              "      <td>D</td>\n",
              "    </tr>\n",
              "    <tr>\n",
              "      <th>12</th>\n",
              "      <td>58</td>\n",
              "      <td>E</td>\n",
              "    </tr>\n",
              "    <tr>\n",
              "      <th>13</th>\n",
              "      <td>96</td>\n",
              "      <td>B</td>\n",
              "    </tr>\n",
              "    <tr>\n",
              "      <th>14</th>\n",
              "      <td>83</td>\n",
              "      <td>C</td>\n",
              "    </tr>\n",
              "    <tr>\n",
              "      <th>15</th>\n",
              "      <td>74</td>\n",
              "      <td>D</td>\n",
              "    </tr>\n",
              "    <tr>\n",
              "      <th>16</th>\n",
              "      <td>93</td>\n",
              "      <td>B</td>\n",
              "    </tr>\n",
              "    <tr>\n",
              "      <th>17</th>\n",
              "      <td>86</td>\n",
              "      <td>C</td>\n",
              "    </tr>\n",
              "    <tr>\n",
              "      <th>18</th>\n",
              "      <td>20</td>\n",
              "      <td>E</td>\n",
              "    </tr>\n",
              "    <tr>\n",
              "      <th>19</th>\n",
              "      <td>25</td>\n",
              "      <td>E</td>\n",
              "    </tr>\n",
              "    <tr>\n",
              "      <th>20</th>\n",
              "      <td>10</td>\n",
              "      <td>E</td>\n",
              "    </tr>\n",
              "    <tr>\n",
              "      <th>21</th>\n",
              "      <td>69</td>\n",
              "      <td>D</td>\n",
              "    </tr>\n",
              "    <tr>\n",
              "      <th>22</th>\n",
              "      <td>16</td>\n",
              "      <td>E</td>\n",
              "    </tr>\n",
              "    <tr>\n",
              "      <th>23</th>\n",
              "      <td>2</td>\n",
              "      <td>E</td>\n",
              "    </tr>\n",
              "    <tr>\n",
              "      <th>24</th>\n",
              "      <td>47</td>\n",
              "      <td>E</td>\n",
              "    </tr>\n",
              "    <tr>\n",
              "      <th>25</th>\n",
              "      <td>6</td>\n",
              "      <td>E</td>\n",
              "    </tr>\n",
              "    <tr>\n",
              "      <th>26</th>\n",
              "      <td>92</td>\n",
              "      <td>B</td>\n",
              "    </tr>\n",
              "    <tr>\n",
              "      <th>27</th>\n",
              "      <td>0</td>\n",
              "      <td>NaN</td>\n",
              "    </tr>\n",
              "    <tr>\n",
              "      <th>28</th>\n",
              "      <td>28</td>\n",
              "      <td>E</td>\n",
              "    </tr>\n",
              "    <tr>\n",
              "      <th>29</th>\n",
              "      <td>54</td>\n",
              "      <td>E</td>\n",
              "    </tr>\n",
              "    <tr>\n",
              "      <th>30</th>\n",
              "      <td>82</td>\n",
              "      <td>C</td>\n",
              "    </tr>\n",
              "    <tr>\n",
              "      <th>31</th>\n",
              "      <td>95</td>\n",
              "      <td>B</td>\n",
              "    </tr>\n",
              "    <tr>\n",
              "      <th>32</th>\n",
              "      <td>84</td>\n",
              "      <td>C</td>\n",
              "    </tr>\n",
              "    <tr>\n",
              "      <th>33</th>\n",
              "      <td>38</td>\n",
              "      <td>E</td>\n",
              "    </tr>\n",
              "    <tr>\n",
              "      <th>34</th>\n",
              "      <td>49</td>\n",
              "      <td>E</td>\n",
              "    </tr>\n",
              "    <tr>\n",
              "      <th>35</th>\n",
              "      <td>91</td>\n",
              "      <td>B</td>\n",
              "    </tr>\n",
              "    <tr>\n",
              "      <th>36</th>\n",
              "      <td>37</td>\n",
              "      <td>E</td>\n",
              "    </tr>\n",
              "    <tr>\n",
              "      <th>37</th>\n",
              "      <td>40</td>\n",
              "      <td>E</td>\n",
              "    </tr>\n",
              "    <tr>\n",
              "      <th>38</th>\n",
              "      <td>10</td>\n",
              "      <td>E</td>\n",
              "    </tr>\n",
              "    <tr>\n",
              "      <th>39</th>\n",
              "      <td>37</td>\n",
              "      <td>E</td>\n",
              "    </tr>\n",
              "    <tr>\n",
              "      <th>40</th>\n",
              "      <td>93</td>\n",
              "      <td>B</td>\n",
              "    </tr>\n",
              "    <tr>\n",
              "      <th>41</th>\n",
              "      <td>90</td>\n",
              "      <td>C</td>\n",
              "    </tr>\n",
              "    <tr>\n",
              "      <th>42</th>\n",
              "      <td>56</td>\n",
              "      <td>E</td>\n",
              "    </tr>\n",
              "    <tr>\n",
              "      <th>43</th>\n",
              "      <td>51</td>\n",
              "      <td>E</td>\n",
              "    </tr>\n",
              "    <tr>\n",
              "      <th>44</th>\n",
              "      <td>56</td>\n",
              "      <td>E</td>\n",
              "    </tr>\n",
              "    <tr>\n",
              "      <th>45</th>\n",
              "      <td>48</td>\n",
              "      <td>E</td>\n",
              "    </tr>\n",
              "    <tr>\n",
              "      <th>46</th>\n",
              "      <td>1</td>\n",
              "      <td>E</td>\n",
              "    </tr>\n",
              "    <tr>\n",
              "      <th>47</th>\n",
              "      <td>32</td>\n",
              "      <td>E</td>\n",
              "    </tr>\n",
              "    <tr>\n",
              "      <th>48</th>\n",
              "      <td>71</td>\n",
              "      <td>D</td>\n",
              "    </tr>\n",
              "    <tr>\n",
              "      <th>49</th>\n",
              "      <td>38</td>\n",
              "      <td>E</td>\n",
              "    </tr>\n",
              "  </tbody>\n",
              "</table>\n",
              "</div>"
            ],
            "text/plain": [
              "    score Letter\n",
              "0      60      E\n",
              "1      49      E\n",
              "2      99      B\n",
              "3      89      C\n",
              "4      89      C\n",
              "5      65      D\n",
              "6      55      E\n",
              "7      94      B\n",
              "8      94      B\n",
              "9      84      C\n",
              "10      5      E\n",
              "11     79      D\n",
              "12     58      E\n",
              "13     96      B\n",
              "14     83      C\n",
              "15     74      D\n",
              "16     93      B\n",
              "17     86      C\n",
              "18     20      E\n",
              "19     25      E\n",
              "20     10      E\n",
              "21     69      D\n",
              "22     16      E\n",
              "23      2      E\n",
              "24     47      E\n",
              "25      6      E\n",
              "26     92      B\n",
              "27      0    NaN\n",
              "28     28      E\n",
              "29     54      E\n",
              "30     82      C\n",
              "31     95      B\n",
              "32     84      C\n",
              "33     38      E\n",
              "34     49      E\n",
              "35     91      B\n",
              "36     37      E\n",
              "37     40      E\n",
              "38     10      E\n",
              "39     37      E\n",
              "40     93      B\n",
              "41     90      C\n",
              "42     56      E\n",
              "43     51      E\n",
              "44     56      E\n",
              "45     48      E\n",
              "46      1      E\n",
              "47     32      E\n",
              "48     71      D\n",
              "49     38      E"
            ]
          },
          "metadata": {
            "tags": []
          },
          "execution_count": 5
        }
      ]
    },
    {
      "cell_type": "code",
      "metadata": {
        "id": "ZQnXgOHI6gzx",
        "colab_type": "code",
        "colab": {
          "base_uri": "https://localhost:8080/",
          "height": 122
        },
        "outputId": "70933f64-fbb0-4d64-8ce4-f2ac39d0e869"
      },
      "source": [
        "score.Letter.value_counts()"
      ],
      "execution_count": null,
      "outputs": [
        {
          "output_type": "execute_result",
          "data": {
            "text/plain": [
              "E    27\n",
              "B     9\n",
              "C     8\n",
              "D     5\n",
              "A     0\n",
              "Name: Letter, dtype: int64"
            ]
          },
          "metadata": {
            "tags": []
          },
          "execution_count": 6
        }
      ]
    },
    {
      "cell_type": "code",
      "metadata": {
        "id": "Qoj4DUet7G1c",
        "colab_type": "code",
        "colab": {
          "base_uri": "https://localhost:8080/",
          "height": 1000
        },
        "outputId": "55461119-0178-4e7e-bfaf-51e809320186"
      },
      "source": [
        "import numpy as np\n",
        "\n",
        "s = np.random.randint(100,size=50)\n",
        "bins = [0,60,80,90,99,100]\n",
        "grade_bin = list(\"EDCBA\")\n",
        "bins2 = np.arange(0,101,10)\n",
        "\n",
        "df_score = pd.DataFrame({\"score\":s})\n",
        "df_score\n"
      ],
      "execution_count": null,
      "outputs": [
        {
          "output_type": "execute_result",
          "data": {
            "text/html": [
              "<div>\n",
              "<style scoped>\n",
              "    .dataframe tbody tr th:only-of-type {\n",
              "        vertical-align: middle;\n",
              "    }\n",
              "\n",
              "    .dataframe tbody tr th {\n",
              "        vertical-align: top;\n",
              "    }\n",
              "\n",
              "    .dataframe thead th {\n",
              "        text-align: right;\n",
              "    }\n",
              "</style>\n",
              "<table border=\"1\" class=\"dataframe\">\n",
              "  <thead>\n",
              "    <tr style=\"text-align: right;\">\n",
              "      <th></th>\n",
              "      <th>score</th>\n",
              "    </tr>\n",
              "  </thead>\n",
              "  <tbody>\n",
              "    <tr>\n",
              "      <th>0</th>\n",
              "      <td>14</td>\n",
              "    </tr>\n",
              "    <tr>\n",
              "      <th>1</th>\n",
              "      <td>53</td>\n",
              "    </tr>\n",
              "    <tr>\n",
              "      <th>2</th>\n",
              "      <td>47</td>\n",
              "    </tr>\n",
              "    <tr>\n",
              "      <th>3</th>\n",
              "      <td>26</td>\n",
              "    </tr>\n",
              "    <tr>\n",
              "      <th>4</th>\n",
              "      <td>75</td>\n",
              "    </tr>\n",
              "    <tr>\n",
              "      <th>5</th>\n",
              "      <td>96</td>\n",
              "    </tr>\n",
              "    <tr>\n",
              "      <th>6</th>\n",
              "      <td>6</td>\n",
              "    </tr>\n",
              "    <tr>\n",
              "      <th>7</th>\n",
              "      <td>26</td>\n",
              "    </tr>\n",
              "    <tr>\n",
              "      <th>8</th>\n",
              "      <td>98</td>\n",
              "    </tr>\n",
              "    <tr>\n",
              "      <th>9</th>\n",
              "      <td>27</td>\n",
              "    </tr>\n",
              "    <tr>\n",
              "      <th>10</th>\n",
              "      <td>11</td>\n",
              "    </tr>\n",
              "    <tr>\n",
              "      <th>11</th>\n",
              "      <td>75</td>\n",
              "    </tr>\n",
              "    <tr>\n",
              "      <th>12</th>\n",
              "      <td>85</td>\n",
              "    </tr>\n",
              "    <tr>\n",
              "      <th>13</th>\n",
              "      <td>42</td>\n",
              "    </tr>\n",
              "    <tr>\n",
              "      <th>14</th>\n",
              "      <td>48</td>\n",
              "    </tr>\n",
              "    <tr>\n",
              "      <th>15</th>\n",
              "      <td>2</td>\n",
              "    </tr>\n",
              "    <tr>\n",
              "      <th>16</th>\n",
              "      <td>77</td>\n",
              "    </tr>\n",
              "    <tr>\n",
              "      <th>17</th>\n",
              "      <td>40</td>\n",
              "    </tr>\n",
              "    <tr>\n",
              "      <th>18</th>\n",
              "      <td>32</td>\n",
              "    </tr>\n",
              "    <tr>\n",
              "      <th>19</th>\n",
              "      <td>15</td>\n",
              "    </tr>\n",
              "    <tr>\n",
              "      <th>20</th>\n",
              "      <td>66</td>\n",
              "    </tr>\n",
              "    <tr>\n",
              "      <th>21</th>\n",
              "      <td>88</td>\n",
              "    </tr>\n",
              "    <tr>\n",
              "      <th>22</th>\n",
              "      <td>80</td>\n",
              "    </tr>\n",
              "    <tr>\n",
              "      <th>23</th>\n",
              "      <td>74</td>\n",
              "    </tr>\n",
              "    <tr>\n",
              "      <th>24</th>\n",
              "      <td>31</td>\n",
              "    </tr>\n",
              "    <tr>\n",
              "      <th>25</th>\n",
              "      <td>2</td>\n",
              "    </tr>\n",
              "    <tr>\n",
              "      <th>26</th>\n",
              "      <td>44</td>\n",
              "    </tr>\n",
              "    <tr>\n",
              "      <th>27</th>\n",
              "      <td>80</td>\n",
              "    </tr>\n",
              "    <tr>\n",
              "      <th>28</th>\n",
              "      <td>20</td>\n",
              "    </tr>\n",
              "    <tr>\n",
              "      <th>29</th>\n",
              "      <td>46</td>\n",
              "    </tr>\n",
              "    <tr>\n",
              "      <th>30</th>\n",
              "      <td>16</td>\n",
              "    </tr>\n",
              "    <tr>\n",
              "      <th>31</th>\n",
              "      <td>73</td>\n",
              "    </tr>\n",
              "    <tr>\n",
              "      <th>32</th>\n",
              "      <td>76</td>\n",
              "    </tr>\n",
              "    <tr>\n",
              "      <th>33</th>\n",
              "      <td>62</td>\n",
              "    </tr>\n",
              "    <tr>\n",
              "      <th>34</th>\n",
              "      <td>24</td>\n",
              "    </tr>\n",
              "    <tr>\n",
              "      <th>35</th>\n",
              "      <td>17</td>\n",
              "    </tr>\n",
              "    <tr>\n",
              "      <th>36</th>\n",
              "      <td>11</td>\n",
              "    </tr>\n",
              "    <tr>\n",
              "      <th>37</th>\n",
              "      <td>36</td>\n",
              "    </tr>\n",
              "    <tr>\n",
              "      <th>38</th>\n",
              "      <td>20</td>\n",
              "    </tr>\n",
              "    <tr>\n",
              "      <th>39</th>\n",
              "      <td>98</td>\n",
              "    </tr>\n",
              "    <tr>\n",
              "      <th>40</th>\n",
              "      <td>11</td>\n",
              "    </tr>\n",
              "    <tr>\n",
              "      <th>41</th>\n",
              "      <td>50</td>\n",
              "    </tr>\n",
              "    <tr>\n",
              "      <th>42</th>\n",
              "      <td>50</td>\n",
              "    </tr>\n",
              "    <tr>\n",
              "      <th>43</th>\n",
              "      <td>87</td>\n",
              "    </tr>\n",
              "    <tr>\n",
              "      <th>44</th>\n",
              "      <td>14</td>\n",
              "    </tr>\n",
              "    <tr>\n",
              "      <th>45</th>\n",
              "      <td>26</td>\n",
              "    </tr>\n",
              "    <tr>\n",
              "      <th>46</th>\n",
              "      <td>93</td>\n",
              "    </tr>\n",
              "    <tr>\n",
              "      <th>47</th>\n",
              "      <td>35</td>\n",
              "    </tr>\n",
              "    <tr>\n",
              "      <th>48</th>\n",
              "      <td>51</td>\n",
              "    </tr>\n",
              "    <tr>\n",
              "      <th>49</th>\n",
              "      <td>67</td>\n",
              "    </tr>\n",
              "  </tbody>\n",
              "</table>\n",
              "</div>"
            ],
            "text/plain": [
              "    score\n",
              "0      14\n",
              "1      53\n",
              "2      47\n",
              "3      26\n",
              "4      75\n",
              "5      96\n",
              "6       6\n",
              "7      26\n",
              "8      98\n",
              "9      27\n",
              "10     11\n",
              "11     75\n",
              "12     85\n",
              "13     42\n",
              "14     48\n",
              "15      2\n",
              "16     77\n",
              "17     40\n",
              "18     32\n",
              "19     15\n",
              "20     66\n",
              "21     88\n",
              "22     80\n",
              "23     74\n",
              "24     31\n",
              "25      2\n",
              "26     44\n",
              "27     80\n",
              "28     20\n",
              "29     46\n",
              "30     16\n",
              "31     73\n",
              "32     76\n",
              "33     62\n",
              "34     24\n",
              "35     17\n",
              "36     11\n",
              "37     36\n",
              "38     20\n",
              "39     98\n",
              "40     11\n",
              "41     50\n",
              "42     50\n",
              "43     87\n",
              "44     14\n",
              "45     26\n",
              "46     93\n",
              "47     35\n",
              "48     51\n",
              "49     67"
            ]
          },
          "metadata": {
            "tags": []
          },
          "execution_count": 82
        }
      ]
    },
    {
      "cell_type": "code",
      "metadata": {
        "id": "TnpqebMl7hyx",
        "colab_type": "code",
        "colab": {
          "base_uri": "https://localhost:8080/",
          "height": 70
        },
        "outputId": "fccaf2c6-ac52-4e86-fe3c-5d6a214f43ce"
      },
      "source": [
        "print(type(bins))\n",
        "type(list(bins2))\n",
        "\n",
        "print(bins2)\n",
        "grade_bin = [str(g)+\"+\" for g in range(0,91,10)]\n",
        "grade_bin"
      ],
      "execution_count": null,
      "outputs": [
        {
          "output_type": "stream",
          "text": [
            "<class 'list'>\n",
            "[  0  10  20  30  40  50  60  70  80  90 100]\n"
          ],
          "name": "stdout"
        },
        {
          "output_type": "execute_result",
          "data": {
            "text/plain": [
              "['0+', '10+', '20+', '30+', '40+', '50+', '60+', '70+', '80+', '90+']"
            ]
          },
          "metadata": {
            "tags": []
          },
          "execution_count": 92
        }
      ]
    },
    {
      "cell_type": "code",
      "metadata": {
        "id": "aGNDf_kP7SbK",
        "colab_type": "code",
        "colab": {
          "base_uri": "https://localhost:8080/",
          "height": 932
        },
        "outputId": "1bf1351e-bbc2-46e1-b625-02bd39f50e5a"
      },
      "source": [
        "\n",
        "letter = pd.cut(score.score,bins=list(bins2),labels=grade_bin)\n",
        "letter"
      ],
      "execution_count": null,
      "outputs": [
        {
          "output_type": "execute_result",
          "data": {
            "text/plain": [
              "0     10+\n",
              "1     30+\n",
              "2     40+\n",
              "3     20+\n",
              "4     40+\n",
              "5     60+\n",
              "6     50+\n",
              "7     10+\n",
              "8     60+\n",
              "9     50+\n",
              "10    50+\n",
              "11    50+\n",
              "12    10+\n",
              "13    30+\n",
              "14    80+\n",
              "15    20+\n",
              "16    50+\n",
              "17    50+\n",
              "18    90+\n",
              "19    80+\n",
              "20    50+\n",
              "21    30+\n",
              "22    80+\n",
              "23    50+\n",
              "24    70+\n",
              "25    50+\n",
              "26    30+\n",
              "27    20+\n",
              "28    40+\n",
              "29     0+\n",
              "30    70+\n",
              "31    30+\n",
              "32    30+\n",
              "33    10+\n",
              "34    20+\n",
              "35    50+\n",
              "36    60+\n",
              "37    50+\n",
              "38    50+\n",
              "39    50+\n",
              "40    40+\n",
              "41    60+\n",
              "42    30+\n",
              "43    80+\n",
              "44    60+\n",
              "45    20+\n",
              "46    50+\n",
              "47    20+\n",
              "48    70+\n",
              "49    50+\n",
              "Name: score, dtype: category\n",
              "Categories (10, object): [0+ < 10+ < 20+ < 30+ ... 60+ < 70+ < 80+ < 90+]"
            ]
          },
          "metadata": {
            "tags": []
          },
          "execution_count": 93
        }
      ]
    },
    {
      "cell_type": "code",
      "metadata": {
        "id": "U8xsep_c8eah",
        "colab_type": "code",
        "colab": {
          "base_uri": "https://localhost:8080/",
          "height": 210
        },
        "outputId": "073f35eb-1948-41a4-d1c1-b591a197f7f6"
      },
      "source": [
        "score[\"Level\"] = letter\n",
        "score.Level.value_counts()"
      ],
      "execution_count": null,
      "outputs": [
        {
          "output_type": "execute_result",
          "data": {
            "text/plain": [
              "50+    15\n",
              "30+     7\n",
              "20+     6\n",
              "60+     5\n",
              "80+     4\n",
              "40+     4\n",
              "10+     4\n",
              "70+     3\n",
              "90+     1\n",
              "0+      1\n",
              "Name: Level, dtype: int64"
            ]
          },
          "metadata": {
            "tags": []
          },
          "execution_count": 95
        }
      ]
    },
    {
      "cell_type": "code",
      "metadata": {
        "id": "rTokr7mS-qr6",
        "colab_type": "code",
        "colab": {
          "base_uri": "https://localhost:8080/",
          "height": 141
        },
        "outputId": "1417c508-0c9f-49ed-fd9e-9e3568c659ef"
      },
      "source": [
        "score.nsmallest(3,[\"score\"])"
      ],
      "execution_count": null,
      "outputs": [
        {
          "output_type": "execute_result",
          "data": {
            "text/html": [
              "<div>\n",
              "<style scoped>\n",
              "    .dataframe tbody tr th:only-of-type {\n",
              "        vertical-align: middle;\n",
              "    }\n",
              "\n",
              "    .dataframe tbody tr th {\n",
              "        vertical-align: top;\n",
              "    }\n",
              "\n",
              "    .dataframe thead th {\n",
              "        text-align: right;\n",
              "    }\n",
              "</style>\n",
              "<table border=\"1\" class=\"dataframe\">\n",
              "  <thead>\n",
              "    <tr style=\"text-align: right;\">\n",
              "      <th></th>\n",
              "      <th>score</th>\n",
              "      <th>Letter</th>\n",
              "      <th>Level</th>\n",
              "    </tr>\n",
              "  </thead>\n",
              "  <tbody>\n",
              "    <tr>\n",
              "      <th>29</th>\n",
              "      <td>10</td>\n",
              "      <td>E</td>\n",
              "      <td>0+</td>\n",
              "    </tr>\n",
              "    <tr>\n",
              "      <th>0</th>\n",
              "      <td>14</td>\n",
              "      <td>E</td>\n",
              "      <td>10+</td>\n",
              "    </tr>\n",
              "    <tr>\n",
              "      <th>12</th>\n",
              "      <td>15</td>\n",
              "      <td>E</td>\n",
              "      <td>10+</td>\n",
              "    </tr>\n",
              "  </tbody>\n",
              "</table>\n",
              "</div>"
            ],
            "text/plain": [
              "    score Letter Level\n",
              "29     10      E    0+\n",
              "0      14      E   10+\n",
              "12     15      E   10+"
            ]
          },
          "metadata": {
            "tags": []
          },
          "execution_count": 98
        }
      ]
    },
    {
      "cell_type": "code",
      "metadata": {
        "id": "462zzwpY-yJc",
        "colab_type": "code",
        "colab": {}
      },
      "source": [
        "import seaborn as sns\n",
        "import numpy as np\n",
        "import pandas as pd\n",
        "import matplotlib.pyplot as plt\n",
        "from IPython.html.widgets import interact\n",
        "from dautil import data\n",
        "from dautil import ts"
      ],
      "execution_count": null,
      "outputs": []
    },
    {
      "cell_type": "code",
      "metadata": {
        "id": "GJt_a3wtSdrN",
        "colab_type": "code",
        "colab": {}
      },
      "source": [
        "%matplotlib inline\n",
        "df = data.Weather.load()"
      ],
      "execution_count": null,
      "outputs": []
    },
    {
      "cell_type": "code",
      "metadata": {
        "id": "4pMV6s8rSwl4",
        "colab_type": "code",
        "colab": {}
      },
      "source": [
        "def plot_data(x='TEMP', y='RAIN', z='WIND_SPEED', f='A', size=10,cmap='Blues'):\n",
        "    dfx = df[x].resample(f)\n",
        "    dfy = df[y].resample(f).mean()\n",
        "    dfz = df[z].resample(f).mean()\n",
        "\n",
        "    bubbles = (dfz - dfz.min())/(dfz.max() - dfz.min())\n",
        "    years = dfz.index.year\n",
        "    sc = plt.scatter(dfx, dfy, s= size * bubbles + 9, c = years, \n",
        "                    cmap=cmap, label=data.Weather.get_header(z), \n",
        "                    alpha=0.5)\n",
        "    plt.colorbar(sc, label='Year')\n",
        "\n",
        "    freqs = {'A': 'Annual', 'M': 'Monthly', 'D': 'Daily'}\n",
        "    plt.title(freqs[f] + ' Averages')\n",
        "    plt.xlabel(data.Weather.get_header(x))\n",
        "    plt.ylabel(data.Weather.get_header(y))\n",
        "    plt.legend(loc='best')"
      ],
      "execution_count": null,
      "outputs": []
    },
    {
      "cell_type": "code",
      "metadata": {
        "id": "smeWiE0LTULl",
        "colab_type": "code",
        "colab": {
          "base_uri": "https://localhost:8080/",
          "height": 350
        },
        "outputId": "4bbf6fb3-1ed3-433a-f035-ff07efaa25ac"
      },
      "source": [
        "vars = df.columns.tolist()\n",
        "freqs = ('A', 'M', 'D')\n",
        "cmaps = [cmap for cmap in plt.cm.datad if not cmap.endswith(\"_r\")]\n",
        "cmaps.sort()\n",
        "interact(plot_data, x=vars, y=vars, z=vars, f=freqs,size=(100,700), cmap=cmaps)"
      ],
      "execution_count": null,
      "outputs": [
        {
          "output_type": "error",
          "ename": "ValueError",
          "evalue": "ignored",
          "traceback": [
            "\u001b[0;31m---------------------------------------------------------------------------\u001b[0m",
            "\u001b[0;31mValueError\u001b[0m                                Traceback (most recent call last)",
            "\u001b[0;32m<ipython-input-17-a68f83ef3fd3>\u001b[0m in \u001b[0;36m<module>\u001b[0;34m()\u001b[0m\n\u001b[1;32m      3\u001b[0m \u001b[0mcmaps\u001b[0m \u001b[0;34m=\u001b[0m \u001b[0;34m[\u001b[0m\u001b[0mcmap\u001b[0m \u001b[0;32mfor\u001b[0m \u001b[0mcmap\u001b[0m \u001b[0;32min\u001b[0m \u001b[0mplt\u001b[0m\u001b[0;34m.\u001b[0m\u001b[0mcm\u001b[0m\u001b[0;34m.\u001b[0m\u001b[0mdatad\u001b[0m \u001b[0;32mif\u001b[0m \u001b[0;32mnot\u001b[0m \u001b[0mcmap\u001b[0m\u001b[0;34m.\u001b[0m\u001b[0mendswith\u001b[0m\u001b[0;34m(\u001b[0m\u001b[0;34m\"_r\"\u001b[0m\u001b[0;34m)\u001b[0m\u001b[0;34m]\u001b[0m\u001b[0;34m\u001b[0m\u001b[0;34m\u001b[0m\u001b[0m\n\u001b[1;32m      4\u001b[0m \u001b[0mcmaps\u001b[0m\u001b[0;34m.\u001b[0m\u001b[0msort\u001b[0m\u001b[0;34m(\u001b[0m\u001b[0;34m)\u001b[0m\u001b[0;34m\u001b[0m\u001b[0;34m\u001b[0m\u001b[0m\n\u001b[0;32m----> 5\u001b[0;31m \u001b[0minteract\u001b[0m\u001b[0;34m(\u001b[0m\u001b[0mplot_data\u001b[0m\u001b[0;34m,\u001b[0m \u001b[0mx\u001b[0m\u001b[0;34m=\u001b[0m\u001b[0mvars\u001b[0m\u001b[0;34m,\u001b[0m \u001b[0my\u001b[0m\u001b[0;34m=\u001b[0m\u001b[0mvars\u001b[0m\u001b[0;34m,\u001b[0m \u001b[0mz\u001b[0m\u001b[0;34m=\u001b[0m\u001b[0mvars\u001b[0m\u001b[0;34m,\u001b[0m \u001b[0mf\u001b[0m\u001b[0;34m=\u001b[0m\u001b[0mfreqs\u001b[0m\u001b[0;34m,\u001b[0m\u001b[0msize\u001b[0m\u001b[0;34m=\u001b[0m\u001b[0;34m(\u001b[0m\u001b[0;36m100\u001b[0m\u001b[0;34m,\u001b[0m\u001b[0;36m700\u001b[0m\u001b[0;34m)\u001b[0m\u001b[0;34m,\u001b[0m \u001b[0mcmap\u001b[0m\u001b[0;34m=\u001b[0m\u001b[0mcmaps\u001b[0m\u001b[0;34m)\u001b[0m\u001b[0;34m\u001b[0m\u001b[0;34m\u001b[0m\u001b[0m\n\u001b[0m",
            "\u001b[0;32m/usr/local/lib/python3.6/dist-packages/ipywidgets/widgets/interaction.py\u001b[0m in \u001b[0;36m__call__\u001b[0;34m(self, _InteractFactory__interact_f, **kwargs)\u001b[0m\n\u001b[1;32m    526\u001b[0m         \u001b[0;31m#    def f(*args, **kwargs):\u001b[0m\u001b[0;34m\u001b[0m\u001b[0;34m\u001b[0m\u001b[0;34m\u001b[0m\u001b[0m\n\u001b[1;32m    527\u001b[0m         \u001b[0;31m#        ...\u001b[0m\u001b[0;34m\u001b[0m\u001b[0;34m\u001b[0m\u001b[0;34m\u001b[0m\u001b[0m\n\u001b[0;32m--> 528\u001b[0;31m         \u001b[0mw\u001b[0m \u001b[0;34m=\u001b[0m \u001b[0mself\u001b[0m\u001b[0;34m.\u001b[0m\u001b[0mwidget\u001b[0m\u001b[0;34m(\u001b[0m\u001b[0mf\u001b[0m\u001b[0;34m)\u001b[0m\u001b[0;34m\u001b[0m\u001b[0;34m\u001b[0m\u001b[0m\n\u001b[0m\u001b[1;32m    529\u001b[0m         \u001b[0;32mtry\u001b[0m\u001b[0;34m:\u001b[0m\u001b[0;34m\u001b[0m\u001b[0;34m\u001b[0m\u001b[0m\n\u001b[1;32m    530\u001b[0m             \u001b[0mf\u001b[0m\u001b[0;34m.\u001b[0m\u001b[0mwidget\u001b[0m \u001b[0;34m=\u001b[0m \u001b[0mw\u001b[0m\u001b[0;34m\u001b[0m\u001b[0;34m\u001b[0m\u001b[0m\n",
            "\u001b[0;32m/usr/local/lib/python3.6/dist-packages/ipywidgets/widgets/interaction.py\u001b[0m in \u001b[0;36mwidget\u001b[0;34m(self, f)\u001b[0m\n\u001b[1;32m    442\u001b[0m             \u001b[0mThe\u001b[0m \u001b[0mfunction\u001b[0m \u001b[0mto\u001b[0m \u001b[0mwhich\u001b[0m \u001b[0mthe\u001b[0m \u001b[0minteractive\u001b[0m \u001b[0mwidgets\u001b[0m \u001b[0mare\u001b[0m \u001b[0mtied\u001b[0m\u001b[0;34m.\u001b[0m\u001b[0;34m\u001b[0m\u001b[0;34m\u001b[0m\u001b[0m\n\u001b[1;32m    443\u001b[0m         \"\"\"\n\u001b[0;32m--> 444\u001b[0;31m         \u001b[0;32mreturn\u001b[0m \u001b[0mself\u001b[0m\u001b[0;34m.\u001b[0m\u001b[0mcls\u001b[0m\u001b[0;34m(\u001b[0m\u001b[0mf\u001b[0m\u001b[0;34m,\u001b[0m \u001b[0mself\u001b[0m\u001b[0;34m.\u001b[0m\u001b[0mopts\u001b[0m\u001b[0;34m,\u001b[0m \u001b[0;34m**\u001b[0m\u001b[0mself\u001b[0m\u001b[0;34m.\u001b[0m\u001b[0mkwargs\u001b[0m\u001b[0;34m)\u001b[0m\u001b[0;34m\u001b[0m\u001b[0;34m\u001b[0m\u001b[0m\n\u001b[0m\u001b[1;32m    445\u001b[0m \u001b[0;34m\u001b[0m\u001b[0m\n\u001b[1;32m    446\u001b[0m     \u001b[0;32mdef\u001b[0m \u001b[0m__call__\u001b[0m\u001b[0;34m(\u001b[0m\u001b[0mself\u001b[0m\u001b[0;34m,\u001b[0m \u001b[0m__interact_f\u001b[0m\u001b[0;34m=\u001b[0m\u001b[0;32mNone\u001b[0m\u001b[0;34m,\u001b[0m \u001b[0;34m**\u001b[0m\u001b[0mkwargs\u001b[0m\u001b[0;34m)\u001b[0m\u001b[0;34m:\u001b[0m\u001b[0;34m\u001b[0m\u001b[0;34m\u001b[0m\u001b[0m\n",
            "\u001b[0;32m/usr/local/lib/python3.6/dist-packages/ipywidgets/widgets/interaction.py\u001b[0m in \u001b[0;36m__init__\u001b[0;34m(self, _interactive__interact_f, _interactive__options, **kwargs)\u001b[0m\n\u001b[1;32m    198\u001b[0m             \u001b[0mgetcallargs\u001b[0m\u001b[0;34m(\u001b[0m\u001b[0mf\u001b[0m\u001b[0;34m,\u001b[0m \u001b[0;34m**\u001b[0m\u001b[0;34m{\u001b[0m\u001b[0mn\u001b[0m\u001b[0;34m:\u001b[0m\u001b[0mv\u001b[0m \u001b[0;32mfor\u001b[0m \u001b[0mn\u001b[0m\u001b[0;34m,\u001b[0m\u001b[0mv\u001b[0m\u001b[0;34m,\u001b[0m\u001b[0m_\u001b[0m \u001b[0;32min\u001b[0m \u001b[0mnew_kwargs\u001b[0m\u001b[0;34m}\u001b[0m\u001b[0;34m)\u001b[0m\u001b[0;34m\u001b[0m\u001b[0;34m\u001b[0m\u001b[0m\n\u001b[1;32m    199\u001b[0m         \u001b[0;31m# Now build the widgets from the abbreviations.\u001b[0m\u001b[0;34m\u001b[0m\u001b[0;34m\u001b[0m\u001b[0;34m\u001b[0m\u001b[0m\n\u001b[0;32m--> 200\u001b[0;31m         \u001b[0mself\u001b[0m\u001b[0;34m.\u001b[0m\u001b[0mkwargs_widgets\u001b[0m \u001b[0;34m=\u001b[0m \u001b[0mself\u001b[0m\u001b[0;34m.\u001b[0m\u001b[0mwidgets_from_abbreviations\u001b[0m\u001b[0;34m(\u001b[0m\u001b[0mnew_kwargs\u001b[0m\u001b[0;34m)\u001b[0m\u001b[0;34m\u001b[0m\u001b[0;34m\u001b[0m\u001b[0m\n\u001b[0m\u001b[1;32m    201\u001b[0m \u001b[0;34m\u001b[0m\u001b[0m\n\u001b[1;32m    202\u001b[0m         \u001b[0;31m# This has to be done as an assignment, not using self.children.append,\u001b[0m\u001b[0;34m\u001b[0m\u001b[0;34m\u001b[0m\u001b[0;34m\u001b[0m\u001b[0m\n",
            "\u001b[0;32m/usr/local/lib/python3.6/dist-packages/ipywidgets/widgets/interaction.py\u001b[0m in \u001b[0;36mwidgets_from_abbreviations\u001b[0;34m(self, seq)\u001b[0m\n\u001b[1;32m    298\u001b[0m             \u001b[0;32mif\u001b[0m \u001b[0;32mnot\u001b[0m \u001b[0;34m(\u001b[0m\u001b[0misinstance\u001b[0m\u001b[0;34m(\u001b[0m\u001b[0mwidget\u001b[0m\u001b[0;34m,\u001b[0m \u001b[0mValueWidget\u001b[0m\u001b[0;34m)\u001b[0m \u001b[0;32mor\u001b[0m \u001b[0misinstance\u001b[0m\u001b[0;34m(\u001b[0m\u001b[0mwidget\u001b[0m\u001b[0;34m,\u001b[0m \u001b[0mfixed\u001b[0m\u001b[0;34m)\u001b[0m\u001b[0;34m)\u001b[0m\u001b[0;34m:\u001b[0m\u001b[0;34m\u001b[0m\u001b[0;34m\u001b[0m\u001b[0m\n\u001b[1;32m    299\u001b[0m                 \u001b[0;32mif\u001b[0m \u001b[0mwidget\u001b[0m \u001b[0;32mis\u001b[0m \u001b[0;32mNone\u001b[0m\u001b[0;34m:\u001b[0m\u001b[0;34m\u001b[0m\u001b[0;34m\u001b[0m\u001b[0m\n\u001b[0;32m--> 300\u001b[0;31m                     \u001b[0;32mraise\u001b[0m \u001b[0mValueError\u001b[0m\u001b[0;34m(\u001b[0m\u001b[0;34m\"{!r} cannot be transformed to a widget\"\u001b[0m\u001b[0;34m.\u001b[0m\u001b[0mformat\u001b[0m\u001b[0;34m(\u001b[0m\u001b[0mabbrev\u001b[0m\u001b[0;34m)\u001b[0m\u001b[0;34m)\u001b[0m\u001b[0;34m\u001b[0m\u001b[0;34m\u001b[0m\u001b[0m\n\u001b[0m\u001b[1;32m    301\u001b[0m                 \u001b[0;32melse\u001b[0m\u001b[0;34m:\u001b[0m\u001b[0;34m\u001b[0m\u001b[0;34m\u001b[0m\u001b[0m\n\u001b[1;32m    302\u001b[0m                     \u001b[0;32mraise\u001b[0m \u001b[0mTypeError\u001b[0m\u001b[0;34m(\u001b[0m\u001b[0;34m\"{!r} is not a ValueWidget\"\u001b[0m\u001b[0;34m.\u001b[0m\u001b[0mformat\u001b[0m\u001b[0;34m(\u001b[0m\u001b[0mwidget\u001b[0m\u001b[0;34m)\u001b[0m\u001b[0;34m)\u001b[0m\u001b[0;34m\u001b[0m\u001b[0;34m\u001b[0m\u001b[0m\n",
            "\u001b[0;31mValueError\u001b[0m: ('A', 'M', 'D') cannot be transformed to a widget"
          ]
        }
      ]
    },
    {
      "cell_type": "code",
      "metadata": {
        "id": "dfiJUVqDv_cX",
        "colab_type": "code",
        "colab": {
          "base_uri": "https://localhost:8080/",
          "height": 87
        },
        "outputId": "f7b7d376-3c26-4998-c0b0-692b2e327946"
      },
      "source": [
        "# IntSlider\n",
        "wmm_count = 2 #@param {type:'slider', min:0, max:6, step:1}\n",
        "wmm_msg = \"I've conquered {} World Marathon Major(s).\".format(wmm_count)\n",
        "print(wmm_msg)\n",
        "\n",
        "# FloatSlider\n",
        "my_height = 174 #@param {type:'slider', min:170, max:180, step:0.1}\n",
        "my_weight = 63 #@param {type: 'slider', min:60, max:70, step:0.1}\n",
        "bmi = my_weight / (my_height*0.01)**2\n",
        "bmi_msg = \"I am {:.1f} cm tall and weigh {:.1f} kg with a BMI of {:.2f}.\".format(my_height, my_weight, bmi)\n",
        "print(bmi_msg)\n",
        "\n",
        "# IntText\n",
        "wmm_count = 1 #@param {type:'integer', min:0, max:6, step:1}\n",
        "wmm_msg = \"I've conquered {} World Marathon Major(s).\".format(wmm_count)\n",
        "print(wmm_msg)\n",
        "\n",
        "# FloatText\n",
        "my_height = 172 #@param {type:'number'}\n",
        "my_weight = 63 #@param {type: 'number'}\n",
        "bmi = my_weight / (my_height*0.01)**2\n",
        "bmi_msg = \"I am {:.1f} cm tall and weigh {:.1f} kg with a BMI of {:.2f}.\".format(my_height, my_weight, bmi)\n",
        "print(bmi_msg)"
      ],
      "execution_count": null,
      "outputs": [
        {
          "output_type": "stream",
          "text": [
            "I've conquered 1 World Marathon Major(s).\n",
            "I am 172.0 cm tall and weigh 63.0 kg with a BMI of 21.30.\n",
            "I've conquered 1 World Marathon Major(s).\n",
            "I am 172.0 cm tall and weigh 63.0 kg with a BMI of 21.30.\n"
          ],
          "name": "stdout"
        }
      ]
    },
    {
      "cell_type": "code",
      "metadata": {
        "id": "REa3Du7DwAFG",
        "colab_type": "code",
        "colab": {
          "base_uri": "https://localhost:8080/",
          "height": 34
        },
        "outputId": "6cdcebdd-32df-4166-9b04-53c9d3dc8a7d"
      },
      "source": [
        "# Dropdown\n",
        "next_wmm = 'New York Marathon' #@param ['Tokyo Marathon', 'Boston Marathon', 'New York Marathon', 'Chicago Marathon', 'London Marathon', 'Berlin Marathon']\n",
        "wmm_msg = \"{} will be my next World Marathon Major!\".format(next_wmm)\n",
        "print(wmm_msg)"
      ],
      "execution_count": null,
      "outputs": [
        {
          "output_type": "stream",
          "text": [
            "New York Marathon will be my next World Marathon Major!\n"
          ],
          "name": "stdout"
        }
      ]
    },
    {
      "cell_type": "code",
      "metadata": {
        "id": "NJjlA557wask",
        "colab_type": "code",
        "colab": {
          "base_uri": "https://localhost:8080/",
          "height": 34
        },
        "outputId": "30d9608b-b779-4c51-83b9-3bae7cfbebb1"
      },
      "source": [
        "# DatePicker\n",
        "next_wmm_date = '2020-03-01' #@param {type:'date'}\n",
        "wmm_msg = \"2020 Tokyo Marathon will be hosted on {}.\".format(next_wmm_date)\n",
        "print(wmm_msg)"
      ],
      "execution_count": null,
      "outputs": [
        {
          "output_type": "stream",
          "text": [
            "2020 Tokyo Marathon will be hosted on 2020-03-01.\n"
          ],
          "name": "stdout"
        }
      ]
    },
    {
      "cell_type": "code",
      "metadata": {
        "id": "Js82HBY5wlwu",
        "colab_type": "code",
        "colab": {}
      },
      "source": [
        "# Checkbox\n",
        "sub_245 = False #@param {type: 'boolean'}\n",
        "if sub_245:\n",
        "    print(\"I am eligible to register 2020 Tokyo Marathon as a semi-elite.\")"
      ],
      "execution_count": null,
      "outputs": []
    },
    {
      "cell_type": "code",
      "metadata": {
        "id": "a860S78wwscz",
        "colab_type": "code",
        "colab": {}
      },
      "source": [
        "import pandas as pd\n",
        "import numpy as np"
      ],
      "execution_count": null,
      "outputs": []
    },
    {
      "cell_type": "code",
      "metadata": {
        "id": "xa1IVpJumJs6",
        "colab_type": "code",
        "colab": {}
      },
      "source": [
        "import pandas as pd\n",
        "import numpy as np\n",
        "import random"
      ],
      "execution_count": null,
      "outputs": []
    },
    {
      "cell_type": "code",
      "metadata": {
        "id": "CaErZYtumsFb",
        "colab_type": "code",
        "colab": {
          "base_uri": "https://localhost:8080/",
          "height": 411
        },
        "outputId": "438fb058-4cb4-40bd-d27f-4d4348615f37"
      },
      "source": [
        "arr = np.zeros(10000)\n",
        "df = pd.DataFrame({'test':arr})\n",
        "df"
      ],
      "execution_count": null,
      "outputs": [
        {
          "output_type": "execute_result",
          "data": {
            "text/html": [
              "<div>\n",
              "<style scoped>\n",
              "    .dataframe tbody tr th:only-of-type {\n",
              "        vertical-align: middle;\n",
              "    }\n",
              "\n",
              "    .dataframe tbody tr th {\n",
              "        vertical-align: top;\n",
              "    }\n",
              "\n",
              "    .dataframe thead th {\n",
              "        text-align: right;\n",
              "    }\n",
              "</style>\n",
              "<table border=\"1\" class=\"dataframe\">\n",
              "  <thead>\n",
              "    <tr style=\"text-align: right;\">\n",
              "      <th></th>\n",
              "      <th>test</th>\n",
              "    </tr>\n",
              "  </thead>\n",
              "  <tbody>\n",
              "    <tr>\n",
              "      <th>0</th>\n",
              "      <td>0.0</td>\n",
              "    </tr>\n",
              "    <tr>\n",
              "      <th>1</th>\n",
              "      <td>0.0</td>\n",
              "    </tr>\n",
              "    <tr>\n",
              "      <th>2</th>\n",
              "      <td>0.0</td>\n",
              "    </tr>\n",
              "    <tr>\n",
              "      <th>3</th>\n",
              "      <td>0.0</td>\n",
              "    </tr>\n",
              "    <tr>\n",
              "      <th>4</th>\n",
              "      <td>0.0</td>\n",
              "    </tr>\n",
              "    <tr>\n",
              "      <th>...</th>\n",
              "      <td>...</td>\n",
              "    </tr>\n",
              "    <tr>\n",
              "      <th>9995</th>\n",
              "      <td>0.0</td>\n",
              "    </tr>\n",
              "    <tr>\n",
              "      <th>9996</th>\n",
              "      <td>0.0</td>\n",
              "    </tr>\n",
              "    <tr>\n",
              "      <th>9997</th>\n",
              "      <td>0.0</td>\n",
              "    </tr>\n",
              "    <tr>\n",
              "      <th>9998</th>\n",
              "      <td>0.0</td>\n",
              "    </tr>\n",
              "    <tr>\n",
              "      <th>9999</th>\n",
              "      <td>0.0</td>\n",
              "    </tr>\n",
              "  </tbody>\n",
              "</table>\n",
              "<p>10000 rows × 1 columns</p>\n",
              "</div>"
            ],
            "text/plain": [
              "      test\n",
              "0      0.0\n",
              "1      0.0\n",
              "2      0.0\n",
              "3      0.0\n",
              "4      0.0\n",
              "...    ...\n",
              "9995   0.0\n",
              "9996   0.0\n",
              "9997   0.0\n",
              "9998   0.0\n",
              "9999   0.0\n",
              "\n",
              "[10000 rows x 1 columns]"
            ]
          },
          "metadata": {
            "tags": []
          },
          "execution_count": 15
        }
      ]
    },
    {
      "cell_type": "code",
      "metadata": {
        "id": "mDXJ1QySmxct",
        "colab_type": "code",
        "colab": {}
      },
      "source": [
        "\n",
        "df1 = df\n",
        "for i in range(len(df)):\n",
        "    if df.iloc[i]['test'] != 1:\n",
        "        df1.iloc[i]['test'] = 1\n",
        "#3.098s"
      ],
      "execution_count": null,
      "outputs": []
    },
    {
      "cell_type": "code",
      "metadata": {
        "id": "9vNAUb1MoojE",
        "colab_type": "code",
        "colab": {
          "base_uri": "https://localhost:8080/",
          "height": 200
        },
        "outputId": "318083cd-9e79-42e0-caa9-43f86479b07f"
      },
      "source": [
        "df1.head()"
      ],
      "execution_count": null,
      "outputs": [
        {
          "output_type": "execute_result",
          "data": {
            "text/html": [
              "<div>\n",
              "<style scoped>\n",
              "    .dataframe tbody tr th:only-of-type {\n",
              "        vertical-align: middle;\n",
              "    }\n",
              "\n",
              "    .dataframe tbody tr th {\n",
              "        vertical-align: top;\n",
              "    }\n",
              "\n",
              "    .dataframe thead th {\n",
              "        text-align: right;\n",
              "    }\n",
              "</style>\n",
              "<table border=\"1\" class=\"dataframe\">\n",
              "  <thead>\n",
              "    <tr style=\"text-align: right;\">\n",
              "      <th></th>\n",
              "      <th>test</th>\n",
              "    </tr>\n",
              "  </thead>\n",
              "  <tbody>\n",
              "    <tr>\n",
              "      <th>0</th>\n",
              "      <td>1.0</td>\n",
              "    </tr>\n",
              "    <tr>\n",
              "      <th>1</th>\n",
              "      <td>1.0</td>\n",
              "    </tr>\n",
              "    <tr>\n",
              "      <th>2</th>\n",
              "      <td>1.0</td>\n",
              "    </tr>\n",
              "    <tr>\n",
              "      <th>3</th>\n",
              "      <td>1.0</td>\n",
              "    </tr>\n",
              "    <tr>\n",
              "      <th>4</th>\n",
              "      <td>1.0</td>\n",
              "    </tr>\n",
              "  </tbody>\n",
              "</table>\n",
              "</div>"
            ],
            "text/plain": [
              "   test\n",
              "0   1.0\n",
              "1   1.0\n",
              "2   1.0\n",
              "3   1.0\n",
              "4   1.0"
            ]
          },
          "metadata": {
            "tags": []
          },
          "execution_count": 19
        }
      ]
    },
    {
      "cell_type": "code",
      "metadata": {
        "id": "oMEmG6fwowLR",
        "colab_type": "code",
        "colab": {}
      },
      "source": [
        "i = 0\n",
        "for ind, row in df.iterrows():\n",
        "    if row['test'] != 1:\n",
        "        df1.iloc[i]['test'] = 1\n",
        "    i += 1\n",
        "# 1.818s"
      ],
      "execution_count": null,
      "outputs": []
    },
    {
      "cell_type": "code",
      "metadata": {
        "id": "XsNF4KeUo2tb",
        "colab_type": "code",
        "colab": {}
      },
      "source": [
        "df1['test'] = df['test'].apply(lambda x: x if x == 1 else 0)\n",
        "# 1.198s"
      ],
      "execution_count": null,
      "outputs": []
    },
    {
      "cell_type": "code",
      "metadata": {
        "id": "G2BZNLL2pP-q",
        "colab_type": "code",
        "colab": {
          "base_uri": "https://localhost:8080/",
          "height": 52
        },
        "outputId": "519d755a-5a0a-4a8c-862e-3d1f6a376ab9"
      },
      "source": [
        "for i ,r in df.iterrows():\n",
        "    print(i,r)\n",
        "    break"
      ],
      "execution_count": null,
      "outputs": [
        {
          "output_type": "stream",
          "text": [
            "0 test    1.0\n",
            "Name: 0, dtype: float64\n"
          ],
          "name": "stdout"
        }
      ]
    },
    {
      "cell_type": "code",
      "metadata": {
        "id": "IPBcJCMEpmW2",
        "colab_type": "code",
        "colab": {
          "base_uri": "https://localhost:8080/",
          "height": 200
        },
        "outputId": "1abe2b36-cc15-483a-c97e-a469796fede2"
      },
      "source": [
        "N = 10\n",
        "A_list = np.random.randint(1, 100, N)\n",
        "B_list = np.random.randint(1, 100, N)\n",
        "df = pd.DataFrame({'A': A_list, 'B': B_list})\n",
        "df.head()"
      ],
      "execution_count": null,
      "outputs": [
        {
          "output_type": "execute_result",
          "data": {
            "text/html": [
              "<div>\n",
              "<style scoped>\n",
              "    .dataframe tbody tr th:only-of-type {\n",
              "        vertical-align: middle;\n",
              "    }\n",
              "\n",
              "    .dataframe tbody tr th {\n",
              "        vertical-align: top;\n",
              "    }\n",
              "\n",
              "    .dataframe thead th {\n",
              "        text-align: right;\n",
              "    }\n",
              "</style>\n",
              "<table border=\"1\" class=\"dataframe\">\n",
              "  <thead>\n",
              "    <tr style=\"text-align: right;\">\n",
              "      <th></th>\n",
              "      <th>A</th>\n",
              "      <th>B</th>\n",
              "    </tr>\n",
              "  </thead>\n",
              "  <tbody>\n",
              "    <tr>\n",
              "      <th>0</th>\n",
              "      <td>35</td>\n",
              "      <td>93</td>\n",
              "    </tr>\n",
              "    <tr>\n",
              "      <th>1</th>\n",
              "      <td>33</td>\n",
              "      <td>89</td>\n",
              "    </tr>\n",
              "    <tr>\n",
              "      <th>2</th>\n",
              "      <td>35</td>\n",
              "      <td>63</td>\n",
              "    </tr>\n",
              "    <tr>\n",
              "      <th>3</th>\n",
              "      <td>42</td>\n",
              "      <td>68</td>\n",
              "    </tr>\n",
              "    <tr>\n",
              "      <th>4</th>\n",
              "      <td>93</td>\n",
              "      <td>67</td>\n",
              "    </tr>\n",
              "  </tbody>\n",
              "</table>\n",
              "</div>"
            ],
            "text/plain": [
              "    A   B\n",
              "0  35  93\n",
              "1  33  89\n",
              "2  35  63\n",
              "3  42  68\n",
              "4  93  67"
            ]
          },
          "metadata": {
            "tags": []
          },
          "execution_count": 40
        }
      ]
    },
    {
      "cell_type": "code",
      "metadata": {
        "id": "RczLejn7rEwT",
        "colab_type": "code",
        "colab": {
          "base_uri": "https://localhost:8080/",
          "height": 35
        },
        "outputId": "9f3223fb-d080-4b24-d3b3-18c37877d821"
      },
      "source": [
        "def xp2(x):\n",
        "    return x**2\n",
        "\n",
        "xp2(2)"
      ],
      "execution_count": null,
      "outputs": [
        {
          "output_type": "execute_result",
          "data": {
            "text/plain": [
              "4"
            ]
          },
          "metadata": {
            "tags": []
          },
          "execution_count": 26
        }
      ]
    },
    {
      "cell_type": "code",
      "metadata": {
        "id": "aWLQiGucrdcN",
        "colab_type": "code",
        "colab": {}
      },
      "source": [
        "out = lambda x:x**2"
      ],
      "execution_count": null,
      "outputs": []
    },
    {
      "cell_type": "code",
      "metadata": {
        "id": "o-L0rzHErmbr",
        "colab_type": "code",
        "colab": {
          "base_uri": "https://localhost:8080/",
          "height": 35
        },
        "outputId": "bb44f09a-394e-492f-a871-a657ac5c6084"
      },
      "source": [
        "out(2)"
      ],
      "execution_count": null,
      "outputs": [
        {
          "output_type": "execute_result",
          "data": {
            "text/plain": [
              "4"
            ]
          },
          "metadata": {
            "tags": []
          },
          "execution_count": 28
        }
      ]
    },
    {
      "cell_type": "code",
      "metadata": {
        "id": "Dwsupx3BsO55",
        "colab_type": "code",
        "colab": {}
      },
      "source": [
        "def divide(a, b):\n",
        "    if b == 0:\n",
        "        return 0.0\n",
        "    return float(a)/b"
      ],
      "execution_count": null,
      "outputs": []
    },
    {
      "cell_type": "code",
      "metadata": {
        "id": "0hFdRdF-rnir",
        "colab_type": "code",
        "colab": {
          "base_uri": "https://localhost:8080/",
          "height": 352
        },
        "outputId": "80d738b6-14fc-4e46-fa06-55c17320b906"
      },
      "source": [
        "df['result_lambda'] = df.apply(lambda df:divide(df['A'],df['B']),axis = 1)\n",
        "df\n",
        "#2.21s"
      ],
      "execution_count": null,
      "outputs": [
        {
          "output_type": "execute_result",
          "data": {
            "text/html": [
              "<div>\n",
              "<style scoped>\n",
              "    .dataframe tbody tr th:only-of-type {\n",
              "        vertical-align: middle;\n",
              "    }\n",
              "\n",
              "    .dataframe tbody tr th {\n",
              "        vertical-align: top;\n",
              "    }\n",
              "\n",
              "    .dataframe thead th {\n",
              "        text-align: right;\n",
              "    }\n",
              "</style>\n",
              "<table border=\"1\" class=\"dataframe\">\n",
              "  <thead>\n",
              "    <tr style=\"text-align: right;\">\n",
              "      <th></th>\n",
              "      <th>A</th>\n",
              "      <th>B</th>\n",
              "      <th>result_lambda</th>\n",
              "    </tr>\n",
              "  </thead>\n",
              "  <tbody>\n",
              "    <tr>\n",
              "      <th>0</th>\n",
              "      <td>35</td>\n",
              "      <td>93</td>\n",
              "      <td>0.376344</td>\n",
              "    </tr>\n",
              "    <tr>\n",
              "      <th>1</th>\n",
              "      <td>33</td>\n",
              "      <td>89</td>\n",
              "      <td>0.370787</td>\n",
              "    </tr>\n",
              "    <tr>\n",
              "      <th>2</th>\n",
              "      <td>35</td>\n",
              "      <td>63</td>\n",
              "      <td>0.555556</td>\n",
              "    </tr>\n",
              "    <tr>\n",
              "      <th>3</th>\n",
              "      <td>42</td>\n",
              "      <td>68</td>\n",
              "      <td>0.617647</td>\n",
              "    </tr>\n",
              "    <tr>\n",
              "      <th>4</th>\n",
              "      <td>93</td>\n",
              "      <td>67</td>\n",
              "      <td>1.388060</td>\n",
              "    </tr>\n",
              "    <tr>\n",
              "      <th>5</th>\n",
              "      <td>61</td>\n",
              "      <td>54</td>\n",
              "      <td>1.129630</td>\n",
              "    </tr>\n",
              "    <tr>\n",
              "      <th>6</th>\n",
              "      <td>12</td>\n",
              "      <td>1</td>\n",
              "      <td>12.000000</td>\n",
              "    </tr>\n",
              "    <tr>\n",
              "      <th>7</th>\n",
              "      <td>81</td>\n",
              "      <td>92</td>\n",
              "      <td>0.880435</td>\n",
              "    </tr>\n",
              "    <tr>\n",
              "      <th>8</th>\n",
              "      <td>4</td>\n",
              "      <td>57</td>\n",
              "      <td>0.070175</td>\n",
              "    </tr>\n",
              "    <tr>\n",
              "      <th>9</th>\n",
              "      <td>37</td>\n",
              "      <td>34</td>\n",
              "      <td>1.088235</td>\n",
              "    </tr>\n",
              "  </tbody>\n",
              "</table>\n",
              "</div>"
            ],
            "text/plain": [
              "    A   B  result_lambda\n",
              "0  35  93       0.376344\n",
              "1  33  89       0.370787\n",
              "2  35  63       0.555556\n",
              "3  42  68       0.617647\n",
              "4  93  67       1.388060\n",
              "5  61  54       1.129630\n",
              "6  12   1      12.000000\n",
              "7  81  92       0.880435\n",
              "8   4  57       0.070175\n",
              "9  37  34       1.088235"
            ]
          },
          "metadata": {
            "tags": []
          },
          "execution_count": 41
        }
      ]
    },
    {
      "cell_type": "code",
      "metadata": {
        "id": "dpyFQ1ACsmPe",
        "colab_type": "code",
        "colab": {}
      },
      "source": [
        "np_divide = np.vectorize(divide)"
      ],
      "execution_count": null,
      "outputs": []
    },
    {
      "cell_type": "code",
      "metadata": {
        "id": "2YD3bnMesbLF",
        "colab_type": "code",
        "colab": {
          "base_uri": "https://localhost:8080/",
          "height": 352
        },
        "outputId": "185df772-870d-460b-f584-f3822c009f89"
      },
      "source": [
        "df['result2'] = np_divide(df['A'], df['B'])\n",
        "df\n",
        "#0.974"
      ],
      "execution_count": null,
      "outputs": [
        {
          "output_type": "execute_result",
          "data": {
            "text/html": [
              "<div>\n",
              "<style scoped>\n",
              "    .dataframe tbody tr th:only-of-type {\n",
              "        vertical-align: middle;\n",
              "    }\n",
              "\n",
              "    .dataframe tbody tr th {\n",
              "        vertical-align: top;\n",
              "    }\n",
              "\n",
              "    .dataframe thead th {\n",
              "        text-align: right;\n",
              "    }\n",
              "</style>\n",
              "<table border=\"1\" class=\"dataframe\">\n",
              "  <thead>\n",
              "    <tr style=\"text-align: right;\">\n",
              "      <th></th>\n",
              "      <th>A</th>\n",
              "      <th>B</th>\n",
              "      <th>result_lambda</th>\n",
              "      <th>result2</th>\n",
              "    </tr>\n",
              "  </thead>\n",
              "  <tbody>\n",
              "    <tr>\n",
              "      <th>0</th>\n",
              "      <td>11</td>\n",
              "      <td>96</td>\n",
              "      <td>0.114583</td>\n",
              "      <td>0.114583</td>\n",
              "    </tr>\n",
              "    <tr>\n",
              "      <th>1</th>\n",
              "      <td>67</td>\n",
              "      <td>10</td>\n",
              "      <td>6.700000</td>\n",
              "      <td>6.700000</td>\n",
              "    </tr>\n",
              "    <tr>\n",
              "      <th>2</th>\n",
              "      <td>36</td>\n",
              "      <td>53</td>\n",
              "      <td>0.679245</td>\n",
              "      <td>0.679245</td>\n",
              "    </tr>\n",
              "    <tr>\n",
              "      <th>3</th>\n",
              "      <td>35</td>\n",
              "      <td>94</td>\n",
              "      <td>0.372340</td>\n",
              "      <td>0.372340</td>\n",
              "    </tr>\n",
              "    <tr>\n",
              "      <th>4</th>\n",
              "      <td>76</td>\n",
              "      <td>36</td>\n",
              "      <td>2.111111</td>\n",
              "      <td>2.111111</td>\n",
              "    </tr>\n",
              "    <tr>\n",
              "      <th>5</th>\n",
              "      <td>19</td>\n",
              "      <td>18</td>\n",
              "      <td>1.055556</td>\n",
              "      <td>1.055556</td>\n",
              "    </tr>\n",
              "    <tr>\n",
              "      <th>6</th>\n",
              "      <td>28</td>\n",
              "      <td>44</td>\n",
              "      <td>0.636364</td>\n",
              "      <td>0.636364</td>\n",
              "    </tr>\n",
              "    <tr>\n",
              "      <th>7</th>\n",
              "      <td>66</td>\n",
              "      <td>58</td>\n",
              "      <td>1.137931</td>\n",
              "      <td>1.137931</td>\n",
              "    </tr>\n",
              "    <tr>\n",
              "      <th>8</th>\n",
              "      <td>58</td>\n",
              "      <td>99</td>\n",
              "      <td>0.585859</td>\n",
              "      <td>0.585859</td>\n",
              "    </tr>\n",
              "    <tr>\n",
              "      <th>9</th>\n",
              "      <td>49</td>\n",
              "      <td>35</td>\n",
              "      <td>1.400000</td>\n",
              "      <td>1.400000</td>\n",
              "    </tr>\n",
              "  </tbody>\n",
              "</table>\n",
              "</div>"
            ],
            "text/plain": [
              "    A   B  result_lambda   result2\n",
              "0  11  96       0.114583  0.114583\n",
              "1  67  10       6.700000  6.700000\n",
              "2  36  53       0.679245  0.679245\n",
              "3  35  94       0.372340  0.372340\n",
              "4  76  36       2.111111  2.111111\n",
              "5  19  18       1.055556  1.055556\n",
              "6  28  44       0.636364  0.636364\n",
              "7  66  58       1.137931  1.137931\n",
              "8  58  99       0.585859  0.585859\n",
              "9  49  35       1.400000  1.400000"
            ]
          },
          "metadata": {
            "tags": []
          },
          "execution_count": 32
        }
      ]
    },
    {
      "cell_type": "code",
      "metadata": {
        "id": "I40IxBTdtivE",
        "colab_type": "code",
        "colab": {
          "base_uri": "https://localhost:8080/",
          "height": 195
        },
        "outputId": "a64561a6-08ab-4b40-dcce-b9ede500e6dd"
      },
      "source": [
        "import pandas as pd\n",
        "import numpy as np\n",
        "import time\n",
        "\n",
        "def divide(a, b):\n",
        "    if b == 0:\n",
        "        return 0.0\n",
        "    return float(a)/b\n",
        "\n",
        "for N in [1000, 10000, 100000, 1000000, 5000000]:    \n",
        "\n",
        "    print ('')\n",
        "    A_list = np.random.randint(1, 100, N)\n",
        "    B_list = np.random.randint(1, 100, N)\n",
        "    df = pd.DataFrame({'A': A_list, 'B': B_list})\n",
        "\n",
        "    start_epoch_sec = int(time.time())\n",
        "    df['result'] = df.apply(lambda row: divide(row['A'], row['B']), axis=1)\n",
        "    end_epoch_sec = int(time.time())\n",
        "    result_apply = end_epoch_sec - start_epoch_sec\n",
        "\n",
        "    start_epoch_sec = int(time.time())\n",
        "    df['result2'] = np.vectorize(divide)(df['A'], df['B'])\n",
        "    end_epoch_sec = int(time.time())\n",
        "    result_vectorize = end_epoch_sec - start_epoch_sec\n",
        "\n",
        "\n",
        "    print ('N=%d, df.apply: %d sec, np.vectorize: %d sec' % (N, result_apply, result_vectorize))\n",
        "\n",
        "    # Make sure results from df.apply and np.vectorize match.\n",
        "    assert(df['result'].equals(df['result2']))"
      ],
      "execution_count": null,
      "outputs": [
        {
          "output_type": "stream",
          "text": [
            "\n",
            "N=1000, df.apply: 0 sec, np.vectorize: 0 sec\n",
            "\n",
            "N=10000, df.apply: 0 sec, np.vectorize: 0 sec\n",
            "\n",
            "N=100000, df.apply: 3 sec, np.vectorize: 0 sec\n",
            "\n",
            "N=1000000, df.apply: 27 sec, np.vectorize: 1 sec\n",
            "\n",
            "N=5000000, df.apply: 137 sec, np.vectorize: 1 sec\n"
          ],
          "name": "stdout"
        }
      ]
    },
    {
      "cell_type": "code",
      "metadata": {
        "id": "_sAbrMCytlTX",
        "colab_type": "code",
        "colab": {
          "base_uri": "https://localhost:8080/",
          "height": 352
        },
        "outputId": "06492025-4662-4744-85eb-b85a5f741417"
      },
      "source": [
        "df['result_map'] = list(map(divide, df['A'], df['B']))\n",
        "df"
      ],
      "execution_count": null,
      "outputs": [
        {
          "output_type": "execute_result",
          "data": {
            "text/html": [
              "<div>\n",
              "<style scoped>\n",
              "    .dataframe tbody tr th:only-of-type {\n",
              "        vertical-align: middle;\n",
              "    }\n",
              "\n",
              "    .dataframe tbody tr th {\n",
              "        vertical-align: top;\n",
              "    }\n",
              "\n",
              "    .dataframe thead th {\n",
              "        text-align: right;\n",
              "    }\n",
              "</style>\n",
              "<table border=\"1\" class=\"dataframe\">\n",
              "  <thead>\n",
              "    <tr style=\"text-align: right;\">\n",
              "      <th></th>\n",
              "      <th>A</th>\n",
              "      <th>B</th>\n",
              "      <th>result_lambda</th>\n",
              "      <th>result_map</th>\n",
              "    </tr>\n",
              "  </thead>\n",
              "  <tbody>\n",
              "    <tr>\n",
              "      <th>0</th>\n",
              "      <td>35</td>\n",
              "      <td>93</td>\n",
              "      <td>0.376344</td>\n",
              "      <td>0.376344</td>\n",
              "    </tr>\n",
              "    <tr>\n",
              "      <th>1</th>\n",
              "      <td>33</td>\n",
              "      <td>89</td>\n",
              "      <td>0.370787</td>\n",
              "      <td>0.370787</td>\n",
              "    </tr>\n",
              "    <tr>\n",
              "      <th>2</th>\n",
              "      <td>35</td>\n",
              "      <td>63</td>\n",
              "      <td>0.555556</td>\n",
              "      <td>0.555556</td>\n",
              "    </tr>\n",
              "    <tr>\n",
              "      <th>3</th>\n",
              "      <td>42</td>\n",
              "      <td>68</td>\n",
              "      <td>0.617647</td>\n",
              "      <td>0.617647</td>\n",
              "    </tr>\n",
              "    <tr>\n",
              "      <th>4</th>\n",
              "      <td>93</td>\n",
              "      <td>67</td>\n",
              "      <td>1.388060</td>\n",
              "      <td>1.388060</td>\n",
              "    </tr>\n",
              "    <tr>\n",
              "      <th>5</th>\n",
              "      <td>61</td>\n",
              "      <td>54</td>\n",
              "      <td>1.129630</td>\n",
              "      <td>1.129630</td>\n",
              "    </tr>\n",
              "    <tr>\n",
              "      <th>6</th>\n",
              "      <td>12</td>\n",
              "      <td>1</td>\n",
              "      <td>12.000000</td>\n",
              "      <td>12.000000</td>\n",
              "    </tr>\n",
              "    <tr>\n",
              "      <th>7</th>\n",
              "      <td>81</td>\n",
              "      <td>92</td>\n",
              "      <td>0.880435</td>\n",
              "      <td>0.880435</td>\n",
              "    </tr>\n",
              "    <tr>\n",
              "      <th>8</th>\n",
              "      <td>4</td>\n",
              "      <td>57</td>\n",
              "      <td>0.070175</td>\n",
              "      <td>0.070175</td>\n",
              "    </tr>\n",
              "    <tr>\n",
              "      <th>9</th>\n",
              "      <td>37</td>\n",
              "      <td>34</td>\n",
              "      <td>1.088235</td>\n",
              "      <td>1.088235</td>\n",
              "    </tr>\n",
              "  </tbody>\n",
              "</table>\n",
              "</div>"
            ],
            "text/plain": [
              "    A   B  result_lambda  result_map\n",
              "0  35  93       0.376344    0.376344\n",
              "1  33  89       0.370787    0.370787\n",
              "2  35  63       0.555556    0.555556\n",
              "3  42  68       0.617647    0.617647\n",
              "4  93  67       1.388060    1.388060\n",
              "5  61  54       1.129630    1.129630\n",
              "6  12   1      12.000000   12.000000\n",
              "7  81  92       0.880435    0.880435\n",
              "8   4  57       0.070175    0.070175\n",
              "9  37  34       1.088235    1.088235"
            ]
          },
          "metadata": {
            "tags": []
          },
          "execution_count": 43
        }
      ]
    },
    {
      "cell_type": "code",
      "metadata": {
        "id": "UUOjcL8Hvpiw",
        "colab_type": "code",
        "colab": {
          "base_uri": "https://localhost:8080/",
          "height": 212
        },
        "outputId": "a806c951-9fe3-4319-95ec-3d306d8ea3f2"
      },
      "source": [
        "df.info"
      ],
      "execution_count": null,
      "outputs": [
        {
          "output_type": "execute_result",
          "data": {
            "text/plain": [
              "<bound method DataFrame.info of     A   B  result_lambda  result_map\n",
              "0  35  93       0.376344    0.376344\n",
              "1  33  89       0.370787    0.370787\n",
              "2  35  63       0.555556    0.555556\n",
              "3  42  68       0.617647    0.617647\n",
              "4  93  67       1.388060    1.388060\n",
              "5  61  54       1.129630    1.129630\n",
              "6  12   1      12.000000   12.000000\n",
              "7  81  92       0.880435    0.880435\n",
              "8   4  57       0.070175    0.070175\n",
              "9  37  34       1.088235    1.088235>"
            ]
          },
          "metadata": {
            "tags": []
          },
          "execution_count": 44
        }
      ]
    },
    {
      "cell_type": "code",
      "metadata": {
        "id": "OMMv5BuFv5jn",
        "colab_type": "code",
        "colab": {}
      },
      "source": [
        "import pandas as pd\n",
        "import numpy as np"
      ],
      "execution_count": null,
      "outputs": []
    },
    {
      "cell_type": "code",
      "metadata": {
        "id": "Vj3hdXk37GbG",
        "colab_type": "code",
        "colab": {}
      },
      "source": [
        "df = pd.DataFrame({'num1':np.random.randint(1,10,1000),\n",
        "                   \"num2\":np.random.randint(300,500,1000),\n",
        "                   \"num3\":np.random.randint(50,100,1000)})"
      ],
      "execution_count": null,
      "outputs": []
    },
    {
      "cell_type": "code",
      "metadata": {
        "id": "uC6Luu698Jj6",
        "colab_type": "code",
        "colab": {
          "base_uri": "https://localhost:8080/",
          "height": 411
        },
        "outputId": "4b825ca0-64c7-4a82-de9b-6b2dd62a7ded"
      },
      "source": [
        "df"
      ],
      "execution_count": null,
      "outputs": [
        {
          "output_type": "execute_result",
          "data": {
            "text/html": [
              "<div>\n",
              "<style scoped>\n",
              "    .dataframe tbody tr th:only-of-type {\n",
              "        vertical-align: middle;\n",
              "    }\n",
              "\n",
              "    .dataframe tbody tr th {\n",
              "        vertical-align: top;\n",
              "    }\n",
              "\n",
              "    .dataframe thead th {\n",
              "        text-align: right;\n",
              "    }\n",
              "</style>\n",
              "<table border=\"1\" class=\"dataframe\">\n",
              "  <thead>\n",
              "    <tr style=\"text-align: right;\">\n",
              "      <th></th>\n",
              "      <th>num1</th>\n",
              "      <th>num2</th>\n",
              "      <th>num3</th>\n",
              "    </tr>\n",
              "  </thead>\n",
              "  <tbody>\n",
              "    <tr>\n",
              "      <th>0</th>\n",
              "      <td>9</td>\n",
              "      <td>364</td>\n",
              "      <td>73</td>\n",
              "    </tr>\n",
              "    <tr>\n",
              "      <th>1</th>\n",
              "      <td>8</td>\n",
              "      <td>405</td>\n",
              "      <td>96</td>\n",
              "    </tr>\n",
              "    <tr>\n",
              "      <th>2</th>\n",
              "      <td>9</td>\n",
              "      <td>398</td>\n",
              "      <td>71</td>\n",
              "    </tr>\n",
              "    <tr>\n",
              "      <th>3</th>\n",
              "      <td>4</td>\n",
              "      <td>390</td>\n",
              "      <td>74</td>\n",
              "    </tr>\n",
              "    <tr>\n",
              "      <th>4</th>\n",
              "      <td>9</td>\n",
              "      <td>373</td>\n",
              "      <td>72</td>\n",
              "    </tr>\n",
              "    <tr>\n",
              "      <th>...</th>\n",
              "      <td>...</td>\n",
              "      <td>...</td>\n",
              "      <td>...</td>\n",
              "    </tr>\n",
              "    <tr>\n",
              "      <th>995</th>\n",
              "      <td>6</td>\n",
              "      <td>347</td>\n",
              "      <td>62</td>\n",
              "    </tr>\n",
              "    <tr>\n",
              "      <th>996</th>\n",
              "      <td>9</td>\n",
              "      <td>481</td>\n",
              "      <td>61</td>\n",
              "    </tr>\n",
              "    <tr>\n",
              "      <th>997</th>\n",
              "      <td>4</td>\n",
              "      <td>378</td>\n",
              "      <td>92</td>\n",
              "    </tr>\n",
              "    <tr>\n",
              "      <th>998</th>\n",
              "      <td>5</td>\n",
              "      <td>392</td>\n",
              "      <td>74</td>\n",
              "    </tr>\n",
              "    <tr>\n",
              "      <th>999</th>\n",
              "      <td>9</td>\n",
              "      <td>401</td>\n",
              "      <td>69</td>\n",
              "    </tr>\n",
              "  </tbody>\n",
              "</table>\n",
              "<p>1000 rows × 3 columns</p>\n",
              "</div>"
            ],
            "text/plain": [
              "     num1  num2  num3\n",
              "0       9   364    73\n",
              "1       8   405    96\n",
              "2       9   398    71\n",
              "3       4   390    74\n",
              "4       9   373    72\n",
              "..    ...   ...   ...\n",
              "995     6   347    62\n",
              "996     9   481    61\n",
              "997     4   378    92\n",
              "998     5   392    74\n",
              "999     9   401    69\n",
              "\n",
              "[1000 rows x 3 columns]"
            ]
          },
          "metadata": {
            "tags": []
          },
          "execution_count": 32
        }
      ]
    },
    {
      "cell_type": "code",
      "metadata": {
        "id": "jXZrZ2yh9b3N",
        "colab_type": "code",
        "colab": {
          "base_uri": "https://localhost:8080/",
          "height": 411
        },
        "outputId": "564aad75-8823-41c5-c20c-6bc5a06ee60f"
      },
      "source": [
        "df[df.num1 ==1]"
      ],
      "execution_count": null,
      "outputs": [
        {
          "output_type": "execute_result",
          "data": {
            "text/html": [
              "<div>\n",
              "<style scoped>\n",
              "    .dataframe tbody tr th:only-of-type {\n",
              "        vertical-align: middle;\n",
              "    }\n",
              "\n",
              "    .dataframe tbody tr th {\n",
              "        vertical-align: top;\n",
              "    }\n",
              "\n",
              "    .dataframe thead th {\n",
              "        text-align: right;\n",
              "    }\n",
              "</style>\n",
              "<table border=\"1\" class=\"dataframe\">\n",
              "  <thead>\n",
              "    <tr style=\"text-align: right;\">\n",
              "      <th></th>\n",
              "      <th>num1</th>\n",
              "      <th>num2</th>\n",
              "      <th>num3</th>\n",
              "    </tr>\n",
              "  </thead>\n",
              "  <tbody>\n",
              "    <tr>\n",
              "      <th>6</th>\n",
              "      <td>1</td>\n",
              "      <td>359</td>\n",
              "      <td>53</td>\n",
              "    </tr>\n",
              "    <tr>\n",
              "      <th>7</th>\n",
              "      <td>1</td>\n",
              "      <td>481</td>\n",
              "      <td>71</td>\n",
              "    </tr>\n",
              "    <tr>\n",
              "      <th>15</th>\n",
              "      <td>1</td>\n",
              "      <td>488</td>\n",
              "      <td>76</td>\n",
              "    </tr>\n",
              "    <tr>\n",
              "      <th>22</th>\n",
              "      <td>1</td>\n",
              "      <td>412</td>\n",
              "      <td>70</td>\n",
              "    </tr>\n",
              "    <tr>\n",
              "      <th>41</th>\n",
              "      <td>1</td>\n",
              "      <td>309</td>\n",
              "      <td>68</td>\n",
              "    </tr>\n",
              "    <tr>\n",
              "      <th>...</th>\n",
              "      <td>...</td>\n",
              "      <td>...</td>\n",
              "      <td>...</td>\n",
              "    </tr>\n",
              "    <tr>\n",
              "      <th>982</th>\n",
              "      <td>1</td>\n",
              "      <td>479</td>\n",
              "      <td>71</td>\n",
              "    </tr>\n",
              "    <tr>\n",
              "      <th>983</th>\n",
              "      <td>1</td>\n",
              "      <td>407</td>\n",
              "      <td>93</td>\n",
              "    </tr>\n",
              "    <tr>\n",
              "      <th>989</th>\n",
              "      <td>1</td>\n",
              "      <td>335</td>\n",
              "      <td>60</td>\n",
              "    </tr>\n",
              "    <tr>\n",
              "      <th>993</th>\n",
              "      <td>1</td>\n",
              "      <td>404</td>\n",
              "      <td>80</td>\n",
              "    </tr>\n",
              "    <tr>\n",
              "      <th>994</th>\n",
              "      <td>1</td>\n",
              "      <td>368</td>\n",
              "      <td>72</td>\n",
              "    </tr>\n",
              "  </tbody>\n",
              "</table>\n",
              "<p>119 rows × 3 columns</p>\n",
              "</div>"
            ],
            "text/plain": [
              "     num1  num2  num3\n",
              "6       1   359    53\n",
              "7       1   481    71\n",
              "15      1   488    76\n",
              "22      1   412    70\n",
              "41      1   309    68\n",
              "..    ...   ...   ...\n",
              "982     1   479    71\n",
              "983     1   407    93\n",
              "989     1   335    60\n",
              "993     1   404    80\n",
              "994     1   368    72\n",
              "\n",
              "[119 rows x 3 columns]"
            ]
          },
          "metadata": {
            "tags": []
          },
          "execution_count": 29
        }
      ]
    },
    {
      "cell_type": "code",
      "metadata": {
        "id": "uVda63veCT6U",
        "colab_type": "code",
        "colab": {
          "base_uri": "https://localhost:8080/",
          "height": 212
        },
        "outputId": "e713809a-fb25-400f-b308-dd8508a9a197"
      },
      "source": [
        "df.groupby(['num1']).size()"
      ],
      "execution_count": null,
      "outputs": [
        {
          "output_type": "execute_result",
          "data": {
            "text/plain": [
              "num1\n",
              "1    109\n",
              "2    110\n",
              "3    121\n",
              "4    101\n",
              "5     98\n",
              "6    111\n",
              "7    116\n",
              "8     98\n",
              "9    136\n",
              "dtype: int64"
            ]
          },
          "metadata": {
            "tags": []
          },
          "execution_count": 40
        }
      ]
    },
    {
      "cell_type": "code",
      "metadata": {
        "id": "r2VL0wXa8y6I",
        "colab_type": "code",
        "colab": {
          "base_uri": "https://localhost:8080/",
          "height": 248
        },
        "outputId": "2354afd7-2875-439d-b50f-00f405521770"
      },
      "source": [
        "df.groupby(['num1','num2']).size()"
      ],
      "execution_count": null,
      "outputs": [
        {
          "output_type": "execute_result",
          "data": {
            "text/plain": [
              "num1  num2\n",
              "1     301     2\n",
              "      302     1\n",
              "      304     1\n",
              "      305     1\n",
              "      307     1\n",
              "             ..\n",
              "9     490     1\n",
              "      491     1\n",
              "      497     1\n",
              "      498     1\n",
              "      499     1\n",
              "Length: 777, dtype: int64"
            ]
          },
          "metadata": {
            "tags": []
          },
          "execution_count": 25
        }
      ]
    },
    {
      "cell_type": "code",
      "metadata": {
        "id": "Py3fVl7CC_BW",
        "colab_type": "code",
        "colab": {
          "base_uri": "https://localhost:8080/",
          "height": 35
        },
        "outputId": "8eee6133-87b9-4a67-bb4e-36076187f14f"
      },
      "source": [
        "df.groupby(['num1','num2'])"
      ],
      "execution_count": null,
      "outputs": [
        {
          "output_type": "execute_result",
          "data": {
            "text/plain": [
              "<pandas.core.groupby.generic.DataFrameGroupBy object at 0x7f8ecb583c88>"
            ]
          },
          "metadata": {
            "tags": []
          },
          "execution_count": 54
        }
      ]
    },
    {
      "cell_type": "code",
      "metadata": {
        "id": "PRe4Fpk7D2tX",
        "colab_type": "code",
        "colab": {
          "base_uri": "https://localhost:8080/",
          "height": 441
        },
        "outputId": "9f3cf832-1a67-488f-bacd-f752cd0ab259"
      },
      "source": [
        "df_sum = df.groupby(['num1','num2']).sum()\n",
        "df_sum"
      ],
      "execution_count": null,
      "outputs": [
        {
          "output_type": "execute_result",
          "data": {
            "text/html": [
              "<div>\n",
              "<style scoped>\n",
              "    .dataframe tbody tr th:only-of-type {\n",
              "        vertical-align: middle;\n",
              "    }\n",
              "\n",
              "    .dataframe tbody tr th {\n",
              "        vertical-align: top;\n",
              "    }\n",
              "\n",
              "    .dataframe thead th {\n",
              "        text-align: right;\n",
              "    }\n",
              "</style>\n",
              "<table border=\"1\" class=\"dataframe\">\n",
              "  <thead>\n",
              "    <tr style=\"text-align: right;\">\n",
              "      <th></th>\n",
              "      <th></th>\n",
              "      <th>num3</th>\n",
              "    </tr>\n",
              "    <tr>\n",
              "      <th>num1</th>\n",
              "      <th>num2</th>\n",
              "      <th></th>\n",
              "    </tr>\n",
              "  </thead>\n",
              "  <tbody>\n",
              "    <tr>\n",
              "      <th rowspan=\"5\" valign=\"top\">1</th>\n",
              "      <th>300</th>\n",
              "      <td>94</td>\n",
              "    </tr>\n",
              "    <tr>\n",
              "      <th>301</th>\n",
              "      <td>148</td>\n",
              "    </tr>\n",
              "    <tr>\n",
              "      <th>304</th>\n",
              "      <td>71</td>\n",
              "    </tr>\n",
              "    <tr>\n",
              "      <th>306</th>\n",
              "      <td>96</td>\n",
              "    </tr>\n",
              "    <tr>\n",
              "      <th>310</th>\n",
              "      <td>51</td>\n",
              "    </tr>\n",
              "    <tr>\n",
              "      <th>...</th>\n",
              "      <th>...</th>\n",
              "      <td>...</td>\n",
              "    </tr>\n",
              "    <tr>\n",
              "      <th rowspan=\"5\" valign=\"top\">9</th>\n",
              "      <th>490</th>\n",
              "      <td>92</td>\n",
              "    </tr>\n",
              "    <tr>\n",
              "      <th>494</th>\n",
              "      <td>79</td>\n",
              "    </tr>\n",
              "    <tr>\n",
              "      <th>495</th>\n",
              "      <td>183</td>\n",
              "    </tr>\n",
              "    <tr>\n",
              "      <th>496</th>\n",
              "      <td>174</td>\n",
              "    </tr>\n",
              "    <tr>\n",
              "      <th>499</th>\n",
              "      <td>54</td>\n",
              "    </tr>\n",
              "  </tbody>\n",
              "</table>\n",
              "<p>743 rows × 1 columns</p>\n",
              "</div>"
            ],
            "text/plain": [
              "           num3\n",
              "num1 num2      \n",
              "1    300     94\n",
              "     301    148\n",
              "     304     71\n",
              "     306     96\n",
              "     310     51\n",
              "...         ...\n",
              "9    490     92\n",
              "     494     79\n",
              "     495    183\n",
              "     496    174\n",
              "     499     54\n",
              "\n",
              "[743 rows x 1 columns]"
            ]
          },
          "metadata": {
            "tags": []
          },
          "execution_count": 57
        }
      ]
    },
    {
      "cell_type": "code",
      "metadata": {
        "id": "FGMNMIgjEBh0",
        "colab_type": "code",
        "colab": {
          "base_uri": "https://localhost:8080/",
          "height": 441
        },
        "outputId": "7f9d9e4a-8a7c-40e6-c6aa-c4922fa515f1"
      },
      "source": [
        "df_sum[df_sum.num3>100]"
      ],
      "execution_count": null,
      "outputs": [
        {
          "output_type": "execute_result",
          "data": {
            "text/html": [
              "<div>\n",
              "<style scoped>\n",
              "    .dataframe tbody tr th:only-of-type {\n",
              "        vertical-align: middle;\n",
              "    }\n",
              "\n",
              "    .dataframe tbody tr th {\n",
              "        vertical-align: top;\n",
              "    }\n",
              "\n",
              "    .dataframe thead th {\n",
              "        text-align: right;\n",
              "    }\n",
              "</style>\n",
              "<table border=\"1\" class=\"dataframe\">\n",
              "  <thead>\n",
              "    <tr style=\"text-align: right;\">\n",
              "      <th></th>\n",
              "      <th></th>\n",
              "      <th>num3</th>\n",
              "    </tr>\n",
              "    <tr>\n",
              "      <th>num1</th>\n",
              "      <th>num2</th>\n",
              "      <th></th>\n",
              "    </tr>\n",
              "  </thead>\n",
              "  <tbody>\n",
              "    <tr>\n",
              "      <th rowspan=\"5\" valign=\"top\">1</th>\n",
              "      <th>301</th>\n",
              "      <td>148</td>\n",
              "    </tr>\n",
              "    <tr>\n",
              "      <th>334</th>\n",
              "      <td>356</td>\n",
              "    </tr>\n",
              "    <tr>\n",
              "      <th>339</th>\n",
              "      <td>192</td>\n",
              "    </tr>\n",
              "    <tr>\n",
              "      <th>346</th>\n",
              "      <td>195</td>\n",
              "    </tr>\n",
              "    <tr>\n",
              "      <th>352</th>\n",
              "      <td>312</td>\n",
              "    </tr>\n",
              "    <tr>\n",
              "      <th>...</th>\n",
              "      <th>...</th>\n",
              "      <td>...</td>\n",
              "    </tr>\n",
              "    <tr>\n",
              "      <th rowspan=\"5\" valign=\"top\">9</th>\n",
              "      <th>480</th>\n",
              "      <td>243</td>\n",
              "    </tr>\n",
              "    <tr>\n",
              "      <th>481</th>\n",
              "      <td>128</td>\n",
              "    </tr>\n",
              "    <tr>\n",
              "      <th>488</th>\n",
              "      <td>117</td>\n",
              "    </tr>\n",
              "    <tr>\n",
              "      <th>495</th>\n",
              "      <td>183</td>\n",
              "    </tr>\n",
              "    <tr>\n",
              "      <th>496</th>\n",
              "      <td>174</td>\n",
              "    </tr>\n",
              "  </tbody>\n",
              "</table>\n",
              "<p>211 rows × 1 columns</p>\n",
              "</div>"
            ],
            "text/plain": [
              "           num3\n",
              "num1 num2      \n",
              "1    301    148\n",
              "     334    356\n",
              "     339    192\n",
              "     346    195\n",
              "     352    312\n",
              "...         ...\n",
              "9    480    243\n",
              "     481    128\n",
              "     488    117\n",
              "     495    183\n",
              "     496    174\n",
              "\n",
              "[211 rows x 1 columns]"
            ]
          },
          "metadata": {
            "tags": []
          },
          "execution_count": 63
        }
      ]
    },
    {
      "cell_type": "code",
      "metadata": {
        "id": "pHnI3ykuEXFD",
        "colab_type": "code",
        "colab": {
          "base_uri": "https://localhost:8080/",
          "height": 230
        },
        "outputId": "fc30dbf1-9060-4a78-879c-eaabcc0b4eb9"
      },
      "source": [
        "df.num1 > 5"
      ],
      "execution_count": null,
      "outputs": [
        {
          "output_type": "execute_result",
          "data": {
            "text/plain": [
              "0       True\n",
              "1       True\n",
              "2       True\n",
              "3      False\n",
              "4       True\n",
              "       ...  \n",
              "995     True\n",
              "996     True\n",
              "997    False\n",
              "998    False\n",
              "999     True\n",
              "Name: num1, Length: 1000, dtype: bool"
            ]
          },
          "metadata": {
            "tags": []
          },
          "execution_count": 66
        }
      ]
    },
    {
      "cell_type": "code",
      "metadata": {
        "id": "gdtv7lKJEyWG",
        "colab_type": "code",
        "colab": {
          "base_uri": "https://localhost:8080/",
          "height": 411
        },
        "outputId": "e4b5ae6c-3780-4362-dc0a-67ba2b42404e"
      },
      "source": [
        "df.loc[lambda df:df.num1 >5]"
      ],
      "execution_count": null,
      "outputs": [
        {
          "output_type": "execute_result",
          "data": {
            "text/html": [
              "<div>\n",
              "<style scoped>\n",
              "    .dataframe tbody tr th:only-of-type {\n",
              "        vertical-align: middle;\n",
              "    }\n",
              "\n",
              "    .dataframe tbody tr th {\n",
              "        vertical-align: top;\n",
              "    }\n",
              "\n",
              "    .dataframe thead th {\n",
              "        text-align: right;\n",
              "    }\n",
              "</style>\n",
              "<table border=\"1\" class=\"dataframe\">\n",
              "  <thead>\n",
              "    <tr style=\"text-align: right;\">\n",
              "      <th></th>\n",
              "      <th>num1</th>\n",
              "      <th>num2</th>\n",
              "      <th>num3</th>\n",
              "    </tr>\n",
              "  </thead>\n",
              "  <tbody>\n",
              "    <tr>\n",
              "      <th>0</th>\n",
              "      <td>9</td>\n",
              "      <td>364</td>\n",
              "      <td>73</td>\n",
              "    </tr>\n",
              "    <tr>\n",
              "      <th>1</th>\n",
              "      <td>8</td>\n",
              "      <td>405</td>\n",
              "      <td>96</td>\n",
              "    </tr>\n",
              "    <tr>\n",
              "      <th>2</th>\n",
              "      <td>9</td>\n",
              "      <td>398</td>\n",
              "      <td>71</td>\n",
              "    </tr>\n",
              "    <tr>\n",
              "      <th>4</th>\n",
              "      <td>9</td>\n",
              "      <td>373</td>\n",
              "      <td>72</td>\n",
              "    </tr>\n",
              "    <tr>\n",
              "      <th>5</th>\n",
              "      <td>9</td>\n",
              "      <td>480</td>\n",
              "      <td>71</td>\n",
              "    </tr>\n",
              "    <tr>\n",
              "      <th>...</th>\n",
              "      <td>...</td>\n",
              "      <td>...</td>\n",
              "      <td>...</td>\n",
              "    </tr>\n",
              "    <tr>\n",
              "      <th>993</th>\n",
              "      <td>6</td>\n",
              "      <td>420</td>\n",
              "      <td>67</td>\n",
              "    </tr>\n",
              "    <tr>\n",
              "      <th>994</th>\n",
              "      <td>6</td>\n",
              "      <td>489</td>\n",
              "      <td>99</td>\n",
              "    </tr>\n",
              "    <tr>\n",
              "      <th>995</th>\n",
              "      <td>6</td>\n",
              "      <td>347</td>\n",
              "      <td>62</td>\n",
              "    </tr>\n",
              "    <tr>\n",
              "      <th>996</th>\n",
              "      <td>9</td>\n",
              "      <td>481</td>\n",
              "      <td>61</td>\n",
              "    </tr>\n",
              "    <tr>\n",
              "      <th>999</th>\n",
              "      <td>9</td>\n",
              "      <td>401</td>\n",
              "      <td>69</td>\n",
              "    </tr>\n",
              "  </tbody>\n",
              "</table>\n",
              "<p>461 rows × 3 columns</p>\n",
              "</div>"
            ],
            "text/plain": [
              "     num1  num2  num3\n",
              "0       9   364    73\n",
              "1       8   405    96\n",
              "2       9   398    71\n",
              "4       9   373    72\n",
              "5       9   480    71\n",
              "..    ...   ...   ...\n",
              "993     6   420    67\n",
              "994     6   489    99\n",
              "995     6   347    62\n",
              "996     9   481    61\n",
              "999     9   401    69\n",
              "\n",
              "[461 rows x 3 columns]"
            ]
          },
          "metadata": {
            "tags": []
          },
          "execution_count": 74
        }
      ]
    },
    {
      "cell_type": "code",
      "metadata": {
        "id": "DtGrGUkI9LBC",
        "colab_type": "code",
        "colab": {
          "base_uri": "https://localhost:8080/",
          "height": 170
        },
        "outputId": "682ec759-de93-4440-ca94-13b625e9a0f1"
      },
      "source": [
        "df.groupby(['num1','num2']).sum().loc[lambda df: df['num3'] > 300]"
      ],
      "execution_count": null,
      "outputs": [
        {
          "output_type": "execute_result",
          "data": {
            "text/html": [
              "<div>\n",
              "<style scoped>\n",
              "    .dataframe tbody tr th:only-of-type {\n",
              "        vertical-align: middle;\n",
              "    }\n",
              "\n",
              "    .dataframe tbody tr th {\n",
              "        vertical-align: top;\n",
              "    }\n",
              "\n",
              "    .dataframe thead th {\n",
              "        text-align: right;\n",
              "    }\n",
              "</style>\n",
              "<table border=\"1\" class=\"dataframe\">\n",
              "  <thead>\n",
              "    <tr style=\"text-align: right;\">\n",
              "      <th></th>\n",
              "      <th></th>\n",
              "      <th>num3</th>\n",
              "    </tr>\n",
              "    <tr>\n",
              "      <th>num1</th>\n",
              "      <th>num2</th>\n",
              "      <th></th>\n",
              "    </tr>\n",
              "  </thead>\n",
              "  <tbody>\n",
              "    <tr>\n",
              "      <th rowspan=\"2\" valign=\"top\">1</th>\n",
              "      <th>334</th>\n",
              "      <td>356</td>\n",
              "    </tr>\n",
              "    <tr>\n",
              "      <th>352</th>\n",
              "      <td>312</td>\n",
              "    </tr>\n",
              "    <tr>\n",
              "      <th>9</th>\n",
              "      <th>438</th>\n",
              "      <td>370</td>\n",
              "    </tr>\n",
              "  </tbody>\n",
              "</table>\n",
              "</div>"
            ],
            "text/plain": [
              "           num3\n",
              "num1 num2      \n",
              "1    334    356\n",
              "     352    312\n",
              "9    438    370"
            ]
          },
          "metadata": {
            "tags": []
          },
          "execution_count": 55
        }
      ]
    },
    {
      "cell_type": "code",
      "metadata": {
        "id": "yWjLEmdy8Q3e",
        "colab_type": "code",
        "colab": {
          "base_uri": "https://localhost:8080/",
          "height": 248
        },
        "outputId": "1d28db44-cee1-4ce5-eac4-e86f620b58c6"
      },
      "source": [
        "bins = [0, 6,7,8,9,10]\n",
        "pd.cut(df.num1,bins=bins,labels=list('abcde'))"
      ],
      "execution_count": null,
      "outputs": [
        {
          "output_type": "execute_result",
          "data": {
            "text/plain": [
              "0      d\n",
              "1      c\n",
              "2      d\n",
              "3      a\n",
              "4      d\n",
              "      ..\n",
              "995    a\n",
              "996    d\n",
              "997    a\n",
              "998    a\n",
              "999    d\n",
              "Name: num1, Length: 1000, dtype: category\n",
              "Categories (5, object): [a < b < c < d < e]"
            ]
          },
          "metadata": {
            "tags": []
          },
          "execution_count": 77
        }
      ]
    },
    {
      "cell_type": "code",
      "metadata": {
        "id": "DlC560oiJcyI",
        "colab_type": "code",
        "colab": {}
      },
      "source": [
        "df.insert(1, 'Rank', pd.cut(df.num1,bins=bins,labels=list('abcde')))"
      ],
      "execution_count": null,
      "outputs": []
    },
    {
      "cell_type": "code",
      "metadata": {
        "id": "Doq0DHqhIoKS",
        "colab_type": "code",
        "colab": {
          "base_uri": "https://localhost:8080/",
          "height": 411
        },
        "outputId": "bd58f5e0-00e1-4f82-8812-4c76b0df8b8f"
      },
      "source": [
        "df"
      ],
      "execution_count": null,
      "outputs": [
        {
          "output_type": "execute_result",
          "data": {
            "text/html": [
              "<div>\n",
              "<style scoped>\n",
              "    .dataframe tbody tr th:only-of-type {\n",
              "        vertical-align: middle;\n",
              "    }\n",
              "\n",
              "    .dataframe tbody tr th {\n",
              "        vertical-align: top;\n",
              "    }\n",
              "\n",
              "    .dataframe thead th {\n",
              "        text-align: right;\n",
              "    }\n",
              "</style>\n",
              "<table border=\"1\" class=\"dataframe\">\n",
              "  <thead>\n",
              "    <tr style=\"text-align: right;\">\n",
              "      <th></th>\n",
              "      <th>num1</th>\n",
              "      <th>Rank</th>\n",
              "      <th>num2</th>\n",
              "      <th>num3</th>\n",
              "    </tr>\n",
              "  </thead>\n",
              "  <tbody>\n",
              "    <tr>\n",
              "      <th>0</th>\n",
              "      <td>9</td>\n",
              "      <td>d</td>\n",
              "      <td>364</td>\n",
              "      <td>73</td>\n",
              "    </tr>\n",
              "    <tr>\n",
              "      <th>1</th>\n",
              "      <td>8</td>\n",
              "      <td>c</td>\n",
              "      <td>405</td>\n",
              "      <td>96</td>\n",
              "    </tr>\n",
              "    <tr>\n",
              "      <th>2</th>\n",
              "      <td>9</td>\n",
              "      <td>d</td>\n",
              "      <td>398</td>\n",
              "      <td>71</td>\n",
              "    </tr>\n",
              "    <tr>\n",
              "      <th>3</th>\n",
              "      <td>4</td>\n",
              "      <td>a</td>\n",
              "      <td>390</td>\n",
              "      <td>74</td>\n",
              "    </tr>\n",
              "    <tr>\n",
              "      <th>4</th>\n",
              "      <td>9</td>\n",
              "      <td>d</td>\n",
              "      <td>373</td>\n",
              "      <td>72</td>\n",
              "    </tr>\n",
              "    <tr>\n",
              "      <th>...</th>\n",
              "      <td>...</td>\n",
              "      <td>...</td>\n",
              "      <td>...</td>\n",
              "      <td>...</td>\n",
              "    </tr>\n",
              "    <tr>\n",
              "      <th>995</th>\n",
              "      <td>6</td>\n",
              "      <td>a</td>\n",
              "      <td>347</td>\n",
              "      <td>62</td>\n",
              "    </tr>\n",
              "    <tr>\n",
              "      <th>996</th>\n",
              "      <td>9</td>\n",
              "      <td>d</td>\n",
              "      <td>481</td>\n",
              "      <td>61</td>\n",
              "    </tr>\n",
              "    <tr>\n",
              "      <th>997</th>\n",
              "      <td>4</td>\n",
              "      <td>a</td>\n",
              "      <td>378</td>\n",
              "      <td>92</td>\n",
              "    </tr>\n",
              "    <tr>\n",
              "      <th>998</th>\n",
              "      <td>5</td>\n",
              "      <td>a</td>\n",
              "      <td>392</td>\n",
              "      <td>74</td>\n",
              "    </tr>\n",
              "    <tr>\n",
              "      <th>999</th>\n",
              "      <td>9</td>\n",
              "      <td>d</td>\n",
              "      <td>401</td>\n",
              "      <td>69</td>\n",
              "    </tr>\n",
              "  </tbody>\n",
              "</table>\n",
              "<p>1000 rows × 4 columns</p>\n",
              "</div>"
            ],
            "text/plain": [
              "     num1 Rank  num2  num3\n",
              "0       9    d   364    73\n",
              "1       8    c   405    96\n",
              "2       9    d   398    71\n",
              "3       4    a   390    74\n",
              "4       9    d   373    72\n",
              "..    ...  ...   ...   ...\n",
              "995     6    a   347    62\n",
              "996     9    d   481    61\n",
              "997     4    a   378    92\n",
              "998     5    a   392    74\n",
              "999     9    d   401    69\n",
              "\n",
              "[1000 rows x 4 columns]"
            ]
          },
          "metadata": {
            "tags": []
          },
          "execution_count": 83
        }
      ]
    },
    {
      "cell_type": "code",
      "metadata": {
        "id": "qfLOS1PbJiUT",
        "colab_type": "code",
        "colab": {
          "base_uri": "https://localhost:8080/",
          "height": 297
        },
        "outputId": "3ca65d6e-1e02-40ce-90a9-68078842dfd0"
      },
      "source": [
        "import matplotlib.pyplot as plt\n",
        "import matplotlib as mpl\n",
        "# from dautil import plotting\n",
        "\n",
        "fig, axes = plt.subplots(4, 4)\n",
        "cmaps = ['autumn', 'spring', 'summer', 'winter',\n",
        "         'Reds', 'Blues', 'Greens', 'Purples',\n",
        "         'Oranges', 'pink', 'Greys', 'gray',\n",
        "         'binary', 'bone', 'hot', 'cool']\n",
        "\n",
        "for ax, cm in zip(axes.ravel(), cmaps):\n",
        "    cmap = plt.cm.get_cmap(cm)\n",
        "    cb = mpl.colorbar.ColorbarBase(ax, cmap=cmap,\n",
        "                                    orientation='horizontal')\n",
        "    cb.set_label(cm)\n",
        "    ax.xaxis.set_ticklabels([])\n",
        "\n",
        "plt.tight_layout()\n",
        "plt.show()"
      ],
      "execution_count": null,
      "outputs": [
        {
          "output_type": "display_data",
          "data": {
            "image/png": "[encoded data removed]",
            "text/plain": [
              "<Figure size 432x288 with 16 Axes>"
            ]
          },
          "metadata": {
            "tags": [],
            "needs_background": "light"
          }
        }
      ]
    },
    {
      "cell_type": "code",
      "metadata": {
        "id": "ZvgCfuUw1hEU",
        "colab_type": "code",
        "colab": {}
      },
      "source": [
        "import jieba\n",
        "from wordcloud import WordCloud\n",
        "import matplotlib.pyplot as plt\n"
      ],
      "execution_count": null,
      "outputs": []
    },
    {
      "cell_type": "code",
      "metadata": {
        "id": "giyPN9V71iO8",
        "colab_type": "code",
        "colab": {}
      },
      "source": [
        "from bs4 import BeautifulSoup  \n",
        "import pandas as pd\n",
        "from tqdm import tqdm\n",
        "import math\n",
        "import requests  \n",
        "import lxml\n",
        "import re\n",
        "import time"
      ],
      "execution_count": null,
      "outputs": []
    },
    {
      "cell_type": "code",
      "metadata": {
        "id": "FQO9s4CHoWxV",
        "colab_type": "code",
        "colab": {}
      },
      "source": [
        "area_dic = {'西湖区':'xihu',\n",
        "            '钱塘新区':'qiantangxinqu',\n",
        "            '下城区':'xiacheng',\n",
        "            '江干区':'jianggan',\n",
        "            '拱墅区':'gongshu',\n",
        "            '上城区':'shangcheng',\n",
        "            '滨江区':'binjiang',\n",
        "            '余杭区':'yuhang',\n",
        "           '萧山区':'xiaoshan',\n",
        "           '淳安区':'chunan1',\n",
        "           '富阳区':'fuyang',\n",
        "           '临安区':'linan'}\n",
        "\n",
        "\n",
        "# 加个header以示尊敬\n",
        "headers = {'User-Agent': 'Mozilla/5.0 (Windows NT 10.0; Win64; x64) AppleWebKit/537.36 (KHTML, like Gecko) Chrome/65.0.3325.146 Safari/537.36',\n",
        "           'Referer': 'https://hz.lianjia.com/ershoufang/'}"
      ],
      "execution_count": null,
      "outputs": []
    },
    {
      "cell_type": "code",
      "metadata": {
        "id": "PguWrsn9og15",
        "colab_type": "code",
        "colab": {}
      },
      "source": [
        "# 新建一个会话\n",
        "sess = requests.session()\n",
        "sess.get('https://hz.lianjia.com/ershoufang/', headers=headers)\n",
        "\n",
        "# url示例：https://sz.lianjia.com/ershoufang/xihu/pg2/\n",
        "url = 'https://hz.lianjia.com/ershoufang/{}/pg{}/'\n",
        "\n",
        "# 当正则表达式匹配失败时，返回默认值（errif）\n",
        "def re_match(re_pattern, string, errif=None):\n",
        "    try:\n",
        "        return re.findall(re_pattern, string)[0].strip()\n",
        "    except IndexError:\n",
        "        return errif\n",
        "\n"
      ],
      "execution_count": null,
      "outputs": []
    },
    {
      "cell_type": "code",
      "metadata": {
        "id": "beITvsSaorXj",
        "colab_type": "code",
        "colab": {
          "base_uri": "https://localhost:8080/",
          "height": 554
        },
        "outputId": "ddceec09-fe8b-4841-c924-428dc269f0c3"
      },
      "source": [
        "# 新建一个DataFrame存储信息\n",
        "data = pd.DataFrame()\n",
        "\n",
        "for key_, value_ in area_dic.items():\n",
        "    # 获取该行政区下房源记录数\n",
        "    start_url = 'https://hz.lianjia.com/ershoufang/{}/'.format(value_)\n",
        "    html = sess.get(start_url).text\n",
        "    house_num = re.findall('共找到<span> (.*?) </span>套.*二手房', html)[0].strip()\n",
        "    print('正在获取{}数据: 二手房源共计「{}」套'.format(key_, house_num))\n",
        "    time.sleep(1)\n",
        "    # 由于页面限制， 所以每个行政区只能获取最多100页共计3000条房源信息\n",
        "    total_page = int(math.ceil(min(3000, int(house_num)) / 30.0))\n",
        "    for i in tqdm(range(total_page), desc=key_):\n",
        "        html = sess.get(url.format(value_, i+1)).text\n",
        "        soup = BeautifulSoup(html, 'lxml')\n",
        "        info_collect = soup.find_all(class_=\"info clear\")\n",
        "        \n",
        "        for info in info_collect:\n",
        "            info_dic = {}\n",
        "            # 行政区\n",
        "            info_dic['area'] = key_\n",
        "            # 房源的标题\n",
        "            info_dic['title'] = re_match('target=\"_blank\">(.*?)</a><!--', str(info))\n",
        "            # 小区名\n",
        "            info_dic['community'] = re_match('xiaoqu.*?target=\"_blank\">(.*?)</a>', str(info))\n",
        "            # 位置\n",
        "            info_dic['position'] = re_match('<a href.*?target=\"_blank\">(.*?)</a>.*?class=\"address\">', str(info))\n",
        "            # 税相关，如房本满5年\n",
        "            info_dic['tax'] = re_match('class=\"taxfree\">(.*?)</span>', str(info))\n",
        "            # 总价\n",
        "            info_dic['total_price'] = float(re_match('class=\"totalPrice\"><span>(.*?)</span>万', str(info)))\n",
        "            # 单价\n",
        "            info_dic['unit_price'] = float(re_match('data-price=\"(.*?)\"', str(info)))\n",
        "            \n",
        "            # 匹配房源标签信息，通过|切割\n",
        "            # 包括面积，朝向，装修等信息\n",
        "            icons = re.findall('class=\"houseIcon\"></span>(.*?)</div>', str(info))[0].strip().split('|')\n",
        "            info_dic['hourseType'] = icons[0].strip()\n",
        "            info_dic['hourseSize'] = float(icons[1].replace('平米', ''))\n",
        "            info_dic['direction'] = icons[2].strip()\n",
        "            info_dic['fitment'] = icons[3].strip()\n",
        "            \n",
        "            # 存入DataFrame\n",
        "            if data.empty:\n",
        "                data = pd.DataFrame(info_dic,index=[0])\n",
        "            else:\n",
        "                data = data.append(info_dic,ignore_index=True)"
      ],
      "execution_count": null,
      "outputs": [
        {
          "output_type": "stream",
          "text": [
            "正在获取西湖区数据: 二手房源共计「7240」套\n"
          ],
          "name": "stdout"
        },
        {
          "output_type": "stream",
          "text": [
            "西湖区: 100%|██████████| 100/100 [04:52<00:00,  2.92s/it]\n"
          ],
          "name": "stderr"
        },
        {
          "output_type": "stream",
          "text": [
            "正在获取钱塘新区数据: 二手房源共计「4147」套\n"
          ],
          "name": "stdout"
        },
        {
          "output_type": "stream",
          "text": [
            "钱塘新区: 100%|██████████| 100/100 [04:54<00:00,  2.95s/it]\n"
          ],
          "name": "stderr"
        },
        {
          "output_type": "stream",
          "text": [
            "正在获取下城区数据: 二手房源共计「4490」套\n"
          ],
          "name": "stdout"
        },
        {
          "output_type": "stream",
          "text": [
            "下城区: 100%|██████████| 100/100 [05:19<00:00,  3.19s/it]\n"
          ],
          "name": "stderr"
        },
        {
          "output_type": "stream",
          "text": [
            "正在获取江干区数据: 二手房源共计「7299」套\n"
          ],
          "name": "stdout"
        },
        {
          "output_type": "stream",
          "text": [
            "江干区: 100%|██████████| 100/100 [05:00<00:00,  3.00s/it]\n"
          ],
          "name": "stderr"
        },
        {
          "output_type": "stream",
          "text": [
            "正在获取拱墅区数据: 二手房源共计「5338」套\n"
          ],
          "name": "stdout"
        },
        {
          "output_type": "stream",
          "text": [
            "拱墅区: 100%|██████████| 100/100 [05:06<00:00,  3.07s/it]\n"
          ],
          "name": "stderr"
        },
        {
          "output_type": "stream",
          "text": [
            "正在获取上城区数据: 二手房源共计「2827」套\n"
          ],
          "name": "stdout"
        },
        {
          "output_type": "stream",
          "text": [
            "上城区: 100%|██████████| 95/95 [04:56<00:00,  3.12s/it]\n"
          ],
          "name": "stderr"
        },
        {
          "output_type": "stream",
          "text": [
            "正在获取滨江区数据: 二手房源共计「4203」套\n"
          ],
          "name": "stdout"
        },
        {
          "output_type": "stream",
          "text": [
            "滨江区: 100%|██████████| 100/100 [05:01<00:00,  3.02s/it]\n"
          ],
          "name": "stderr"
        },
        {
          "output_type": "stream",
          "text": [
            "正在获取余杭区数据: 二手房源共计「20242」套\n"
          ],
          "name": "stdout"
        },
        {
          "output_type": "stream",
          "text": [
            "余杭区: 100%|██████████| 100/100 [05:13<00:00,  3.14s/it]\n"
          ],
          "name": "stderr"
        },
        {
          "output_type": "stream",
          "text": [
            "正在获取萧山区数据: 二手房源共计「7107」套\n"
          ],
          "name": "stdout"
        },
        {
          "output_type": "stream",
          "text": [
            "萧山区: 100%|██████████| 100/100 [04:51<00:00,  2.91s/it]\n"
          ],
          "name": "stderr"
        },
        {
          "output_type": "error",
          "ename": "IndexError",
          "evalue": "ignored",
          "traceback": [
            "\u001b[0;31m---------------------------------------------------------------------------\u001b[0m",
            "\u001b[0;31mIndexError\u001b[0m                                Traceback (most recent call last)",
            "\u001b[0;32m<ipython-input-6-0176cd0cdd5f>\u001b[0m in \u001b[0;36m<module>\u001b[0;34m()\u001b[0m\n\u001b[1;32m      6\u001b[0m     \u001b[0mstart_url\u001b[0m \u001b[0;34m=\u001b[0m \u001b[0;34m'https://hz.lianjia.com/ershoufang/{}/'\u001b[0m\u001b[0;34m.\u001b[0m\u001b[0mformat\u001b[0m\u001b[0;34m(\u001b[0m\u001b[0mvalue_\u001b[0m\u001b[0;34m)\u001b[0m\u001b[0;34m\u001b[0m\u001b[0;34m\u001b[0m\u001b[0m\n\u001b[1;32m      7\u001b[0m     \u001b[0mhtml\u001b[0m \u001b[0;34m=\u001b[0m \u001b[0msess\u001b[0m\u001b[0;34m.\u001b[0m\u001b[0mget\u001b[0m\u001b[0;34m(\u001b[0m\u001b[0mstart_url\u001b[0m\u001b[0;34m)\u001b[0m\u001b[0;34m.\u001b[0m\u001b[0mtext\u001b[0m\u001b[0;34m\u001b[0m\u001b[0;34m\u001b[0m\u001b[0m\n\u001b[0;32m----> 8\u001b[0;31m     \u001b[0mhouse_num\u001b[0m \u001b[0;34m=\u001b[0m \u001b[0mre\u001b[0m\u001b[0;34m.\u001b[0m\u001b[0mfindall\u001b[0m\u001b[0;34m(\u001b[0m\u001b[0;34m'共找到<span> (.*?) </span>套.*二手房'\u001b[0m\u001b[0;34m,\u001b[0m \u001b[0mhtml\u001b[0m\u001b[0;34m)\u001b[0m\u001b[0;34m[\u001b[0m\u001b[0;36m0\u001b[0m\u001b[0;34m]\u001b[0m\u001b[0;34m.\u001b[0m\u001b[0mstrip\u001b[0m\u001b[0;34m(\u001b[0m\u001b[0;34m)\u001b[0m\u001b[0;34m\u001b[0m\u001b[0;34m\u001b[0m\u001b[0m\n\u001b[0m\u001b[1;32m      9\u001b[0m     \u001b[0mprint\u001b[0m\u001b[0;34m(\u001b[0m\u001b[0;34m'正在获取{}数据: 二手房源共计「{}」套'\u001b[0m\u001b[0;34m.\u001b[0m\u001b[0mformat\u001b[0m\u001b[0;34m(\u001b[0m\u001b[0mkey_\u001b[0m\u001b[0;34m,\u001b[0m \u001b[0mhouse_num\u001b[0m\u001b[0;34m)\u001b[0m\u001b[0;34m)\u001b[0m\u001b[0;34m\u001b[0m\u001b[0;34m\u001b[0m\u001b[0m\n\u001b[1;32m     10\u001b[0m     \u001b[0mtime\u001b[0m\u001b[0;34m.\u001b[0m\u001b[0msleep\u001b[0m\u001b[0;34m(\u001b[0m\u001b[0;36m1\u001b[0m\u001b[0;34m)\u001b[0m\u001b[0;34m\u001b[0m\u001b[0;34m\u001b[0m\u001b[0m\n",
            "\u001b[0;31mIndexError\u001b[0m: list index out of range"
          ]
        }
      ]
    },
    {
      "cell_type": "code",
      "metadata": {
        "id": "X8QCX7lBotGC",
        "colab_type": "code",
        "colab": {}
      },
      "source": [
        "outputfile='./hangzhou_lianjia.csv'\n",
        "data.to_csv(outputfile,index=False,encoding='utf_8_sig',header=True) "
      ],
      "execution_count": null,
      "outputs": []
    },
    {
      "cell_type": "code",
      "metadata": {
        "id": "HythQSRJ2AsJ",
        "colab_type": "code",
        "colab": {
          "base_uri": "https://localhost:8080/",
          "height": 284
        },
        "outputId": "f6c3dad9-09b2-4a3d-faa8-7dda903b0cde"
      },
      "source": [
        "data.head()"
      ],
      "execution_count": null,
      "outputs": [
        {
          "output_type": "execute_result",
          "data": {
            "text/html": [
              "<div>\n",
              "<style scoped>\n",
              "    .dataframe tbody tr th:only-of-type {\n",
              "        vertical-align: middle;\n",
              "    }\n",
              "\n",
              "    .dataframe tbody tr th {\n",
              "        vertical-align: top;\n",
              "    }\n",
              "\n",
              "    .dataframe thead th {\n",
              "        text-align: right;\n",
              "    }\n",
              "</style>\n",
              "<table border=\"1\" class=\"dataframe\">\n",
              "  <thead>\n",
              "    <tr style=\"text-align: right;\">\n",
              "      <th></th>\n",
              "      <th>area</th>\n",
              "      <th>title</th>\n",
              "      <th>community</th>\n",
              "      <th>position</th>\n",
              "      <th>tax</th>\n",
              "      <th>total_price</th>\n",
              "      <th>unit_price</th>\n",
              "      <th>hourseType</th>\n",
              "      <th>hourseSize</th>\n",
              "      <th>direction</th>\n",
              "      <th>fitment</th>\n",
              "    </tr>\n",
              "  </thead>\n",
              "  <tbody>\n",
              "    <tr>\n",
              "      <th>0</th>\n",
              "      <td>西湖区</td>\n",
              "      <td>保小一楼带大院子 自住装修 小胡环境好</td>\n",
              "      <td>西溪路22-97号</td>\n",
              "      <td>黄龙</td>\n",
              "      <td>None</td>\n",
              "      <td>435.0</td>\n",
              "      <td>62925.0</td>\n",
              "      <td>3室2厅</td>\n",
              "      <td>69.13</td>\n",
              "      <td>南</td>\n",
              "      <td>精装</td>\n",
              "    </tr>\n",
              "    <tr>\n",
              "      <th>1</th>\n",
              "      <td>西湖区</td>\n",
              "      <td>自住精装！无增值税，2号地铁白洋站直线370米</td>\n",
              "      <td>三墩景溪北苑</td>\n",
              "      <td>良渚</td>\n",
              "      <td>None</td>\n",
              "      <td>192.0</td>\n",
              "      <td>31491.0</td>\n",
              "      <td>2室1厅</td>\n",
              "      <td>60.97</td>\n",
              "      <td>南</td>\n",
              "      <td>精装</td>\n",
              "    </tr>\n",
              "    <tr>\n",
              "      <th>2</th>\n",
              "      <td>西湖区</td>\n",
              "      <td>远离绕城高速，东边套，满两年，诚心出售</td>\n",
              "      <td>三墩景溪北苑</td>\n",
              "      <td>良渚</td>\n",
              "      <td>None</td>\n",
              "      <td>180.0</td>\n",
              "      <td>29861.0</td>\n",
              "      <td>2室1厅</td>\n",
              "      <td>60.28</td>\n",
              "      <td>东南</td>\n",
              "      <td>简装</td>\n",
              "    </tr>\n",
              "    <tr>\n",
              "      <th>3</th>\n",
              "      <td>西湖区</td>\n",
              "      <td>中间楼层，采光视野都没有影响，价格低，成交快。</td>\n",
              "      <td>万科融信西雅图</td>\n",
              "      <td>良渚</td>\n",
              "      <td>None</td>\n",
              "      <td>360.0</td>\n",
              "      <td>40255.0</td>\n",
              "      <td>3室2厅</td>\n",
              "      <td>89.43</td>\n",
              "      <td>南</td>\n",
              "      <td>精装</td>\n",
              "    </tr>\n",
              "    <tr>\n",
              "      <th>4</th>\n",
              "      <td>西湖区</td>\n",
              "      <td>中间楼层 全明户型 两房朝南 可直接入住 满二唯一</td>\n",
              "      <td>翠苑三区</td>\n",
              "      <td>翠苑</td>\n",
              "      <td>None</td>\n",
              "      <td>255.0</td>\n",
              "      <td>41756.0</td>\n",
              "      <td>2室1厅</td>\n",
              "      <td>61.07</td>\n",
              "      <td>南</td>\n",
              "      <td>精装</td>\n",
              "    </tr>\n",
              "  </tbody>\n",
              "</table>\n",
              "</div>"
            ],
            "text/plain": [
              "  area                      title  community  ... hourseSize direction  fitment\n",
              "0  西湖区        保小一楼带大院子 自住装修 小胡环境好  西溪路22-97号  ...      69.13         南       精装\n",
              "1  西湖区    自住精装！无增值税，2号地铁白洋站直线370米     三墩景溪北苑  ...      60.97         南       精装\n",
              "2  西湖区        远离绕城高速，东边套，满两年，诚心出售     三墩景溪北苑  ...      60.28        东南       简装\n",
              "3  西湖区    中间楼层，采光视野都没有影响，价格低，成交快。    万科融信西雅图  ...      89.43         南       精装\n",
              "4  西湖区  中间楼层 全明户型 两房朝南 可直接入住 满二唯一       翠苑三区  ...      61.07         南       精装\n",
              "\n",
              "[5 rows x 11 columns]"
            ]
          },
          "metadata": {
            "tags": []
          },
          "execution_count": 10
        }
      ]
    },
    {
      "cell_type": "code",
      "metadata": {
        "id": "UMGtH7NIa1Xy",
        "colab_type": "code",
        "colab": {
          "base_uri": "https://localhost:8080/",
          "height": 282
        },
        "outputId": "58ac9949-716d-4dfb-f179-c5e532850572"
      },
      "source": [
        "import matplotlib.pyplot as plt\n",
        "import numpy as np\n",
        "\n",
        "x = np.linspace(-np.pi,np.pi,100)\n",
        "y = np.sin(3*x)\n",
        "\n",
        "plt.plot(x,y)\n",
        "\n",
        "plt.fill_between(x,y,color = 'green',alpha = 0.1)"
      ],
      "execution_count": null,
      "outputs": [
        {
          "output_type": "execute_result",
          "data": {
            "text/plain": [
              "<matplotlib.collections.PolyCollection at 0x7fad647c5860>"
            ]
          },
          "metadata": {
            "tags": []
          },
          "execution_count": 4
        },
        {
          "output_type": "display_data",
          "data": {
            "image/png": "[encoded data removed]",
            "text/plain": [
              "<Figure size 432x288 with 1 Axes>"
            ]
          },
          "metadata": {
            "tags": [],
            "needs_background": "light"
          }
        }
      ]
    },
    {
      "cell_type": "code",
      "metadata": {
        "id": "YfU41sewbVo2",
        "colab_type": "code",
        "colab": {
          "base_uri": "https://localhost:8080/",
          "height": 282
        },
        "outputId": "9b16e1ea-4472-4e83-d6aa-97f4531c1dc1"
      },
      "source": [
        "plt.scatter(x,y,c = x,cmap = 'binary')"
      ],
      "execution_count": null,
      "outputs": [
        {
          "output_type": "execute_result",
          "data": {
            "text/plain": [
              "<matplotlib.collections.PathCollection at 0x7fad61d8fa90>"
            ]
          },
          "metadata": {
            "tags": []
          },
          "execution_count": 9
        },
        {
          "output_type": "display_data",
          "data": {
            "image/png": "[encoded data removed]",
            "text/plain": [
              "<Figure size 432x288 with 1 Axes>"
            ]
          },
          "metadata": {
            "tags": [],
            "needs_background": "light"
          }
        }
      ]
    },
    {
      "cell_type": "code",
      "metadata": {
        "id": "N1GGz57Jm3p9",
        "colab_type": "code",
        "colab": {
          "base_uri": "https://localhost:8080/",
          "height": 286
        },
        "outputId": "63b805a4-ec37-401a-97b9-fde95f8fe4a3"
      },
      "source": [
        "x = np.linspace(0,1,)\n",
        "y = x\n",
        "y2 = np.sqrt(x)\n",
        "plt.plot(x,y,)\n",
        "plt.plot(0.5,0.5,'ro')\n",
        "plt.plot([0,0.5],[0.5,0.5],'r--' )\n",
        "plt.plot([0.5,0.5],[0,0.5],'r--' )\n",
        "plt.xticks([0,0.5,1],)\n",
        "plt.yticks([0,0.5,1],)\n",
        "\n",
        "plt.plot(x,y2,)\n",
        "plt.plot(0.5,np.sqrt(0.5),'ro')\n",
        "plt.plot([0,0.5],[np.sqrt(0.5),np.sqrt(0.5)],'r--' )\n",
        "plt.plot([0.5,0.5],[0,np.sqrt(0.5)],'r--' )\n",
        "plt.xticks([0,0.5,1],)\n",
        "plt.yticks([0,np.sqrt(0.5),0.5,1],)\n",
        "plt.axis([0,1,0,1])\n",
        "# plt.axis('square')"
      ],
      "execution_count": null,
      "outputs": [
        {
          "output_type": "execute_result",
          "data": {
            "text/plain": [
              "(0.0, 1.0, 0.0, 1.0)"
            ]
          },
          "metadata": {
            "tags": []
          },
          "execution_count": 42
        },
        {
          "output_type": "display_data",
          "data": {
            "image/png": "[encoded data removed]",
            "text/plain": [
              "<Figure size 432x288 with 1 Axes>"
            ]
          },
          "metadata": {
            "tags": [],
            "needs_background": "light"
          }
        }
      ]
    },
    {
      "cell_type": "code",
      "metadata": {
        "id": "bTzuVPsUrOIO",
        "colab_type": "code",
        "colab": {
          "base_uri": "https://localhost:8080/",
          "height": 139
        },
        "outputId": "05653a9b-f510-4ba6-bcab-cffeeab279bd"
      },
      "source": [
        "red_arr = np.array([\n",
        "            [[0,0,0],[1,0,0],[2,0,0],[3,0,0],[4,0,0],[50,0,0]]\n",
        "])\n",
        "print(red_arr.shape)\n",
        "plt.yticks([])\n",
        "plt.imshow(red_arr)"
      ],
      "execution_count": null,
      "outputs": [
        {
          "output_type": "stream",
          "text": [
            "(1, 6, 3)\n"
          ],
          "name": "stdout"
        },
        {
          "output_type": "execute_result",
          "data": {
            "text/plain": [
              "<matplotlib.image.AxesImage at 0x7fad61822dd8>"
            ]
          },
          "metadata": {
            "tags": []
          },
          "execution_count": 87
        },
        {
          "output_type": "display_data",
          "data": {
            "image/png": "[encoded data removed]",
            "text/plain": [
              "<Figure size 432x288 with 1 Axes>"
            ]
          },
          "metadata": {
            "tags": [],
            "needs_background": "light"
          }
        }
      ]
    },
    {
      "cell_type": "code",
      "metadata": {
        "id": "gTJOFQZixoD1",
        "colab_type": "code",
        "colab": {
          "base_uri": "https://localhost:8080/",
          "height": 34
        },
        "outputId": "9277b73e-e6ad-443f-be5a-627bf7078e5b"
      },
      "source": [
        "li = np.array([0,0,0])\n",
        "li2 =np.array(np.stack((li,li)))\n",
        "li2.shape"
      ],
      "execution_count": null,
      "outputs": [
        {
          "output_type": "execute_result",
          "data": {
            "text/plain": [
              "(2, 3)"
            ]
          },
          "metadata": {
            "tags": []
          },
          "execution_count": 92
        }
      ]
    },
    {
      "cell_type": "code",
      "metadata": {
        "id": "LoQsx-iQ02QW",
        "colab_type": "code",
        "colab": {
          "base_uri": "https://localhost:8080/",
          "height": 34
        },
        "outputId": "9e04eeb2-8b0d-47e9-9594-627240bc0b28"
      },
      "source": [
        "# red = [0,0,0]\n",
        "red[0] = 3\n",
        "red"
      ],
      "execution_count": null,
      "outputs": [
        {
          "output_type": "execute_result",
          "data": {
            "text/plain": [
              "[3, 0, 0]"
            ]
          },
          "metadata": {
            "tags": []
          },
          "execution_count": 106
        }
      ]
    },
    {
      "cell_type": "code",
      "metadata": {
        "id": "elmvF4DG2Yfj",
        "colab_type": "code",
        "colab": {}
      },
      "source": [
        "fsad"
      ],
      "execution_count": null,
      "outputs": []
    },
    {
      "cell_type": "code",
      "metadata": {
        "id": "Or6vHFFOz4ZD",
        "colab_type": "code",
        "colab": {
          "base_uri": "https://localhost:8080/",
          "height": 87
        },
        "outputId": "4fa26670-91c2-40f4-9b2d-9d6491b3423e"
      },
      "source": [
        "red = [0,0,0]\n",
        "red_arr = []\n",
        "green_arr = []\n",
        "blue_arr = []\n",
        "\n",
        "for i in range(0,256,10):\n",
        "    red_arr.append([i,0,0])\n",
        "    green_arr.append([0,i,0])\n",
        "    blue_arr.append([0,0,i])\n",
        "colorbar = [red_arr,green_arr,blue_arr]\n",
        "plt.imshow(colorbar)\n",
        "plt.yticks([])\n",
        "_ = plt.xticks([i for i in range(0,26,5)],[str(i*10) for i in range(0,26,5)])"
      ],
      "execution_count": null,
      "outputs": [
        {
          "output_type": "display_data",
          "data": {
            "image/png": "[encoded data removed]",
            "text/plain": [
              "<Figure size 432x288 with 1 Axes>"
            ]
          },
          "metadata": {
            "tags": [],
            "needs_background": "light"
          }
        }
      ]
    },
    {
      "cell_type": "code",
      "metadata": {
        "id": "2_l50hWpU_P0",
        "colab_type": "code",
        "colab": {
          "base_uri": "https://localhost:8080/",
          "height": 34
        },
        "outputId": "70106039-2ff5-4fed-874c-d9eb30c39ea2"
      },
      "source": [
        "[str(i*10) for i in range(0,26,5)]\n"
      ],
      "execution_count": null,
      "outputs": [
        {
          "output_type": "execute_result",
          "data": {
            "text/plain": [
              "[0, 5, 10, 15, 20, 25]"
            ]
          },
          "metadata": {
            "tags": []
          },
          "execution_count": 151
        }
      ]
    },
    {
      "cell_type": "code",
      "metadata": {
        "id": "BcDYlLPrTce2",
        "colab_type": "code",
        "colab": {
          "base_uri": "https://localhost:8080/",
          "height": 52
        },
        "outputId": "6f83ca64-2087-40e2-bc99-ef57bd950a1b"
      },
      "source": [
        "import numpy as np\n",
        "x = np.array([\n",
        "              [1,2],\n",
        "              [3,4]\n",
        "])\n",
        "y = np.array([\n",
        "              [2,3],\n",
        "              [4,5]\n",
        "])\n",
        "x+y"
      ],
      "execution_count": null,
      "outputs": [
        {
          "output_type": "execute_result",
          "data": {
            "text/plain": [
              "array([[3, 5],\n",
              "       [7, 9]])"
            ]
          },
          "metadata": {
            "tags": []
          },
          "execution_count": 2
        }
      ]
    },
    {
      "cell_type": "code",
      "metadata": {
        "id": "Yem-qPN5ipTW",
        "colab_type": "code",
        "colab": {
          "base_uri": "https://localhost:8080/",
          "height": 52
        },
        "outputId": "ee9f5bf4-e611-44cb-f8de-f3e4c3e0e764"
      },
      "source": [
        "x.dot(y)"
      ],
      "execution_count": null,
      "outputs": [
        {
          "output_type": "execute_result",
          "data": {
            "text/plain": [
              "array([[10, 13],\n",
              "       [22, 29]])"
            ]
          },
          "metadata": {
            "tags": []
          },
          "execution_count": 3
        }
      ]
    },
    {
      "cell_type": "code",
      "metadata": {
        "id": "sYVePIDLjjQm",
        "colab_type": "code",
        "colab": {
          "base_uri": "https://localhost:8080/",
          "height": 52
        },
        "outputId": "a08b68b0-d61c-4929-9a8c-c5cea12c14e4"
      },
      "source": [
        "xT = x.T\n",
        "xT"
      ],
      "execution_count": null,
      "outputs": [
        {
          "output_type": "execute_result",
          "data": {
            "text/plain": [
              "array([[1, 3],\n",
              "       [2, 4]])"
            ]
          },
          "metadata": {
            "tags": []
          },
          "execution_count": 4
        }
      ]
    },
    {
      "cell_type": "code",
      "metadata": {
        "id": "lQ2sds6vjlpB",
        "colab_type": "code",
        "colab": {
          "base_uri": "https://localhost:8080/",
          "height": 52
        },
        "outputId": "d1a8c50c-3072-4561-9969-1529527bda60"
      },
      "source": [
        "yT = y.T\n",
        "yT"
      ],
      "execution_count": null,
      "outputs": [
        {
          "output_type": "execute_result",
          "data": {
            "text/plain": [
              "array([[2, 4],\n",
              "       [3, 5]])"
            ]
          },
          "metadata": {
            "tags": []
          },
          "execution_count": 5
        }
      ]
    },
    {
      "cell_type": "code",
      "metadata": {
        "id": "1jpox8kyj0DC",
        "colab_type": "code",
        "colab": {
          "base_uri": "https://localhost:8080/",
          "height": 52
        },
        "outputId": "0f48fdbc-76a3-46ef-8edd-370fc35b7971"
      },
      "source": [
        "xT.dot(y)"
      ],
      "execution_count": null,
      "outputs": [
        {
          "output_type": "execute_result",
          "data": {
            "text/plain": [
              "array([[14, 18],\n",
              "       [20, 26]])"
            ]
          },
          "metadata": {
            "tags": []
          },
          "execution_count": 6
        }
      ]
    },
    {
      "cell_type": "code",
      "metadata": {
        "id": "P1h44UQ_j3JZ",
        "colab_type": "code",
        "colab": {
          "base_uri": "https://localhost:8080/",
          "height": 52
        },
        "outputId": "cc9a9244-4d01-4062-a4c9-2e3e297ebfca"
      },
      "source": [
        "yT.dot(x)"
      ],
      "execution_count": null,
      "outputs": [
        {
          "output_type": "execute_result",
          "data": {
            "text/plain": [
              "array([[14, 20],\n",
              "       [18, 26]])"
            ]
          },
          "metadata": {
            "tags": []
          },
          "execution_count": 7
        }
      ]
    },
    {
      "cell_type": "code",
      "metadata": {
        "id": "jk4KiVKjkSic",
        "colab_type": "code",
        "colab": {
          "base_uri": "https://localhost:8080/",
          "height": 34
        },
        "outputId": "cec9abf2-9697-4e7e-e25b-0a2fae3b9548"
      },
      "source": [
        "a = np.array([1,2,3])\n",
        "a"
      ],
      "execution_count": null,
      "outputs": [
        {
          "output_type": "execute_result",
          "data": {
            "text/plain": [
              "array([1, 2, 3])"
            ]
          },
          "metadata": {
            "tags": []
          },
          "execution_count": 8
        }
      ]
    },
    {
      "cell_type": "code",
      "metadata": {
        "id": "r12EacaYsKgL",
        "colab_type": "code",
        "colab": {
          "base_uri": "https://localhost:8080/",
          "height": 34
        },
        "outputId": "30643234-e9a7-45c8-d4ce-2e06dfd468f6"
      },
      "source": [
        "A = a.T\n",
        "A"
      ],
      "execution_count": null,
      "outputs": [
        {
          "output_type": "execute_result",
          "data": {
            "text/plain": [
              "array([1, 2, 3])"
            ]
          },
          "metadata": {
            "tags": []
          },
          "execution_count": 10
        }
      ]
    },
    {
      "cell_type": "code",
      "metadata": {
        "id": "AZ8DC7NxsMeH",
        "colab_type": "code",
        "colab": {
          "base_uri": "https://localhost:8080/",
          "height": 34
        },
        "outputId": "d58e3100-9015-41f4-8b86-c2891f1d1a9e"
      },
      "source": [
        "a.dot(A)"
      ],
      "execution_count": null,
      "outputs": [
        {
          "output_type": "execute_result",
          "data": {
            "text/plain": [
              "14"
            ]
          },
          "metadata": {
            "tags": []
          },
          "execution_count": 11
        }
      ]
    },
    {
      "cell_type": "code",
      "metadata": {
        "id": "qkN938PBsX_a",
        "colab_type": "code",
        "colab": {
          "base_uri": "https://localhost:8080/",
          "height": 34
        },
        "outputId": "0b8be800-cc40-4933-9eef-32fb78a8c161"
      },
      "source": [
        "A.dot(a)"
      ],
      "execution_count": null,
      "outputs": [
        {
          "output_type": "execute_result",
          "data": {
            "text/plain": [
              "14"
            ]
          },
          "metadata": {
            "tags": []
          },
          "execution_count": 12
        }
      ]
    },
    {
      "cell_type": "code",
      "metadata": {
        "id": "20wxPPmlsaEJ",
        "colab_type": "code",
        "colab": {
          "base_uri": "https://localhost:8080/",
          "height": 70
        },
        "outputId": "d927269e-0060-4bf8-ca20-8ad6165f7d1c"
      },
      "source": [
        "a = a.reshape(-1,1)\n",
        "a"
      ],
      "execution_count": null,
      "outputs": [
        {
          "output_type": "execute_result",
          "data": {
            "text/plain": [
              "array([[1],\n",
              "       [2],\n",
              "       [3]])"
            ]
          },
          "metadata": {
            "tags": []
          },
          "execution_count": 13
        }
      ]
    },
    {
      "cell_type": "code",
      "metadata": {
        "id": "dA43LcVDshWh",
        "colab_type": "code",
        "colab": {
          "base_uri": "https://localhost:8080/",
          "height": 34
        },
        "outputId": "5f78e0b7-e0a0-4480-9e26-d16c44c1b60e"
      },
      "source": [
        "A = a.T\n",
        "A"
      ],
      "execution_count": null,
      "outputs": [
        {
          "output_type": "execute_result",
          "data": {
            "text/plain": [
              "array([[1, 2, 3]])"
            ]
          },
          "metadata": {
            "tags": []
          },
          "execution_count": 14
        }
      ]
    },
    {
      "cell_type": "code",
      "metadata": {
        "id": "GQgk6POvsjkb",
        "colab_type": "code",
        "colab": {
          "base_uri": "https://localhost:8080/",
          "height": 70
        },
        "outputId": "759ef502-6527-422b-b9d4-bda717d09c8a"
      },
      "source": [
        "a.dot(A)"
      ],
      "execution_count": null,
      "outputs": [
        {
          "output_type": "execute_result",
          "data": {
            "text/plain": [
              "array([[1, 2, 3],\n",
              "       [2, 4, 6],\n",
              "       [3, 6, 9]])"
            ]
          },
          "metadata": {
            "tags": []
          },
          "execution_count": 15
        }
      ]
    },
    {
      "cell_type": "code",
      "metadata": {
        "id": "gVpXj9jzsmx7",
        "colab_type": "code",
        "colab": {
          "base_uri": "https://localhost:8080/",
          "height": 34
        },
        "outputId": "b75984ba-8c1a-495e-c90e-1fac477f7dfc"
      },
      "source": [
        "A.dot(a)"
      ],
      "execution_count": null,
      "outputs": [
        {
          "output_type": "execute_result",
          "data": {
            "text/plain": [
              "array([[14]])"
            ]
          },
          "metadata": {
            "tags": []
          },
          "execution_count": 16
        }
      ]
    },
    {
      "cell_type": "code",
      "metadata": {
        "id": "2Ti6VCDVspbS",
        "colab_type": "code",
        "colab": {
          "base_uri": "https://localhost:8080/",
          "height": 70
        },
        "outputId": "286f7ca8-504d-483e-fad9-c9783b89dab1"
      },
      "source": [
        "A = (0.0,0.0)\n",
        "B = (150.0,150.0)\n",
        "C = (0.0,150.0)\n",
        "# D = (0.0,240.0)\n",
        "\n",
        "points = {0:A,1:B,2:C}\n",
        "for i in points.values():\n",
        "    print(i)"
      ],
      "execution_count": null,
      "outputs": [
        {
          "output_type": "stream",
          "text": [
            "(0.0, 0.0)\n",
            "(150.0, 150.0)\n",
            "(0.0, 150.0)\n"
          ],
          "name": "stdout"
        }
      ]
    },
    {
      "cell_type": "code",
      "metadata": {
        "id": "ftchMceoydZw",
        "colab_type": "code",
        "colab": {
          "base_uri": "https://localhost:8080/",
          "height": 300
        },
        "outputId": "d53833ae-ba16-4553-95ac-ad11816f20e8"
      },
      "source": [
        "import matplotlib.pyplot as plt\n",
        "\n",
        "\n",
        "x = 50\n",
        "y = 100\n",
        "result_arr = []\n",
        "for i in range(1000):\n",
        "    result = (x+i)/(y+i)\n",
        "    result_arr.append(result)\n",
        "    if result == 1:\n",
        "        print(i,x+i)\n",
        "print(result)\n",
        "plt.plot(result_arr,)\n",
        "# plt.axis('equal')"
      ],
      "execution_count": null,
      "outputs": [
        {
          "output_type": "stream",
          "text": [
            "0.9545040946314831\n"
          ],
          "name": "stdout"
        },
        {
          "output_type": "execute_result",
          "data": {
            "text/plain": [
              "(-49.95, 1048.95, 0.47727479526842587, 0.9772292993630572)"
            ]
          },
          "metadata": {
            "tags": []
          },
          "execution_count": 16
        },
        {
          "output_type": "display_data",
          "data": {
            "image/png": "[encoded data removed]",
            "text/plain": [
              "<Figure size 432x288 with 1 Axes>"
            ]
          },
          "metadata": {
            "tags": [],
            "needs_background": "light"
          }
        }
      ]
    },
    {
      "cell_type": "code",
      "metadata": {
        "id": "z2Xy7PDI8iBj",
        "colab_type": "code",
        "colab": {
          "base_uri": "https://localhost:8080/",
          "height": 282
        },
        "outputId": "425191a8-f06c-4a22-c91d-8f3be3eaefa1"
      },
      "source": [
        "import numpy as np\n",
        "diff = np.diff(result_arr)\n",
        "plt.plot(diff)"
      ],
      "execution_count": null,
      "outputs": [
        {
          "output_type": "execute_result",
          "data": {
            "text/plain": [
              "[<matplotlib.lines.Line2D at 0x7f95878a1550>]"
            ]
          },
          "metadata": {
            "tags": []
          },
          "execution_count": 14
        },
        {
          "output_type": "display_data",
          "data": {
            "image/png": "[encoded data removed]",
            "text/plain": [
              "<Figure size 432x288 with 1 Axes>"
            ]
          },
          "metadata": {
            "tags": [],
            "needs_background": "light"
          }
        }
      ]
    },
    {
      "cell_type": "code",
      "metadata": {
        "id": "Z3pT-YbM_jGW",
        "colab_type": "code",
        "colab": {
          "base_uri": "https://localhost:8080/",
          "height": 1000
        },
        "outputId": "884c4bf2-8f91-44f5-d9c2-cbf998957f30"
      },
      "source": [
        "diff\n"
      ],
      "execution_count": null,
      "outputs": [
        {
          "output_type": "execute_result",
          "data": {
            "text/plain": [
              "array([4.95049505e-03, 4.85342652e-03, 4.75918523e-03, 4.66766243e-03,\n",
              "       4.57875458e-03, 4.49236298e-03, 4.40839358e-03, 4.32675666e-03,\n",
              "       4.24736663e-03, 4.17014178e-03, 4.09500410e-03, 4.02187902e-03,\n",
              "       3.95069532e-03, 3.88138488e-03, 3.81388253e-03, 3.74812594e-03,\n",
              "       3.68405541e-03, 3.62161379e-03, 3.56074633e-03, 3.50140056e-03,\n",
              "       3.44352617e-03, 3.38707492e-03, 3.33200053e-03, 3.27825859e-03,\n",
              "       3.22580645e-03, 3.17460317e-03, 3.12460942e-03, 3.07578740e-03,\n",
              "       3.02810078e-03, 2.98151461e-03, 2.93599530e-03, 2.89151053e-03,\n",
              "       2.84802916e-03, 2.80552127e-03, 2.76395799e-03, 2.72331155e-03,\n",
              "       2.68355517e-03, 2.64466307e-03, 2.60661036e-03, 2.56937307e-03,\n",
              "       2.53292806e-03, 2.49725302e-03, 2.46232641e-03, 2.42812743e-03,\n",
              "       2.39463602e-03, 2.36183278e-03, 2.32969900e-03, 2.29821658e-03,\n",
              "       2.26736804e-03, 2.23713647e-03, 2.20750552e-03, 2.17845939e-03,\n",
              "       2.14998280e-03, 2.12206095e-03, 2.09467951e-03, 2.06782465e-03,\n",
              "       2.04148293e-03, 2.01564138e-03, 1.99028740e-03, 1.96540881e-03,\n",
              "       1.94099379e-03, 1.91703090e-03, 1.89350905e-03, 1.87041748e-03,\n",
              "       1.84774575e-03, 1.82548375e-03, 1.80362167e-03, 1.78214999e-03,\n",
              "       1.76105945e-03, 1.74034111e-03, 1.71998624e-03, 1.69998640e-03,\n",
              "       1.68033338e-03, 1.66101920e-03, 1.64203612e-03, 1.62337662e-03,\n",
              "       1.60503338e-03, 1.58699930e-03, 1.56926747e-03, 1.55183116e-03,\n",
              "       1.53468386e-03, 1.51781920e-03, 1.50123101e-03, 1.48491328e-03,\n",
              "       1.46886016e-03, 1.45306597e-03, 1.43752516e-03, 1.42223234e-03,\n",
              "       1.40718226e-03, 1.39236981e-03, 1.37779002e-03, 1.36343805e-03,\n",
              "       1.34930915e-03, 1.33539875e-03, 1.32170235e-03, 1.30821559e-03,\n",
              "       1.29493422e-03, 1.28185407e-03, 1.26897112e-03, 1.25628141e-03,\n",
              "       1.24378109e-03, 1.23146643e-03, 1.21933376e-03, 1.20737950e-03,\n",
              "       1.19560019e-03, 1.18399242e-03, 1.17255288e-03, 1.16127834e-03,\n",
              "       1.15016562e-03, 1.13921167e-03, 1.12841345e-03, 1.11776804e-03,\n",
              "       1.10727257e-03, 1.09692422e-03, 1.08672028e-03, 1.07665805e-03,\n",
              "       1.06673494e-03, 1.05694838e-03, 1.04729588e-03, 1.03777501e-03,\n",
              "       1.02838338e-03, 1.01911867e-03, 1.00997859e-03, 1.00096092e-03,\n",
              "       9.92063492e-04, 9.83284169e-04, 9.74620872e-04, 9.66071567e-04,\n",
              "       9.57634260e-04, 9.49307006e-04, 9.41087898e-04, 9.32975071e-04,\n",
              "       9.24966701e-04, 9.17061003e-04, 9.09256228e-04, 9.01550667e-04,\n",
              "       8.93942645e-04, 8.86430522e-04, 8.79012693e-04, 8.71687587e-04,\n",
              "       8.64453665e-04, 8.57309420e-04, 8.50253376e-04, 8.43284086e-04,\n",
              "       8.36400134e-04, 8.29600133e-04, 8.22882723e-04, 8.16246572e-04,\n",
              "       8.09690374e-04, 8.03212851e-04, 7.96812749e-04, 7.90488838e-04,\n",
              "       7.84239915e-04, 7.78064797e-04, 7.71962328e-04, 7.65931373e-04,\n",
              "       7.59970817e-04, 7.54079570e-04, 7.48256562e-04, 7.42500743e-04,\n",
              "       7.36811082e-04, 7.31186570e-04, 7.25626215e-04, 7.20129047e-04,\n",
              "       7.14694111e-04, 7.09320471e-04, 7.04007209e-04, 6.98753424e-04,\n",
              "       6.93558231e-04, 6.88420763e-04, 6.83340167e-04, 6.78315607e-04,\n",
              "       6.73346262e-04, 6.68431325e-04, 6.63570007e-04, 6.58761528e-04,\n",
              "       6.54005127e-04, 6.49300055e-04, 6.44645574e-04, 6.40040963e-04,\n",
              "       6.35485511e-04, 6.30978521e-04, 6.26519309e-04, 6.22107202e-04,\n",
              "       6.17741537e-04, 6.13421666e-04, 6.09146951e-04, 6.04916763e-04,\n",
              "       6.00730488e-04, 5.96587519e-04, 5.92487262e-04, 5.88429130e-04,\n",
              "       5.84412549e-04, 5.80436953e-04, 5.76501787e-04, 5.72606505e-04,\n",
              "       5.68750569e-04, 5.64933451e-04, 5.61154632e-04, 5.57413601e-04,\n",
              "       5.53709856e-04, 5.50042903e-04, 5.46412257e-04, 5.42817440e-04,\n",
              "       5.39257981e-04, 5.35733419e-04, 5.32243299e-04, 5.28787174e-04,\n",
              "       5.25364603e-04, 5.21975154e-04, 5.18618401e-04, 5.15293924e-04,\n",
              "       5.12001311e-04, 5.08740156e-04, 5.05510060e-04, 5.02310629e-04,\n",
              "       4.99141477e-04, 4.96002222e-04, 4.92892490e-04, 4.89811912e-04,\n",
              "       4.86760125e-04, 4.83736770e-04, 4.80741496e-04, 4.77773956e-04,\n",
              "       4.74833808e-04, 4.71920717e-04, 4.69034352e-04, 4.66174387e-04,\n",
              "       4.63340500e-04, 4.60532375e-04, 4.57749702e-04, 4.54992174e-04,\n",
              "       4.52259488e-04, 4.49551348e-04, 4.46867459e-04, 4.44207534e-04,\n",
              "       4.41571287e-04, 4.38958439e-04, 4.36368714e-04, 4.33801839e-04,\n",
              "       4.31257547e-04, 4.28735573e-04, 4.26235657e-04, 4.23757543e-04,\n",
              "       4.21300977e-04, 4.18865712e-04, 4.16451500e-04, 4.14058101e-04,\n",
              "       4.11685275e-04, 4.09332788e-04, 4.07000407e-04, 4.04687905e-04,\n",
              "       4.02395055e-04, 4.00121637e-04, 3.97867431e-04, 3.95632220e-04,\n",
              "       3.93415793e-04, 3.91217940e-04, 3.89038453e-04, 3.86877128e-04,\n",
              "       3.84733764e-04, 3.82608163e-04, 3.80500129e-04, 3.78409469e-04,\n",
              "       3.76335993e-04, 3.74279512e-04, 3.72239842e-04, 3.70216799e-04,\n",
              "       3.68210204e-04, 3.66219878e-04, 3.64245647e-04, 3.62287337e-04,\n",
              "       3.60344778e-04, 3.58417800e-04, 3.56506239e-04, 3.54609929e-04,\n",
              "       3.52728709e-04, 3.50862420e-04, 3.49010903e-04, 3.47174004e-04,\n",
              "       3.45351568e-04, 3.43543445e-04, 3.41749484e-04, 3.39969539e-04,\n",
              "       3.38203463e-04, 3.36451114e-04, 3.34712348e-04, 3.32987027e-04,\n",
              "       3.31275011e-04, 3.29576165e-04, 3.27890353e-04, 3.26217443e-04,\n",
              "       3.24557304e-04, 3.22909805e-04, 3.21274818e-04, 3.19652218e-04,\n",
              "       3.18041880e-04, 3.16443679e-04, 3.14857495e-04, 3.13283208e-04,\n",
              "       3.11720698e-04, 3.10169849e-04, 3.08630545e-04, 3.07102671e-04,\n",
              "       3.05586114e-04, 3.04080764e-04, 3.02586509e-04, 3.01103242e-04,\n",
              "       2.99630855e-04, 2.98169241e-04, 2.96718296e-04, 2.95277916e-04,\n",
              "       2.93847998e-04, 2.92428443e-04, 2.91019149e-04, 2.89620019e-04,\n",
              "       2.88230954e-04, 2.86851858e-04, 2.85482637e-04, 2.84123196e-04,\n",
              "       2.82773442e-04, 2.81433283e-04, 2.80102630e-04, 2.78781391e-04,\n",
              "       2.77469478e-04, 2.76166805e-04, 2.74873283e-04, 2.73588829e-04,\n",
              "       2.72313356e-04, 2.71046783e-04, 2.69789025e-04, 2.68540002e-04,\n",
              "       2.67299632e-04, 2.66067837e-04, 2.64844536e-04, 2.63629653e-04,\n",
              "       2.62423110e-04, 2.61224831e-04, 2.60034741e-04, 2.58852765e-04,\n",
              "       2.57678829e-04, 2.56512862e-04, 2.55354790e-04, 2.54204543e-04,\n",
              "       2.53062051e-04, 2.51927243e-04, 2.50800052e-04, 2.49680409e-04,\n",
              "       2.48568247e-04, 2.47463499e-04, 2.46366100e-04, 2.45275985e-04,\n",
              "       2.44193088e-04, 2.43117348e-04, 2.42048700e-04, 2.40987083e-04,\n",
              "       2.39932435e-04, 2.38884695e-04, 2.37843803e-04, 2.36809700e-04,\n",
              "       2.35782326e-04, 2.34761623e-04, 2.33747534e-04, 2.32740001e-04,\n",
              "       2.31738969e-04, 2.30744381e-04, 2.29756183e-04, 2.28774319e-04,\n",
              "       2.27798735e-04, 2.26829379e-04, 2.25866197e-04, 2.24909137e-04,\n",
              "       2.23958147e-04, 2.23013176e-04, 2.22074173e-04, 2.21141088e-04,\n",
              "       2.20213872e-04, 2.19292475e-04, 2.18376849e-04, 2.17466945e-04,\n",
              "       2.16562717e-04, 2.15664116e-04, 2.14771097e-04, 2.13883613e-04,\n",
              "       2.13001619e-04, 2.12125069e-04, 2.11253919e-04, 2.10388124e-04,\n",
              "       2.09527641e-04, 2.08672426e-04, 2.07822437e-04, 2.06977630e-04,\n",
              "       2.06137964e-04, 2.05303397e-04, 2.04473889e-04, 2.03649397e-04,\n",
              "       2.02829883e-04, 2.02015305e-04, 2.01205624e-04, 2.00400802e-04,\n",
              "       1.99600798e-04, 1.98805576e-04, 1.98015097e-04, 1.97229322e-04,\n",
              "       1.96448216e-04, 1.95671741e-04, 1.94899860e-04, 1.94132538e-04,\n",
              "       1.93369738e-04, 1.92611426e-04, 1.91857565e-04, 1.91108121e-04,\n",
              "       1.90363060e-04, 1.89622348e-04, 1.88885951e-04, 1.88153835e-04,\n",
              "       1.87425967e-04, 1.86702314e-04, 1.85982845e-04, 1.85267526e-04,\n",
              "       1.84556327e-04, 1.83849214e-04, 1.83146158e-04, 1.82447127e-04,\n",
              "       1.81752090e-04, 1.81061018e-04, 1.80373879e-04, 1.79690645e-04,\n",
              "       1.79011285e-04, 1.78335771e-04, 1.77664073e-04, 1.76996163e-04,\n",
              "       1.76332012e-04, 1.75671592e-04, 1.75014876e-04, 1.74361836e-04,\n",
              "       1.73712443e-04, 1.73066672e-04, 1.72424495e-04, 1.71785886e-04,\n",
              "       1.71150818e-04, 1.70519265e-04, 1.69891202e-04, 1.69266602e-04,\n",
              "       1.68645440e-04, 1.68027691e-04, 1.67413330e-04, 1.66802333e-04,\n",
              "       1.66194674e-04, 1.65590330e-04, 1.64989276e-04, 1.64391488e-04,\n",
              "       1.63796944e-04, 1.63205619e-04, 1.62617491e-04, 1.62032536e-04,\n",
              "       1.61450732e-04, 1.60872055e-04, 1.60296484e-04, 1.59723997e-04,\n",
              "       1.59154571e-04, 1.58588185e-04, 1.58024816e-04, 1.57464445e-04,\n",
              "       1.56907048e-04, 1.56352606e-04, 1.55801098e-04, 1.55252503e-04,\n",
              "       1.54706800e-04, 1.54163969e-04, 1.53623990e-04, 1.53086843e-04,\n",
              "       1.52552509e-04, 1.52020967e-04, 1.51492198e-04, 1.50966184e-04,\n",
              "       1.50442904e-04, 1.49922340e-04, 1.49404474e-04, 1.48889286e-04,\n",
              "       1.48376758e-04, 1.47866872e-04, 1.47359610e-04, 1.46854954e-04,\n",
              "       1.46352886e-04, 1.45853388e-04, 1.45356443e-04, 1.44862033e-04,\n",
              "       1.44370142e-04, 1.43880752e-04, 1.43393846e-04, 1.42909407e-04,\n",
              "       1.42427419e-04, 1.41947865e-04, 1.41470730e-04, 1.40995996e-04,\n",
              "       1.40523647e-04, 1.40053669e-04, 1.39586044e-04, 1.39120757e-04,\n",
              "       1.38657793e-04, 1.38197135e-04, 1.37738770e-04, 1.37282682e-04,\n",
              "       1.36828854e-04, 1.36377274e-04, 1.35927926e-04, 1.35480794e-04,\n",
              "       1.35035866e-04, 1.34593125e-04, 1.34152558e-04, 1.33714151e-04,\n",
              "       1.33277890e-04, 1.32843760e-04, 1.32411748e-04, 1.31981839e-04,\n",
              "       1.31554021e-04, 1.31128280e-04, 1.30704602e-04, 1.30282975e-04,\n",
              "       1.29863384e-04, 1.29445817e-04, 1.29030260e-04, 1.28616702e-04,\n",
              "       1.28205128e-04, 1.27795527e-04, 1.27387886e-04, 1.26982192e-04,\n",
              "       1.26578433e-04, 1.26176597e-04, 1.25776671e-04, 1.25378644e-04,\n",
              "       1.24982502e-04, 1.24588236e-04, 1.24195832e-04, 1.23805279e-04,\n",
              "       1.23416565e-04, 1.23029680e-04, 1.22644610e-04, 1.22261346e-04,\n",
              "       1.21879875e-04, 1.21500187e-04, 1.21122271e-04, 1.20746114e-04,\n",
              "       1.20371708e-04, 1.19999040e-04, 1.19628100e-04, 1.19258878e-04,\n",
              "       1.18891362e-04, 1.18525542e-04, 1.18161408e-04, 1.17798950e-04,\n",
              "       1.17438157e-04, 1.17079019e-04, 1.16721526e-04, 1.16365667e-04,\n",
              "       1.16011434e-04, 1.15658816e-04, 1.15307803e-04, 1.14958385e-04,\n",
              "       1.14610553e-04, 1.14264298e-04, 1.13919609e-04, 1.13576478e-04,\n",
              "       1.13234894e-04, 1.12894850e-04, 1.12556334e-04, 1.12219339e-04,\n",
              "       1.11883856e-04, 1.11549874e-04, 1.11217386e-04, 1.10886381e-04,\n",
              "       1.10556853e-04, 1.10228791e-04, 1.09902187e-04, 1.09577033e-04,\n",
              "       1.09253319e-04, 1.08931038e-04, 1.08610181e-04, 1.08290739e-04,\n",
              "       1.07972705e-04, 1.07656069e-04, 1.07340824e-04, 1.07026962e-04,\n",
              "       1.06714475e-04, 1.06403354e-04, 1.06093592e-04, 1.05785180e-04,\n",
              "       1.05478111e-04, 1.05172378e-04, 1.04867971e-04, 1.04564885e-04,\n",
              "       1.04263110e-04, 1.03962640e-04, 1.03663467e-04, 1.03365583e-04,\n",
              "       1.03068982e-04, 1.02773655e-04, 1.02479596e-04, 1.02186797e-04,\n",
              "       1.01895252e-04, 1.01604952e-04, 1.01315891e-04, 1.01028062e-04,\n",
              "       1.00741457e-04, 1.00456071e-04, 1.00171895e-04, 9.98889235e-05,\n",
              "       9.96071494e-05, 9.93265659e-05, 9.90471663e-05, 9.87689439e-05,\n",
              "       9.84918921e-05, 9.82160045e-05, 9.79412744e-05, 9.76676954e-05,\n",
              "       9.73952611e-05, 9.71239651e-05, 9.68538011e-05, 9.65847628e-05,\n",
              "       9.63168439e-05, 9.60500382e-05, 9.57843396e-05, 9.55197420e-05,\n",
              "       9.52562393e-05, 9.49938254e-05, 9.47324944e-05, 9.44722403e-05,\n",
              "       9.42130572e-05, 9.39549392e-05, 9.36978806e-05, 9.34418754e-05,\n",
              "       9.31869180e-05, 9.29330027e-05, 9.26801238e-05, 9.24282757e-05,\n",
              "       9.21774527e-05, 9.19276493e-05, 9.16788600e-05, 9.14310793e-05,\n",
              "       9.11843017e-05, 9.09385219e-05, 9.06937345e-05, 9.04499342e-05,\n",
              "       9.02071155e-05, 8.99652734e-05, 8.97244025e-05, 8.94844977e-05,\n",
              "       8.92455538e-05, 8.90075656e-05, 8.87705282e-05, 8.85344364e-05,\n",
              "       8.82992851e-05, 8.80650695e-05, 8.78317846e-05, 8.75994253e-05,\n",
              "       8.73679870e-05, 8.71374646e-05, 8.69078533e-05, 8.66791485e-05,\n",
              "       8.64513452e-05, 8.62244388e-05, 8.59984245e-05, 8.57732977e-05,\n",
              "       8.55490538e-05, 8.53256882e-05, 8.51031961e-05, 8.48815732e-05,\n",
              "       8.46608149e-05, 8.44409167e-05, 8.42218741e-05, 8.40036827e-05,\n",
              "       8.37863381e-05, 8.35698360e-05, 8.33541719e-05, 8.31393415e-05,\n",
              "       8.29253407e-05, 8.27121650e-05, 8.24998103e-05, 8.22882723e-05,\n",
              "       8.20775469e-05, 8.18676299e-05, 8.16585171e-05, 8.14502046e-05,\n",
              "       8.12426882e-05, 8.10359638e-05, 8.08300274e-05, 8.06248750e-05,\n",
              "       8.04205027e-05, 8.02169065e-05, 8.00140825e-05, 7.98120267e-05,\n",
              "       7.96107353e-05, 7.94102045e-05, 7.92104304e-05, 7.90114092e-05,\n",
              "       7.88131372e-05, 7.86156105e-05, 7.84188255e-05, 7.82227785e-05,\n",
              "       7.80274657e-05, 7.78328835e-05, 7.76390282e-05, 7.74458963e-05,\n",
              "       7.72534841e-05, 7.70617881e-05, 7.68708048e-05, 7.66805305e-05,\n",
              "       7.64909618e-05, 7.63020953e-05, 7.61139273e-05, 7.59264546e-05,\n",
              "       7.57396737e-05, 7.55535811e-05, 7.53681735e-05, 7.51834476e-05,\n",
              "       7.49994000e-05, 7.48160274e-05, 7.46333265e-05, 7.44512940e-05,\n",
              "       7.42699266e-05, 7.40892212e-05, 7.39091745e-05, 7.37297833e-05,\n",
              "       7.35510444e-05, 7.33729547e-05, 7.31955111e-05, 7.30187103e-05,\n",
              "       7.28425494e-05, 7.26670252e-05, 7.24921346e-05, 7.23178747e-05,\n",
              "       7.21442423e-05, 7.19712345e-05, 7.17988483e-05, 7.16270808e-05,\n",
              "       7.14559288e-05, 7.12853896e-05, 7.11154602e-05, 7.09461377e-05,\n",
              "       7.07774192e-05, 7.06093018e-05, 7.04417827e-05, 7.02748590e-05,\n",
              "       7.01085280e-05, 6.99427868e-05, 6.97776326e-05, 6.96130628e-05,\n",
              "       6.94490744e-05, 6.92856648e-05, 6.91228313e-05, 6.89605711e-05,\n",
              "       6.87988816e-05, 6.86377601e-05, 6.84772039e-05, 6.83172105e-05,\n",
              "       6.81577771e-05, 6.79989011e-05, 6.78405801e-05, 6.76828113e-05,\n",
              "       6.75255922e-05, 6.73689203e-05, 6.72127930e-05, 6.70572078e-05,\n",
              "       6.69021623e-05, 6.67476538e-05, 6.65936800e-05, 6.64402383e-05,\n",
              "       6.62873264e-05, 6.61349417e-05, 6.59830819e-05, 6.58317446e-05,\n",
              "       6.56809273e-05, 6.55306277e-05, 6.53808434e-05, 6.52315721e-05,\n",
              "       6.50828114e-05, 6.49345590e-05, 6.47868125e-05, 6.46395698e-05,\n",
              "       6.44928284e-05, 6.43465862e-05, 6.42008408e-05, 6.40555900e-05,\n",
              "       6.39108316e-05, 6.37665634e-05, 6.36227831e-05, 6.34794885e-05,\n",
              "       6.33366775e-05, 6.31943479e-05, 6.30524975e-05, 6.29111242e-05,\n",
              "       6.27702258e-05, 6.26298003e-05, 6.24898454e-05, 6.23503591e-05,\n",
              "       6.22113394e-05, 6.20727841e-05, 6.19346911e-05, 6.17970585e-05,\n",
              "       6.16598841e-05, 6.15231659e-05, 6.13869020e-05, 6.12510903e-05,\n",
              "       6.11157287e-05, 6.09808154e-05, 6.08463484e-05, 6.07123256e-05,\n",
              "       6.05787451e-05, 6.04456050e-05, 6.03129033e-05, 6.01806382e-05,\n",
              "       6.00488077e-05, 5.99174098e-05, 5.97864428e-05, 5.96559047e-05,\n",
              "       5.95257937e-05, 5.93961079e-05, 5.92668454e-05, 5.91380044e-05,\n",
              "       5.90095832e-05, 5.88815797e-05, 5.87539923e-05, 5.86268192e-05,\n",
              "       5.85000585e-05, 5.83737085e-05, 5.82477674e-05, 5.81222334e-05,\n",
              "       5.79971048e-05, 5.78723798e-05, 5.77480568e-05, 5.76241339e-05,\n",
              "       5.75006095e-05, 5.73774819e-05, 5.72547493e-05, 5.71324101e-05,\n",
              "       5.70104626e-05, 5.68889051e-05, 5.67677359e-05, 5.66469535e-05,\n",
              "       5.65265562e-05, 5.64065423e-05, 5.62869101e-05, 5.61676582e-05,\n",
              "       5.60487849e-05, 5.59302885e-05, 5.58121675e-05, 5.56944203e-05,\n",
              "       5.55770453e-05, 5.54600410e-05, 5.53434058e-05, 5.52271382e-05,\n",
              "       5.51112365e-05, 5.49956993e-05, 5.48805251e-05, 5.47657123e-05,\n",
              "       5.46512594e-05, 5.45371649e-05, 5.44234273e-05, 5.43100452e-05,\n",
              "       5.41970170e-05, 5.40843413e-05, 5.39720166e-05, 5.38600415e-05,\n",
              "       5.37484144e-05, 5.36371341e-05, 5.35261989e-05, 5.34156076e-05,\n",
              "       5.33053587e-05, 5.31954507e-05, 5.30858823e-05, 5.29766521e-05,\n",
              "       5.28677587e-05, 5.27592007e-05, 5.26509767e-05, 5.25430853e-05,\n",
              "       5.24355253e-05, 5.23282952e-05, 5.22213936e-05, 5.21148194e-05,\n",
              "       5.20085710e-05, 5.19026472e-05, 5.17970467e-05, 5.16917682e-05,\n",
              "       5.15868103e-05, 5.14821717e-05, 5.13778512e-05, 5.12738475e-05,\n",
              "       5.11701592e-05, 5.10667851e-05, 5.09637240e-05, 5.08609746e-05,\n",
              "       5.07585356e-05, 5.06564057e-05, 5.05545838e-05, 5.04530686e-05,\n",
              "       5.03518588e-05, 5.02509533e-05, 5.01503508e-05, 5.00500500e-05,\n",
              "       4.99500500e-05, 4.98503493e-05, 4.97509468e-05, 4.96518413e-05,\n",
              "       4.95530317e-05, 4.94545167e-05, 4.93562952e-05, 4.92583660e-05,\n",
              "       4.91607281e-05, 4.90633801e-05, 4.89663210e-05, 4.88695496e-05,\n",
              "       4.87730648e-05, 4.86768654e-05, 4.85809504e-05, 4.84853186e-05,\n",
              "       4.83899690e-05, 4.82949003e-05, 4.82001114e-05, 4.81056014e-05,\n",
              "       4.80113691e-05, 4.79174134e-05, 4.78237332e-05, 4.77303275e-05,\n",
              "       4.76371951e-05, 4.75443351e-05, 4.74517463e-05, 4.73594277e-05,\n",
              "       4.72673783e-05, 4.71755970e-05, 4.70840828e-05, 4.69928345e-05,\n",
              "       4.69018513e-05, 4.68111321e-05, 4.67206758e-05, 4.66304814e-05,\n",
              "       4.65405480e-05, 4.64508745e-05, 4.63614599e-05, 4.62723033e-05,\n",
              "       4.61834035e-05, 4.60947598e-05, 4.60063710e-05, 4.59182362e-05,\n",
              "       4.58303544e-05, 4.57427246e-05, 4.56553460e-05, 4.55682174e-05,\n",
              "       4.54813381e-05, 4.53947070e-05, 4.53083231e-05, 4.52221856e-05,\n",
              "       4.51362936e-05, 4.50506459e-05, 4.49652419e-05, 4.48800804e-05,\n",
              "       4.47951607e-05, 4.47104817e-05, 4.46260427e-05, 4.45418426e-05,\n",
              "       4.44578806e-05, 4.43741558e-05, 4.42906672e-05, 4.42074141e-05,\n",
              "       4.41243955e-05, 4.40416105e-05, 4.39590583e-05, 4.38767380e-05,\n",
              "       4.37946486e-05, 4.37127895e-05, 4.36311596e-05, 4.35497582e-05,\n",
              "       4.34685844e-05, 4.33876373e-05, 4.33069161e-05, 4.32264200e-05,\n",
              "       4.31461481e-05, 4.30660996e-05, 4.29862736e-05, 4.29066694e-05,\n",
              "       4.28272861e-05, 4.27481229e-05, 4.26691790e-05, 4.25904536e-05,\n",
              "       4.25119459e-05, 4.24336550e-05, 4.23555802e-05, 4.22777207e-05,\n",
              "       4.22000756e-05, 4.21226443e-05, 4.20454259e-05, 4.19684196e-05,\n",
              "       4.18916247e-05, 4.18150404e-05, 4.17386659e-05, 4.16625004e-05,\n",
              "       4.15865433e-05, 4.15107936e-05, 4.14352508e-05])"
            ]
          },
          "metadata": {
            "tags": []
          },
          "execution_count": 15
        }
      ]
    }
  ]
}